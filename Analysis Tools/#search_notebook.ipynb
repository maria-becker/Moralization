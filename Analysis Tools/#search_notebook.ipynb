{
 "cells": [
  {
   "cell_type": "markdown",
   "metadata": {},
   "source": [
    "# Instanzen-Suche\n",
    "Mit diesem Notebook können alle Instanzen aufgelistet werden, die bestimmte Bedingungen erfüllen. Die Bedingungen können frei gewählt werden. Sie bestehen aus einer Annotationskategorie und einer weiteren Bedingung. Folgende Suchparameter gibt es:\n",
    "+ nach Wörtern (Lexemen)\n",
    "+ Nach Wortarten oder Wortartenlisten (benutzt wird das [Stuttgart-Tübingen-Tagset](https://homepage.ruhr-uni-bochum.de/stephen.berman/Korpuslinguistik/Tagsets-STTS.html) oder [Universal POS tags](https://universaldependencies.org/u/pos/))\n",
    "+ Nach Anzahl vergebener Kategorietags (z.B.: 3 Moralwerte)\n",
    "+ Nach bestimmten Annotationslabels (z.B.: Forderer)\n",
    "\n",
    "Bezüglich der Annotationskategorien stehen Folgende zur Verfügung:\n",
    "+ *obj_morals*: Alle Moralwerte, die keine subjektiven Ausdrücke sind\n",
    "+ *subj_morals*: Moralwerte, die subjektive Ausdrücke sind\n",
    "+ *all_morals*: Alle Moralwerte\n",
    "+ *protagonists*: Alle Protagonisten-Token\n",
    "+ *protagonists_doubles*: Alle Protagonisten-Rollen (Achtung: manche Protagonisten-Token werden dabei doppelt gezählt - nämlich, wenn sie mehrere Rollen haben)\n",
    "+ *com_functions*: Kommunikative Funktionen\n",
    "+ *expl_demands*: Explizite Forderungen\n",
    "+ *impl_demands*: Implizite Forderungen\n",
    "+ *all_demands*: Alle Forderungen"
   ]
  },
  {
   "cell_type": "markdown",
   "metadata": {},
   "source": [
    "## Setup"
   ]
  },
  {
   "cell_type": "markdown",
   "metadata": {},
   "source": [
    "Muss ausgeführt werden, wenn das Notebook in Colab ausgeführt wird.\n",
    "Das Laden der Spacy-Modelle kann länger dauern; man kann es beschleunigen, indem man nur die Sprachen läd, die man benötigt (und die anderen Befehlszeilen löscht)."
   ]
  },
  {
   "cell_type": "code",
   "execution_count": 1,
   "metadata": {},
   "outputs": [
    {
     "name": "stdout",
     "output_type": "stream",
     "text": [
      "This code should be run in Google Colab only.\n"
     ]
    }
   ],
   "source": [
    "import os\n",
    "\n",
    "if 'google.colab' in str(get_ipython()):\n",
    "    from google.colab import drive\n",
    "    drive.mount('/content/drive')\n",
    "    %git clone https://github.com/maria-becker/Moralization/\n",
    "    %pip install HanTa\n",
    "    %pip install xlsxwriter\n",
    "    %pip install spacy\n",
    "\n",
    "    %python -m spacy download de_core_web_lg\n",
    "    %python -m spacy download en_core_web_lg\n",
    "    %python -m spacy download fr_core_web_lg\n",
    "    %python -m spacy download it_core_web_lg\n",
    "\n",
    "    %cd \"/content/Moralization/Annotation Analysis Tools/data_analysis\"\n",
    "else:\n",
    "    print(\"This code should be run in Google Colab only.\")"
   ]
  },
  {
   "cell_type": "markdown",
   "metadata": {},
   "source": [
    "Die import-Statements müssen immer ausgeführt werden."
   ]
  },
  {
   "cell_type": "code",
   "execution_count": 2,
   "metadata": {},
   "outputs": [],
   "source": [
    "from analysis_functions import (\n",
    "    filtering_corpus,\n",
    "    _util_ as util,\n",
    "    _corpus_extraction_ as ce\n",
    ")"
   ]
  },
  {
   "cell_type": "markdown",
   "metadata": {},
   "source": [
    "## Suchfunktionen (Einzelte Korpusdateien)\n",
    "Code für die Analyse einzelner XMI-Dateien."
   ]
  },
  {
   "cell_type": "markdown",
   "metadata": {},
   "source": [
    "Hier bitte eine Liste *file_list* erstellen, die die Dateipfade zu allen Korpusdateien enthält, die ihr analysieren wollt.\n",
    "+ *Am einfachsten erhält man einen Dateipfad, indem man die Datei im Ordersystem rechtsklickt und dann -> 'Pfad kopieren' auswählt. Und unbedingt den Pfad in Anführungszeichen setzen und davor ein kleines \"r\"!*\n",
    "+ *Wer sich ein bisschen auskennt, kann zum Erstellen der Liste auch das os-Modul benutzen, das aus diesem Grund oben importiert wurde.*\n",
    "\n",
    "Bei der Erstellung des corpus-Objekts ist zu beachten, welche Sprache im Korpus vertreten ist.\n",
    "    + Deutsch ('de')\n",
    "    + Englisch ('en')\n",
    "    + Französisch ('fr')\n",
    "    + Italienisch ('it')\n",
    "Mehrsprachliche Korpora werden nicht unterstützt."
   ]
  },
  {
   "cell_type": "code",
   "execution_count": 3,
   "metadata": {},
   "outputs": [],
   "source": [
    "filepaths = [\n",
    "    r\"/home/brunobrocai/Desktop/Gerichtsurteile-pos-AW-neu-optimiert-BB_vergoldet.xmi\",\n",
    "]\n",
    "corpus_collection = ce.Corpus(filepaths, 'ger')"
   ]
  },
  {
   "cell_type": "markdown",
   "metadata": {},
   "source": [
    "Mit der folgenden Funktion kann nach Lexemen, die als eine bestimmte Kategorie annotiert wurden, gesucht werden.\n",
    "\n",
    "Parameter:\n",
    "+ Der erste Parameter ist die Korpussammlumg. Hier einfach *corpus_collection* stehen lassen.\n",
    "+ Der zweite Parameter ist das Lexem, das gesucht werden soll\n",
    "+ Der dritte Parameter ist die Kategorie, in der die Wortart gesucht werden soll, s.o.\n",
    "+ Der vorletzte Parameter bestimmt, ob HanTa (*True*) oder Spacy zum Lemmatisieren eingesetzt werden soll. **Achtung: HanTa eignet sich nur für Deutsch und Englisch (erzielt dort aber evtl. bessere Ergebnisse)!**\n",
    "+ Der letzte Parameter *export* (*True* oder *False*) gibt an, ob die Daten als Excel-Datei im derzeitigen Verzeichnis abgelegt werden sollen."
   ]
  },
  {
   "cell_type": "code",
   "execution_count": 4,
   "metadata": {},
   "outputs": [
    {
     "name": "stdout",
     "output_type": "stream",
     "text": [
      "GERICHTSURTEILE-POS-AW-NEU-OPTIMIERT-BB_VERGOLDET.XMI\n",
      "„Sie war und ist eine Organisation, die Bestrebungen verfolgt, die mit unserer Verfassungsordnung nicht vereinbar sind”, sagte Rech. Milli Görüs sei gegen die freiheitliche demokratische Grundordnung gerichtet und stehe in krassem Gegensatz zu den Grundrechten, DER MENSCHENWÜRDE, der Gleichberechtigung von Mann und Frau sowie der Religionsfreiheit.\n",
      "„DIE MENSCHENWÜRDE ist migrationspolitisch nicht zu relativieren“, heißt es in der Entscheidung.\n",
      "Allerdings sieht das Gericht in den bisherigen Bestimmungen auch EINE VERLETZUNG DER MENSCHENWÜRDE UND DES SOZIALSTAATSPRINZIPS. Vor allem wohl deshalb, weil versäumt wurde, den genauen Bedarf von Kindern zu ermitteln und auch zu definieren.\n",
      "Der Mann fand dies unzumutbar, weil ihm weniger als das Existenzminimum verbleibe. Seine Rechte auf MENSCHENWÜRDE und körperliche Unversehrtheit seien damit verletzt. Diese Sichtweise lehnten die Richter ab.\n",
      "Ein solches Arbeitsentgelt verstoße gegen DIE GRUNDRECHTE DER MENSCHENWÜRDE und der freien Entfaltung der Persönlichkeit sowie gegen die Vorgaben der Europäischen Sozialcharta.\n",
      "\n",
      "\n"
     ]
    }
   ],
   "source": [
    "word_labels = filtering_corpus.lemmata_category_instances(\n",
    "    corpus_collection,\n",
    "    \"Menschenwürde\",\n",
    "    \"all_morals\",\n",
    "    tagger=\"Spacy\",\n",
    "    export=False\n",
    ")\n",
    "util.print_subcorp_dict(word_labels)"
   ]
  },
  {
   "cell_type": "markdown",
   "metadata": {},
   "source": [
    "Mit der folgenden Funktion kann nach Wortarten, die als eine bestimmte Kategorie annotiert wurden, gesucht werden.\n",
    "Wird mit HanTa (s.u.) getaggt, nutzt die Funktion das [Stuttgart-Tübingen-Tagset](https://homepage.ruhr-uni-bochum.de/stephen.berman/Korpuslinguistik/Tagsets-STTS.html). Andernfalls - also mit Spacy - wird [Universal POS tags](https://universaldependencies.org/u/pos/) benutzt, das etwas allgemeiner ist.\n",
    "\n",
    "Parameter:\n",
    "+ Der erste Parameter ist die Korpussammlumg. Hier einfach *corpus_collection* stehen lassen.\n",
    "+ Der zweite Parameter ist die Wortart, die gesucht werden soll\n",
    "+ Der dritte Parameter ist die Kategorie, in der das Lexem gesucht werden soll, s.o.\n",
    "+ Der vorletzte Parameter bestimmt, ob HanTa (*True*) oder Spacy zum Lemmatisieren eingesetzt werden soll. **Achtung: HanTa eignet sich nur für Deutsch und Englisch (erzielt dort aber evtl. bessere Ergebnisse)!**\n",
    "+ Der letzte Parameter *export* (*True* oder *False*) gibt an, ob die Daten als Excel-Datei im derzeitigen Verzeichnis abgelegt werden sollen."
   ]
  },
  {
   "cell_type": "code",
   "execution_count": 5,
   "metadata": {},
   "outputs": [
    {
     "name": "stdout",
     "output_type": "stream",
     "text": [
      "KeyError: {'Coordinates': (183764, 183816), 'Rolle': 'Forderer:in', 'Gruppe': 'Individuum', 'own/other': None} -- Is the label inside a moralization?\n",
      "GERICHTSURTEILE-POS-AW-NEU-OPTIMIERT-BB_VERGOLDET.XMI\n",
      "DIE FAZ argumentiert, die Methode schaffe nicht genug Transparenz für die Werbewirtschaft, DIE IVW wende eigene Regeln zur gemeinsamen Auflagenausweisung nicht korrekt an. TOBIAS TREVISAN, SPRECHER DER FAZ-GESCHÄFTSFÜHRUNG, sagt: „Wir bieten der Werbewirtschaft eine Währung an und diese Währung verliert durch diese Ausweisungspraxis an Glaubwürdigkeit“.\n",
      "Zum Schutz der Bevölkerung\" sei dies dringend notwendig, so BECKSTEIN.\n",
      "GERICHTSPRÄSIDENT MICHAEL BERTRAMS stellte in der Verhandlung bereits fest, dass das Sondervermögen für die WestLB „faktisch nicht gebraucht“ werde. Er erinnerte außerdem an das Wirtschaftlichkeitsgebot der Verfassung, es „gründe in der Generationengerechtigkeit, dass auch künftige Generationen über Haushaltsspielraum verfügen“.\n",
      "Auch DER VIZE-FRAKTIONSVORSITZENDE DER EUROPÄISCHEN VOLKSPARTEI, MANFRED WEBER (CSU), zeigte sich erfreut. Es sei gut, wenn Humanität auch bei der Durchsetzung des Rechtsstaats einen Platz finde. DIE EU sei auch „ein Schutzraum für Flüchtlinge”.\n",
      "„Die Entscheidung“, findet RICHARD POUND, „untergräbt die Glaubwürdigkeit des Sports.“\n",
      "„Ich wollte mich klar davon abgrenzen, dass Leute ihre Individualität zugunsten der deutschen Fahne aufgeben”, so HAGEN.\n",
      "Schulen brauchen Planungssicherheit und keine politische Stümperei“, sagte DER VORSITZENDE DER CDU-LANDTAGSFRAKTION, KARL-JOSEF LAUMANN.\n",
      "Das Gericht folgte mit seinem Urteil der Staatsanwaltschaft, die einen „extremen Angriff auf die Presse und Informationsfreiheit“ beklagt hatte. Was bei DER TELEKOM geschehen sei, das sei ein „Super-Gau“ gewesen.\n",
      "„Es ist unverantwortlich, Biblis A länger als vereinbart am Netz zu lassen”, sagte RENATE BACKHAUS, ATOMEXPERTIN BEIM BUND FÜR UMWELT UND NATURSCHUTZ.\n",
      "Straferschwerend sei zu werten, dass SAPINA UND HOYZER das Vertrauen der Öffentlichkeit in die Fairness des Fußballsports und die Unparteilichkeit der Schiedsrichter massiv erschüttert hätten.\n",
      "SPD-LANDESCHEF NILS SCHMID besteht darauf, dass der Bündnispartner einem Volksentscheid über Stuttgart 21 zustimmt. „Wer mit uns koalieren will, der muss sich zu diesem Weg der Vernunft bekennen“, sagte SCHMID am Donnerstag.\n",
      "DFL-GESCHÄFTSFÜHRER HOLGER HIERONYMUS ergänzte: \"Die Sicherheit des Zuschauers ist das höchste Gut.\"\n",
      "Die Entschädigungssummen müssten hoch sein, „um abschreckende Wirkung zu haben“. LÜDERS sagt: „Nur so werden Betroffene auch wirklich ermutigt, selbst rechtlich gegen Diskriminierung vorzugehen.“\n",
      "MÜLLER nahm das Urteil gefasst auf, einmal nur schüttelte er den Kopf. „Die Gerechtigkeit bleibt auf der Strecke“, kritisierte seine Mutter, die vor dem Gerichtssaal gewartet hatte.\n",
      "Was DEN ZUSTÄNDIGEN STAATSSCHUTZSENAT DES BGH zu deutlichen Worten veranlasste: Auch wenn es um die Aufklärung tödlicher Terroranschläge gehe, gelte der Grundsatz, dass die Wahrheit nicht um den Preis der Lebensgefährdung einer schwerkranken Zeugin erforscht werden dürfe.\n",
      "Darin sieht KARLSRUHE eine Gefahr für die Unabhängigkeit der Beamten, die im Interesse einer rechtsstaatlichen Verwaltung gewährleistet sein müsse.\n",
      "DER OBSTKONZERN AUS CINCINNATI hatte die Zahlungen an die Milizen zugegeben, aber als notwendig verteidigt. Man habe das Leben bedrohter Mitarbeiter schützen müssen.\n",
      "Insbesondere störte sich KARLSRUHE an der Annahme einer „uneingeschränkten Verbreiterhaftung” und an scharfen Sorgfalts- oder Distanzierungspflichten. Es gehöre zur Meinungsfreiheit, auch über fremde Meinungen und Tatsachenbehauptungen zu informieren.\n",
      "DER EUGH ist hingegen der Ansicht, dass sich die Öffentlichkeit über mögliche Gefahren für die Umwelt und die menschliche Gesundheit informieren können\n",
      "DER BGH agiere zu kleinteilig und habe nicht den großen Zusammenhang im Blick, die „groß angelegte Täuschung der Anleger über die Werthaltigkeit und Sicherheit der Anleger“, sagte DER DÜSSELDORFER ANWALT JULIUS REITER, in dessen Kanzlei rund 300 solcher Fälle anhängig sind.\n",
      "KARLSRUHE zog zwar den Schutzbereich des Grundrechts der Meinungsfreiheit sehr weit und betonte „die Kraft der freien Auseinandersetzung als wirksamste Waffe auch gegen die Verbreitung totalitärer und menschenverachtender Ideologien”.\n",
      "Schon deshalb, weil KARLSRUHE das NRW-Gesetz an einem weiteren, empfindlichen Punkt beanstandet hat. Die dort wie etwa auch in den Gesetzen BAYERNS und BADEN-WÜRTTEMBERGS vorgesehene Privilegierung zugunsten „christlich-abendländischer Bildungs- und Kulturwerte“ ist nichtig – weil Religionsfreiheit nicht teilbar ist, sondern eine Gleichbehandlung aller Glaubensrichtungen fordert.\n",
      "STEFAN RUPPERT, RECHTSPOLITISCHER SPRECHER DER FDP-BUNDESTAGSFRAKTION, erklärte, es greife zu weit in das Erziehungsrecht der Eltern ein; er fragt: „Und was ist mit dem Ohrloch, das einem Kind gestochen wird?“\n",
      "PLOTTNITZ kritisierte zudem, das Gesetz verstoße gegen die staatliche Neutralität, indem es „religiöse Symbole oder Kleidungsmerkmale abendländischer oder christlicher Herkunft” privilegiere.\n",
      "„Sie war und ist eine Organisation, die Bestrebungen verfolgt, die mit unserer Verfassungsordnung nicht vereinbar sind”, sagte RECH. MILLI GÖRÜS sei gegen die freiheitliche demokratische Grundordnung gerichtet und stehe in krassem Gegensatz zu den Grundrechten, der Menschenwürde, der Gleichberechtigung von Mann und Frau sowie der Religionsfreiheit.\n",
      "Der Prozess habe „nicht einmal die Minimalstandards eines fairen Verfahrens erfüllt“, urteilt CHINAEXPERTE NICHOLAS BEQUELIN VON HUMAN RIGHTS WATCH. Es sei ein „politischer Prozess“ gewesen mit gleich drei groben Mängeln: „Er verweigerte BO ein gerechtes Verfahren, er verwehrte BOS OPFERN Gerechtigkeit und er verschwieg CHINAS ÖFFENTLICHKEIT die Wahrheit über Bos Machtmissbrauch.“ BOS brutales Vorgehen gegen politische Gegner in Chongqing war mit keinem Wort in der Anklage aufgetaucht.\n",
      "NORWEGEN müsse „Respekt zeigen vor dem Rechtssystem eines anderen Landes”.\n",
      "Kurz nach der Verfassungsänderung beantragte der Generalstaatsanwalt das Verbot DER AKP. Er wirft ihr vor, die säkulare Ordnung der Türkei umstürzen zu wollen.\n",
      "„JEROFEJEW und SAMODUROW haben das Schlimmste aller Verbrechen begangen: Sie haben den Glauben beleidigt“, sagt er. Er will die beiden im Lager schmoren sehen, drei Jahre, wie der Staatsanwalt gefordert hat.\n",
      "„Moralisch abstoßend” findet dagegen das US-Justizministerium die Hilfe für DIE PARAS.\n",
      "Bei der Entscheidung der Schulleitung, die Zwölfjährige zur Teilnahme am Schwimmunterricht zu verpflichten, gehe es „vor allem auch um die Persönlichkeitsentwicklung, die Gesundheit und die Integration des Mädchens”, sagte HENKELMANN. „Nur so kann HÜMEYRA zu einer autonomen und selbstbestimmten Persönlichkeit reifen.”\n",
      "Schon 2011 warnte PELL als Ehrengast der britischen klimaskeptischen Organisation Global Warming Policy Foundation (GWPF) vor der Moral, den Haushalten und Familien Kosten aufzubürden, ganz besonders den Armen, im Namen der Rettung des Planeten und in der Hoffnung, den Anstieg globaler Temperaturen zu bremsen.\n",
      "Demgegenüber sagte BILD-ANWALT THOMAS VON PLEHWE, ein solcher Anspruch würde in den Kernbereich der Pressefreiheit eingreifen.\n",
      "Die Gesundheit gehöre im Allgemeinen zur geschützten Privatsphäre und dürfe nur ausnahmsweise erörtert werden, entschied DER BGH.\n",
      "Auch VOLKER BECK, DER PARLAMENTARISCHE GESCHÄFTSFÜHRER DER GRÜNEN, nennt „diese Rechtsprechung mehr als fragwürdig“; er kann sich sogar neue Gesetze zum Schutz der Beschneidung vorstellen: „Wir müssen uns darüber Gedanken machen, ob wir die Religionsfreiheit der jüdischen und muslimischen Glaubensgemeinschaft besser schützen müssen“, sagte er.\n",
      "Das Kruzifix im Klassenzimmer sei Teil einer Tradition und symbolisiere – jenseits der religiösen Bedeutung – die Werte und Prinzipien, welche die westliche Demokratie und Zivilisation begründeten, hatten ITALIENS ANWÄLTE in STRAßBURG argumentiert.\n",
      "DER MEHRFACHE MINISTER UND HOHE BAATH-PARTEIFUNKTIONÄR MAJID wurde denn auch wegen Völkermordes, Kriegsverbrechen und Verbrechen gegen die Menschlichkeit verurteilt. Menschenrechtsgruppen äußerten aber Zweifel an der Fairness des Verfahrens gegen ihn.\n",
      "Die Richter, sagt LÜDERS, „sollten einen offenkundig rassistischen Hintergrund nicht bagatellisieren“.\n",
      "\n",
      "\n"
     ]
    }
   ],
   "source": [
    "pos_labels = filtering_corpus.pos_category_instances(\n",
    "    corpus_collection,\n",
    "    \"PROPN\",\n",
    "    \"protagonists\",\n",
    "    tagger=\"Spacy\",\n",
    "    export=False\n",
    ")\n",
    "util.print_subcorp_dict(pos_labels)"
   ]
  },
  {
   "cell_type": "markdown",
   "metadata": {},
   "source": [
    "Mit der folgenden Funktion kann nach einer Liste von Wortarten, die als eine bestimmte Kategorie annotiert wurden, gesucht werden. Dies ist vor allem daher sinnvoll, weil bestimmten Wortarten in den Tagsets mehr als ein Tag zugeordnet ist.\n",
    "Wird mit HanTa (s.u.) getaggt, nutzt die Funktion das [Stuttgart-Tübingen-Tagset](https://homepage.ruhr-uni-bochum.de/stephen.berman/Korpuslinguistik/Tagsets-STTS.html). Andernfalls - also mit Spacy - wird [Universal POS tags](https://universaldependencies.org/u/pos/) benutzt, das etwas allgemeiner ist.\n",
    "\n",
    "Parameter:\n",
    "+ Der erste Parameter ist die Korpussammlumg. Hier einfach *corpus_collection* stehen lassen.\n",
    "+ Der zweite Parameter ist die Wortart, die gesucht werden soll\n",
    "+ Der dritte Parameter ist die Kategorie, in der die Wortart gesucht werden soll, s.o.\n",
    "+ Der vorletzte Parameter bestimmt, ob HanTa (*True*) oder Spacy zum Lemmatisieren eingesetzt werden soll. **Achtung: HanTa eignet sich nur für Deutsch und Englisch (erzielt dort aber evtl. bessere Ergebnisse)!**\n",
    "+ Der letzte Parameter *export* (*True* oder *False*) gibt an, ob die Daten als Excel-Datei im derzeitigen Verzeichnis abgelegt werden sollen."
   ]
  },
  {
   "cell_type": "code",
   "execution_count": 6,
   "metadata": {},
   "outputs": [
    {
     "name": "stdout",
     "output_type": "stream",
     "text": [
      "KeyError: {'Coordinates': (183764, 183816), 'Rolle': 'Forderer:in', 'Gruppe': 'Individuum', 'own/other': None} -- Is the label inside a moralization?\n",
      "GERICHTSURTEILE-POS-AW-NEU-OPTIMIERT-BB_VERGOLDET.XMI\n",
      "DIE FAZ argumentiert, die Methode schaffe nicht genug Transparenz für die Werbewirtschaft, DIE IVW wende eigene Regeln zur gemeinsamen Auflagenausweisung nicht korrekt an. TOBIAS TREVISAN, SPRECHER DER FAZ-GESCHÄFTSFÜHRUNG, sagt: „Wir bieten der Werbewirtschaft eine Währung an und diese Währung verliert durch diese Ausweisungspraxis an Glaubwürdigkeit“.\n",
      "DFL-GESCHÄFTSFÜHRER HOLGER HIERONYMUS ergänzte: \"Die Sicherheit DES ZUSCHAUERS ist das höchste Gut.\"\n",
      "DER EUGH ist hingegen der Ansicht, dass sich DIE ÖFFENTLICHKEIT über mögliche Gefahren für die Umwelt und die menschliche Gesundheit informieren können\n",
      "\"Es ist das oberste Gebot eines jeden STAATES, SEINE KINDER zu schützen\", kommentierte DER RICHTER gestern sein Urteil.\n",
      "DAS OLG bestätigte die Anusinspektion als rechtmäßig und zumutbar, weil sie zur Wahrung der Ordnung erforderlich gewesen sei.\n",
      "Insbesondere störte sich KARLSRUHE an der Annahme einer „uneingeschränkten Verbreiterhaftung” und an scharfen Sorgfalts- oder Distanzierungspflichten. Es gehöre zur Meinungsfreiheit, auch über fremde Meinungen und Tatsachenbehauptungen zu informieren.\n",
      "Im Anschluss an die Veröffentlichung der Studie hat sich die Kritik am Vorgehen DER RÄUBERISCHEN AKTIONÄRE in den vergangenen Wochen verstärkt. Denn der Grundsatz der Gleichbehandlung ALLER AKTIONÄRE verbietet, dass sich einzelne Sondervorteile versprechen lassen.\n",
      "DIE 2. KAMMER DES ERSTEN SENATS sah sich gleichwohl – weil es noch um die Erstattung der Prozesskosten ging – nicht an einer inhaltlichen Entscheidung gehindert und brachte Grundrechtsdogmatik und gesunden Menschenverstand wieder in Einklang: Die Befreiung von der Gebühr sei ein Gebot der Gleichbehandlung, weil die Betroffenen trotz ihrer auf dem Papier höheren Bezüge am Ende schlechter dastünden als ein normaler Hartz-IV-Empfänger.\n",
      "KARLSRUHE zog zwar den Schutzbereich des Grundrechts der Meinungsfreiheit sehr weit und betonte „die Kraft der freien Auseinandersetzung als wirksamste Waffe auch gegen die Verbreitung totalitärer und menschenverachtender Ideologien”.\n",
      "„Es wird Zeit, dass in DIESEN FAMILIEN darüber nachgedacht wird, dass man so nicht in Frieden leben kann“, sagt DER RICHTER.\n",
      "PLOTTNITZ kritisierte zudem, das Gesetz verstoße gegen die staatliche Neutralität, indem es „religiöse Symbole oder Kleidungsmerkmale abendländischer oder christlicher Herkunft” privilegiere.\n",
      "Auch der Grundsatz der Chancengleichheit von WAHLBEWERBERN sei durch die Sperrklausel ohne rechtfertigende Gründe beeinträchtigt. So sei es nicht zulässig, mit Hilfe der Fünf-Prozent-Klausel VERFASSUNGSFEINDLICHE ODER EXTREMISTISCHE PARTEIEN fernhalten zu wollen.\n",
      "JÜDISCHE GEMEINDEN, DIE AUßERHALB DES ZENTRALRATS STEHEN, haben ebenfalls das Recht, paritätisch berücksichtigt zu werden. Anderenfalls werde die religiös-weltanschauliche Neutralität verletzt.\n",
      "Demgegenüber sagte BILD-ANWALT THOMAS VON PLEHWE, ein solcher Anspruch würde in den Kernbereich der Pressefreiheit eingreifen.\n",
      "Der Einzelne ist darauf angewiesen, dass DER STAAT die mit Blick auf die ungehinderte Persönlichkeitsentfaltung berechtigten Erwartungen an die Integrität und Vertraulichkeit derartiger Systeme achtet.\n",
      "DAS KARLSRUHER GERICHT stellte klar, dass die Unterhaltspflicht DER KINDER für IHRE PFLEGEBEDÜRFTIGEN ELTERN zur innerfamiliären Solidarität gehört – und zwar auch dann, wenn DIE KINDER wegen einer „schicksalsbedingten“ Krankheit wenig von den Eltern hatten.\n",
      "STEFAN RUPPERT, RECHTSPOLITISCHER SPRECHER DER FDP-BUNDESTAGSFRAKTION, erklärte, es greife zu weit in das Erziehungsrecht DER ELTERN ein; er fragt: „Und was ist mit dem Ohrloch, das einem Kind gestochen wird?“\n",
      "Der SEK-Einsatz stelle einen „Verstoß gegen den Grundsatz der Verhältnismäßigkeit” dar, urteilte DAS GERICHT.\n",
      "Mit dem Grundsatz, dass EIN STRAFGERICHT in öffentlicher Verhandlung die Wahrheit erforschen soll, hat so eine Verhandlung aber nichts mehr zu tun.\n",
      "Das Kruzifix im Klassenzimmer sei Teil einer Tradition und symbolisiere – jenseits der religiösen Bedeutung – die Werte und Prinzipien, welche die westliche Demokratie und Zivilisation begründeten, hatten ITALIENS ANWÄLTE in STRAßBURG argumentiert.\n",
      "„Sie war und ist eine Organisation, die Bestrebungen verfolgt, die mit unserer Verfassungsordnung nicht vereinbar sind”, sagte Rech. MILLI GÖRÜS sei gegen die freiheitliche demokratische Grundordnung gerichtet und stehe in krassem Gegensatz zu den Grundrechten, der Menschenwürde, der Gleichberechtigung von Mann und Frau sowie der Religionsfreiheit.\n",
      "DEM MEHRFACH VORBESTRAFTEN NEONAZI war nach der Haftentlassung die Weisung erteilt worden, fünf Jahre lang kein „rechtsextremistisches oder nationalsozialistisches Gedankengut publizistisch zu verbreiten“. DEM GERICHT ZUFOLGE ist die Anordnung zu weit gefasst, weil sie auch legale Äußerungen umfasst; sie komme einer zeitweiligen „Aberkennung der Meinungsfreiheit“ nahe.\n",
      "„Bei dem Pokerüberfall handelte es sich um einen Akt der Schwerkriminalität“, sagte DER VORSITZENDE RICHTER, der drei Angeklagte nach dem Jugendstrafrecht verurteilt und bei zweien die Kronzeugenregelung angewandt hat. Mehr Milde sei nicht angemessen, „deutliche Sanktionen sind erzieherisch geboten.“\n",
      "EIN FRANZÖSISCHES GERICHT hatte die Klage DES MANNES abgelehnt mit der Begründung, dass solche Informationen die Sicherheit und die Privatsphäre DER BETRIEBSINHABER gefährdeten.\n",
      "„Die Entscheidung“, findet RICHARD POUND, „untergräbt die Glaubwürdigkeit des Sports.“\n",
      "DER GRIECHISCHE ZENTRALRAT betont, das fundamentale Recht der Meinungsfreiheit dürfe nicht dazu dienen, Hass und Antisemitismus zu verbreiten.\n",
      "DER OBSTKONZERN AUS CINCINNATI hatte die Zahlungen an die Milizen zugegeben, aber als notwendig verteidigt. Man habe das Leben BEDROHTER MITARBEITER schützen müssen.\n",
      "Die Mehrheitsentscheidung untergrabe einen Grundgedanken der Anti-Diskriminierungsgesetze DES LANDES. „DER KONGRESS wollte tatsächliche Chancengleichheit schaffen - und nicht nur der Form nach.”\n",
      "NORWEGEN müsse „Respekt zeigen vor dem Rechtssystem EINES ANDEREN LANDES”.\n",
      "Das „spezifische Abhängigkeitsverhältnis“ zwischen SCHÜLERN und PÄDAGOGEN mache eine strikte Neutralität DES STAATES notwendig.\n",
      "Kurz nach der Verfassungsänderung beantragte DER GENERALSTAATSANWALT das Verbot DER AKP. Er wirft ihr vor, die säkulare Ordnung der Türkei umstürzen zu wollen.\n",
      "Es wird höchste Zeit, dass ein Urheberrecht geschaffen wird, das weltweit gilt, von ALLEN verstanden wird - und DIE KÜNSTLER gerecht finanziert.\n",
      "DIE TOCHTER kündigte an, das Urteil anzufechten. „Hier ist nicht nach der Gerechtigkeit geurteilt worden”, sagte sie.\n",
      "Der Prozess habe „nicht einmal die Minimalstandards eines fairen Verfahrens erfüllt“, urteilt CHINAEXPERTE NICHOLAS BEQUELIN VON HUMAN RIGHTS WATCH. Es sei ein „politischer Prozess“ gewesen mit gleich drei groben Mängeln: „Er verweigerte Bo ein gerechtes Verfahren, er verwehrte BOS OPFERN Gerechtigkeit und er verschwieg CHINAS ÖFFENTLICHKEIT die Wahrheit über Bos Machtmissbrauch.“ BOS brutales Vorgehen gegen POLITISCHE GEGNER in Chongqing war mit keinem Wort in der Anklage aufgetaucht.\n",
      "GERICHTSPRÄSIDENT MICHAEL BERTRAMS stellte in der Verhandlung bereits fest, dass das Sondervermögen für die WestLB „faktisch nicht gebraucht“ werde. Er erinnerte außerdem an das Wirtschaftlichkeitsgebot der Verfassung, es „gründe in der Generationengerechtigkeit, dass auch KÜNFTIGE GENERATIONEN über Haushaltsspielraum verfügen“.\n",
      "DIE SENATSMEHRHEIT dagegen sieht DIE SCHULE als den Ort, an dem gesellschaftliche Vielfalt eingeübt wird.\n",
      "Integration setze voraus, dass sich MINDERHEITEN nicht abgrenzten und einem Dialog nicht verschlössen.\n",
      "Doch nicht nur DIE STUDENTEN müssen den Weg zur Eigenverantwortung finden, auch DIE HOCHSCHULLEHRER müssen ihren Teil dessen tun, was SCHULMEISTER als Gesellschaftsvertrag, beruhend auf gemeinsamer Verantwortung bezeichnet.\n",
      "DIE RICHTER betonten, eine Preisanpassungsklausel müsse „den Anforderungen an Treu und Glauben, Ausgewogenheit und Transparenz genügen“. Das bedeutet: DER VERSORGER muss SEINEN KUNDEN Anlass und Ablauf einer Preiserhöhung klar darstellen.\n",
      "„Moralisch abstoßend” findet dagegen DAS US-JUSTIZMINISTERIUM die Hilfe für DIE PARAS.\n",
      "DIE STAATSANWALTSCHAFT warf ihr vor, Vertrauen missbraucht zu haben. „PATIENTEN müssen sich darauf verlassen können, dass ÄRZTE über ein geprüftes Fachwissen verfügen.”\n",
      "DER BGH agiere zu kleinteilig und habe nicht den großen Zusammenhang im Blick, die „groß angelegte Täuschung DER ANLEGER über die Werthaltigkeit und Sicherheit der Anleger“, sagte DER DÜSSELDORFER ANWALT JULIUS REITER, in dessen Kanzlei rund 300 solcher Fälle anhängig sind.\n",
      "DER GESETZGEBER hat geregelt, dass „unterschiedliche Behandlung wegen des Alters” zulässig ist, „wenn sie objektiv und angemessen und durch ein legitimes Ziel gerechtfertigt ist”.\n",
      "Wer „in Gegenwart dritter Personen seine Genitalien betastet, demonstriert einen Mangel an Sitte und Erziehung”, schimpften DIE RICHTER.\n",
      "DIE RICHTER, sagt LÜDERS, „sollten einen offenkundig rassistischen Hintergrund nicht bagatellisieren“.\n",
      "Die Gesundheit gehöre im Allgemeinen zur geschützten Privatsphäre und dürfe nur ausnahmsweise erörtert werden, entschied DER BGH.\n",
      "DER MEHRFACHE MINISTER UND HOHE BAATH-PARTEIFUNKTIONÄR MAJID wurde denn auch wegen Völkermordes, Kriegsverbrechen und Verbrechen gegen die Menschlichkeit verurteilt. MENSCHENRECHTSGRUPPEN äußerten aber Zweifel an der Fairness des Verfahrens gegen ihn.\n",
      "SCHULEN brauchen Planungssicherheit und keine politische Stümperei“, sagte DER VORSITZENDE DER CDU-LANDTAGSFRAKTION, KARL-JOSEF LAUMANN.\n",
      "In dem Zusammenhang bemängelten DIE RICHTER auch, dass DER GESETZGEBER bisher nichts unternahm, die Rechte der Versicherten beim Wechsel zu einer anderen Versicherungsgesellschaft zu stärken. Je hilfloser die Versicherten, desto stärker sei die Verpflichtung, ihre Grundrechte auf Eigentumsgarantie und Privatautonomie, also die Möglichkeit, vertragliche Rechte wahrzunehmen, zu schützen.\n",
      "Der Schlüsselsatz DES FÜNFTEN ZIVILSENATS: Schutzwürdige Interessen an der Wahrung der Privatsphäre seien „tatsächlich durch eine schleichende Erweiterung der Überwachungszwecke gefährdet“.\n",
      "MÜLLER nahm das Urteil gefasst auf, einmal nur schüttelte er den Kopf. „Die Gerechtigkeit bleibt auf der Strecke“, kritisierte SEINE MUTTER, die vor dem Gerichtssaal gewartet hatte.\n",
      "Auch DER VIZE-FRAKTIONSVORSITZENDE DER EUROPÄISCHEN VOLKSPARTEI, MANFRED WEBER (CSU), zeigte sich erfreut. Es sei gut, wenn Humanität auch bei der Durchsetzung des Rechtsstaats einen Platz finde. DIE EU sei auch „ein Schutzraum für FLÜCHTLINGE”.\n",
      "„Es ist unverantwortlich, Biblis A länger als vereinbart am Netz zu lassen”, sagte RENATE BACKHAUS, ATOMEXPERTIN BEIM BUND FÜR UMWELT UND NATURSCHUTZ.\n",
      "Allerdings sieht DAS GERICHT in den bisherigen Bestimmungen auch eine Verletzung der Menschenwürde und des Sozialstaatsprinzips. Vor allem wohl deshalb, weil versäumt wurde, den genauen Bedarf VON KINDERN zu ermitteln und auch zu definieren.\n",
      "Es gehe darum, wichtige Grundrechte zu achten. Aber es gebe eben auch den Auftrag an DEN STAAT laut Artikel 3 des Grundgesetzes: Demnach soll DER STAAT die Durchsetzung der Gleichberechtigung von FRAUEN und MÄNNERN fördern und auf die Beseitigung bestehender Nachteile hinwirken.\n",
      "DAS GERICHT hat ein solches Grundrecht zum ersten Mal formuliert: „Es sichert jedem Hilfebedürftigen diejenigen materiellen Voraussetzungen zu, die für seine physische Existenz und für ein Mindestmaß an Teilhabe am gesellschaftlichen, kulturellen und politischen Leben unerlässlich sind.”\n",
      "DIE SCHÜLERIN hatte in ihrer Beschwerde geltend gemacht, sie sei in ihrem Grundrecht auf Religionsfreiheit verletzt, weil der werteneutral ausgerichtete Ethikunterricht inhaltlich dem christlichen Glauben widerspreche, es aber keine Möglichkeit gebe, sich vom Ethikunterricht abzumelden. Zudem könne die angestrebte Neutralität von DEN LEHRERN nicht eingehalten werden, weil im Unterricht nicht nur Fakten, sondern auch Werturteile vermittelt würden.\n",
      "Nach den Worten DES GERICHTS verstößt das Gesetz wie auch die bis 2006 geltende Regelung zum Erziehungsgeld gegen den Grundsatz der Gleichbehandlung.\n",
      "Was DEN ZUSTÄNDIGEN STAATSSCHUTZSENAT DES BGH zu deutlichen Worten veranlasste: Auch wenn es um die Aufklärung tödlicher Terroranschläge gehe, gelte der Grundsatz, dass die Wahrheit nicht um den Preis der Lebensgefährdung EINER SCHWERKRANKEN ZEUGIN erforscht werden dürfe.\n",
      "SPD-LANDESCHEF NILS SCHMID besteht darauf, dass DER BÜNDNISPARTNER einem Volksentscheid über Stuttgart 21 zustimmt. „Wer mit uns koalieren will, der muss sich zu diesem Weg der Vernunft bekennen“, sagte SCHMID am Donnerstag.\n",
      "Durch die Informationsschrift, die in Praxen verteilt werden sollte, würden HAUSÄRZTE dazu verleitet, IHRE PATIENTEN in „unlauterer” Weise zum Wechsel ihrer Krankenkasse aufzufordern, begründete DAS GERICHT seine Entscheidung. Es sei nicht hinnehmbar, dass ÄRZTE das Vertrauen IHRER PATIENTEN ausnutzten, um sie zum Kassenwechsel zu bewegen.\n",
      "RECHTSANWÄLTE werfen DEM UNTERNEHMEN vor, nicht kooperativ zu sein und ohne Rücksicht auf menschliche Existenzen Sicherheiten zu verwerten.\n",
      "Wer DIE PRODUZENTEN schützen will, sollte daher nicht beim Kapital, sondern beim Ideendiebstahl ansetzen: Wenn jemand plump auf der Welle des typischen Kraftwerk-Sounds reitet, dann hat er keinen Schutz verdient.\n",
      "Dieser dürfe EINZELNEN ZUSCHAUERN nicht willkürlich den Zutritt zum Stadion verbieten, weil sowohl das allgemeine Persönlichkeitsrecht als auch das Gebot der Gleichbehandlung zu berücksichtigen seien.\n",
      "Das angegriffene Gesetz droht Freiheitsstrafe oder Geldstrafe an, wenn jemand „öffentlich oder in einer Versammlung den öffentlichen Frieden in einer die Würde DER OPFER verletzenden Weise dadurch stört, dass er die nationalsozialistische Gewalt- und Willkürherrschaft billigt, verherrlicht oder rechtfertigt”.\n",
      "Straferschwerend sei zu werten, dass SAPINA UND HOYZER das Vertrauen DER ÖFFENTLICHKEIT in die Fairness des Fußballsports und die Unparteilichkeit DER SCHIEDSRICHTER massiv erschüttert hätten.\n",
      "DAS GERICHT folgte mit seinem Urteil DER STAATSANWALTSCHAFT, die einen „extremen Angriff auf die Presse und Informationsfreiheit“ beklagt hatte. Was bei DER TELEKOM geschehen sei, das sei ein „Super-Gau“ gewesen.\n",
      "DAS BUNDESVERFASSUNGSGERICHT musste daher nun eingreifen, um DIE UNTEREN INSTANZEN zu lehren, was Meinungsfreiheit bedeutet, nämlich dies: Die Ehre EINES GENERALSTAATSANWALTS ist keine bessere Ehre als die ANDERER MENSCHEN.\n",
      "DAS GERICHT hält nun fest, dass die umstrittene „Section 377” im Strafgesetzbuch, um die es ging, verfassungswidrig sei. „Es sollte nicht vergessen werden”, heißt es in der Urteilsbegründung, „dass Diskriminierung die Antithese der Gleichheit ist, und dass die Anerkennung von Gleichheit die Würde jedes Einzelnen fördert”.\n",
      "Schon 2011 warnte PELL als Ehrengast der britischen klimaskeptischen Organisation Global Warming Policy Foundation (GWPF) vor der Moral, den Haushalten und Familien Kosten aufzubürden, ganz besonders den Armen, im Namen der Rettung des Planeten und in der Hoffnung, den Anstieg globaler Temperaturen zu bremsen.\n",
      "Diese Wettbewerbsveränderung wollte der Bundesrat bereits 1988 abschaffen, scheiterte aber an der Bundesregierung, die ihrerseits nun vom Verfassungsgericht korrigiert wurde. Die Privilegierung DER PARTEIEN verletze das Recht auf Chancengleichheit und sei mit dem Grundgesetz unvereinbar. Die Steuerbefreiung müsse bis zu einer Neuregelung durch den Gesetzgeber auch auf KOMMUNALE WÄHLERVEREINIGUNGEN ausgedehnt werden.\n",
      "Die Entschädigungssummen müssten hoch sein, „um abschreckende Wirkung zu haben“. LÜDERS sagt: „Nur so werden Betroffene auch wirklich ermutigt, selbst rechtlich gegen Diskriminierung vorzugehen.“\n",
      "„JEROFEJEW und SAMODUROW haben das Schlimmste aller Verbrechen begangen: Sie haben den Glauben beleidigt“, sagt er. Er will die beiden im Lager schmoren sehen, drei Jahre, wie DER STAATSANWALT gefordert hat.\n",
      "DIE KARLSRUHER RICHTER forderten DEN BUNDESTAG damals auf, zur Wahrung der Chancengleichheit der Parteien durch ergänzende Regelungen dafür zu sorgen, dass der Verwendung von ABGEORDNETENMITARBEITERN im Wahlkampf verstärkt entgegengewirkt wird.\n",
      "VERTRETER DER OPFER zeigten sich dennoch immer wieder zufrieden mit den Urteilen, da sie die historische Wahrheit festhielten.\n",
      "Bei der Entscheidung DER SCHULLEITUNG, die Zwölfjährige zur Teilnahme am Schwimmunterricht zu verpflichten, gehe es „vor allem auch um die Persönlichkeitsentwicklung, die Gesundheit und die Integration des Mädchens”, sagte HENKELMANN. „Nur so kann HÜMEYRA zu einer autonomen und selbstbestimmten Persönlichkeit reifen.”\n",
      "„Ich wollte mich klar davon abgrenzen, dass LEUTE ihre Individualität zugunsten der deutschen Fahne aufgeben”, so HAGEN.\n",
      "Darin sieht KARLSRUHE eine Gefahr für die Unabhängigkeit der Beamten, die im Interesse einer rechtsstaatlichen Verwaltung gewährleistet sein müsse.\n",
      "Das Versagen DER GESELLSCHAFT beim Schutz DIESES JUNGEN lässt sich nur halbwegs wiedergutmachen, wenn es sich nicht aus den gleichen Gründen wiederholen kann.\n",
      "Entscheidend ist, daß die demokratischen Grundlagen DER UNION schritthaltend mit der Integration ausgebaut werden und auch im Fortgang der Integration IN DEN MITGLIEDSTAATEN eine lebendige Demokratie erhalten bleibt.\n",
      "Das Nachbarrecht sehe laut der Gerichtsentscheidung für Gebäude die Einhaltung eines Mindestabstands zur Nachbargrenze vor. Dieser Abstand sei hier nicht eingehalten, das Gebot der besonderen Rücksichtnahme zwischen NACHBARN sei verletzt.\n",
      "Schon deshalb, weil KARLSRUHE das NRW-Gesetz an einem weiteren, empfindlichen Punkt beanstandet hat. Die dort wie etwa auch in den Gesetzen BAYERNS und BADEN-WÜRTTEMBERGS vorgesehene Privilegierung zugunsten „christlich-abendländischer Bildungs- und Kulturwerte“ ist nichtig – weil Religionsfreiheit nicht teilbar ist, sondern eine Gleichbehandlung aller Glaubensrichtungen fordert.\n",
      "DER MANN fand dies unzumutbar, weil ihm weniger als das Existenzminimum verbleibe. Seine Rechte auf Menschenwürde und körperliche Unversehrtheit seien damit verletzt. Diese Sichtweise lehnten DIE RICHTER ab.\n",
      "Wie könne man sonst „IN DER GESELLSCHAFT ein Bewusstsein für das Problem schaffen“ und dem alltäglichen Rassismus beikommen?\n",
      "Deshalb sei eine Befürwortung der NS-Herrschaft nicht nur ein Angriff auf die Identität des Gemeinwesens nach innen mit friedensbedrohendem Potential, sondern könne auch im AUSLAND eine „tiefgreifende Beunruhigung auslösen”.\n",
      "Zum Schutz DER BEVÖLKERUNG\" sei dies dringend notwendig, so BECKSTEIN.\n",
      "Eine zweite Verurteilung aber wäre der Beginn eines finsteren Zeitalters, in dem Fundamentalismus höher steht als die Freiheit der Kunst und DIE KIRCHE ihren oft nur behaupteten Einfluss vor Gericht durchsetzt.\n",
      "Auch VOLKER BECK, DER PARLAMENTARISCHE GESCHÄFTSFÜHRER DER GRÜNEN, nennt „diese Rechtsprechung mehr als fragwürdig“; er kann sich sogar neue Gesetze zum Schutz der Beschneidung vorstellen: „Wir müssen uns darüber Gedanken machen, ob wir die Religionsfreiheit der jüdischen und muslimischen Glaubensgemeinschaft besser schützen müssen“, sagte er.\n",
      "\n",
      "\n"
     ]
    }
   ],
   "source": [
    "poslist_labels = filtering_corpus.poslist_category_instances(\n",
    "    corpus_collection,\n",
    "    [\"NE\", \"NN\"],\n",
    "    \"protagonists\",\n",
    "    tagger=\"HanTa\",\n",
    "    export=False\n",
    ")\n",
    "util.print_subcorp_dict(poslist_labels)"
   ]
  },
  {
   "cell_type": "markdown",
   "metadata": {},
   "source": [
    "Mit der folgenden Funktion kann nach Anzahlen von Kategorie-Vergaben gesucht werden. Zum Beispiel können alle Funktionen mit zwei Protagonisten gesucht werden.\n",
    "\n",
    "Parameter:\n",
    "+ Der erste Parameter ist die Korpussammlumg. Hier einfach *corpus_collection* stehen lassen.\n",
    "+ Der zweite Parameter *count* ist die Anzahl, die gesucht werden soll\n",
    "+ Der dritte Parameter ist die Kategorie, die *count* Mal vergeben wurde\n",
    "+ Der letzte Parameter *export* (*True* oder *False*) gibt an, ob die Daten als Excel-Datei im derzeitigen Verzeichnis abgelegt werden sollen."
   ]
  },
  {
   "cell_type": "code",
   "execution_count": 7,
   "metadata": {},
   "outputs": [
    {
     "name": "stdout",
     "output_type": "stream",
     "text": [
      "GERICHTSURTEILE-POS-AW-NEU-OPTIMIERT-BB_VERGOLDET.XMI\n",
      "Der Obstkonzern aus Cincinnati hatte die Zahlungen an die Milizen zugegeben, aber als notwendig verteidigt. Man habe DAS LEBEN bedrohter Mitarbeiter SCHÜTZEN müssen.\n",
      "Das Gesetz, das zu einem solchen Eingriff ermächtigt, muss Vorkehrungen enthalten, um DEN KERNBEREICH PRIVATER LEBENSGESTALTUNG zu SCHÜTZEN.\n",
      "Jüdische Gemeinden, die außerhalb des Zentralrats stehen, haben ebenfalls das Recht, PARITÄTISCH berücksichtigt zu werden. Anderenfalls werde DIE RELIGIÖS-WELTANSCHAULICHE NEUTRALITÄT verletzt.\n",
      "Schon 2011 warnte Pell als Ehrengast der britischen klimaskeptischen Organisation Global Warming Policy Foundation (GWPF) vor der Moral, den Haushalten und Familien Kosten AUFZUBÜRDEN, ganz besonders den ARMEN, im Namen der Rettung des Planeten und in der Hoffnung, den Anstieg globaler Temperaturen zu bremsen.\n",
      "Der EuGH ist hingegen der Ansicht, dass sich die Öffentlichkeit über MÖGLICHE GEFAHREN FÜR DIE UMWELT und DIE MENSCHLICHE GESUNDHEIT informieren können\n",
      "Die Mehrheitsentscheidung untergrabe einen Grundgedanken DER ANTI-DISKRIMINIERUNGSGESETZE DES LANDES. „Der Kongress wollte TATSÄCHLICHE CHANCENGLEICHHEIT schaffen - und nicht nur der Form nach.”\n",
      "Schon deshalb, weil Karlsruhe das NRW-Gesetz an einem weiteren, empfindlichen Punkt beanstandet hat. Die dort wie etwa auch in den Gesetzen Bayerns und Baden-Württembergs vorgesehene Privilegierung zugunsten „christlich-abendländischer Bildungs- und Kulturwerte“ ist nichtig – weil RELIGIONSFREIHEIT nicht teilbar ist, sondern eine GLEICHBEHANDLUNG aller Glaubensrichtungen fordert.\n",
      "Kurz nach der Verfassungsänderung beantragte der Generalstaatsanwalt das Verbot der AKP. Er wirft ihr vor, DIE SÄKULARE ORDNUNG DER TÜRKEI UMSTÜRZEN zu wollen.\n",
      "Es gehe darum, WICHTIGE GRUNDRECHTE zu achten. Aber es gebe eben auch den Auftrag an den Staat laut Artikel 3 des Grundgesetzes: Demnach soll der Staat DIE DURCHSETZUNG DER GLEICHBERECHTIGUNG VON FRAUEN UND MÄNNERN fördern und auf die Beseitigung bestehender Nachteile hinwirken.\n",
      "Beim Staatsschutz müsse „besonders sorgfältig zwischen einer – wie verfehlt auch immer erscheinenden – Polemik auf der einen Seite und einer Beschimpfung oder böswilligen Verächtlichmachung auf der anderen Seite“ unterschieden werden, weil DIE MEINUNGSFREIHEIT nun mal aus dem „BESONDEREN SCHUTZBEDÜRFNIS DER MACHTKRITIK“ erwachsen sei: „Die Zulässigkeit von Kritik am System ist Teil des Grundrechtestaats.“\n",
      "Eine zweite Verurteilung aber wäre der Beginn eines finsteren Zeitalters, in dem FUNDAMENTALISMUS höher steht als DIE FREIHEIT DER KUNST und die Kirche ihren oft nur behaupteten Einfluss vor Gericht durchsetzt.\n",
      "Straferschwerend sei zu werten, dass Sapina und Hoyzer DAS VERTRAUEN DER ÖFFENTLICHKEIT in DIE FAIRNESS des Fußballsports und die Unparteilichkeit der Schiedsrichter massiv erschüttert hätten.\n",
      "Dieser dürfe einzelnen Zuschauern nicht willkürlich den Zutritt zum Stadion verbieten, weil sowohl DAS ALLGEMEINE PERSÖNLICHKEITSRECHT als auch DAS GEBOT DER GLEICHBEHANDLUNG zu berücksichtigen seien.\n",
      "Ein französisches Gericht hatte die Klage des Mannes abgelehnt mit der Begründung, dass solche Informationen DIE SICHERHEIT und DIE PRIVATSPHÄRE der Betriebsinhaber gefährdeten.\n",
      "Dafür müsse es bei einem Stadionverbot nicht nur SUBJEKTIVE Befürchtungen, sondern OBJEKTIVE Tatsachen geben.\n",
      "Darin sieht Karlsruhe EINE GEFAHR für DIE UNABHÄNGIGKEIT der Beamten, die im Interesse einer rechtsstaatlichen Verwaltung gewährleistet sein müsse.\n",
      "Diese, zumal unter Kulturschaffenden, verbreitete VERACHTUNG DES RECHTS übersieht, dass dessen unbestreitbare Ambivalenz auf seiner genuinen Gestaltungskraft beruht, nämlich darauf, GENERALISIERTE FAIRNESS-PRINZIPIEN der praktischen Vernunft für die Lösung unversöhnlicher Interessenkonflikte bereitzuhalten.\n",
      "Die Entschädigungssummen müssten hoch sein, „um abschreckende Wirkung zu haben“. Lüders sagt: „Nur so werden Betroffene auch wirklich ERMUTIGT, selbst rechtlich gegen DISKRIMINIERUNG vorzugehen.“\n",
      "Das Gericht hat ein solches Grundrecht zum ersten Mal formuliert: „Es sichert jedem Hilfebedürftigen diejenigen materiellen Voraussetzungen zu, die für SEINE PHYSISCHE EXISTENZ und für EIN MINDESTMAß AN TEILHABE AM GESELLSCHAFTLICHEN, KULTURELLEN UND POLITISCHEN LEBEN unerlässlich sind.”\n",
      "Schließlich stecke hinter dem Ausschluss die Absicht, gegen den Drogen-Tourismus und die damit einhergehenden Belästigungen vorzugehen. Dies stehe, so das Gericht, „sowohl auf der Ebene der Mitgliedstaaten als auch auf Unionsebene MIT DER AUFRECHTERHALTUNG DER ÖFFENTLICHEN ORDNUNG und DEM SCHUTZ DER GESUNDHEIT DER BÜRGER im Zusammenhang“.\n",
      "Allerdings sieht das Gericht in den bisherigen Bestimmungen auch EINE VERLETZUNG DER MENSCHENWÜRDE UND DES SOZIALSTAATSPRINZIPS. Vor allem wohl deshalb, weil versäumt wurde, den genauen Bedarf von Kindern zu ermitteln und auch zu definieren.\n",
      "Doch nicht nur die Studenten müssen den Weg zur Eigenverantwortung finden, auch die Hochschullehrer müssen ihren Teil dessen tun, was Schulmeister als GESELLSCHAFTSVERTRAG, beruhend auf gemeinsamer VERANTWORTUNG bezeichnet.\n",
      "Der BGH agiere zu kleinteilig und habe nicht den großen Zusammenhang im Blick, DIE „GROß ANGELEGTE TÄUSCHUNG DER ANLEGER über die Werthaltigkeit und SICHERHEIT der Anleger“, sagte der Düsseldorfer Anwalt Julius Reiter, in dessen Kanzlei rund 300 solcher Fälle anhängig sind.\n",
      "Ein solches Arbeitsentgelt verstoße gegen DIE GRUNDRECHTE DER MENSCHENWÜRDE und DER FREIEN ENTFALTUNG DER PERSÖNLICHKEIT sowie gegen die Vorgaben der Europäischen Sozialcharta.\n",
      "Die FAZ argumentiert, die Methode schaffe nicht genug TRANSPARENZ für die Werbewirtschaft, die IVW wende eigene Regeln zur gemeinsamen Auflagenausweisung nicht korrekt an. Tobias Trevisan, Sprecher der FAZ-Geschäftsführung, sagt: „Wir bieten der Werbewirtschaft eine Währung an und diese Währung verliert durch diese Ausweisungspraxis an GLAUBWÜRDIGKEIT“.\n",
      "\n",
      "\n"
     ]
    }
   ],
   "source": [
    "count_labels = filtering_corpus.count_category_instances(\n",
    "    corpus_collection,\n",
    "    2,\n",
    "    \"all_morals\",\n",
    "    export=False\n",
    ")\n",
    "util.print_subcorp_dict(count_labels)"
   ]
  },
  {
   "cell_type": "markdown",
   "metadata": {},
   "source": [
    "Mit der folgenden Funktion kann nach spezifischen Labeln gesucht werden werden. Zum Beispiel können alle Funktionen herausgesucht werden, in denen ein Protagonist als \"Benefizient\" markiert wurde.\n",
    "\n",
    "Parameter:\n",
    "+ Der erste Parameter ist die Korpussammlumg. Hier einfach *corpus_collection* stehen lassen.\n",
    "+ Der zweite Parameter ist das Label, nach dem gesucht werden soll\n",
    "+ Der dritte Parameter ist die Kategorie, aus der das Label stammt\n",
    "+ Der letzte Parameter *export* (*True* oder *False*) gibt an, ob die Daten als Excel-Datei im derzeitigen Verzeichnis abgelegt werden sollen."
   ]
  },
  {
   "cell_type": "code",
   "execution_count": 8,
   "metadata": {},
   "outputs": [
    {
     "name": "stdout",
     "output_type": "stream",
     "text": [
      "GERICHTSURTEILE-POS-AW-NEU-OPTIMIERT-BB_VERGOLDET.XMI\n",
      "Im Anschluss an die Veröffentlichung der Studie hat sich die Kritik am Vorgehen der räuberischen Aktionäre in den vergangenen Wochen verstärkt. Denn der Grundsatz der Gleichbehandlung ALLER AKTIONÄRE verbietet, dass sich einzelne Sondervorteile versprechen lassen.\n",
      "Zum Schutz DER BEVÖLKERUNG\" sei dies dringend notwendig, so Beckstein.\n",
      "Die Staatsanwaltschaft warf ihr vor, Vertrauen missbraucht zu haben. „PATIENTEN müssen sich darauf verlassen können, dass Ärzte über ein geprüftes Fachwissen verfügen.”\n",
      "Die 2. Kammer des Ersten Senats sah sich gleichwohl – weil es noch um die Erstattung der Prozesskosten ging – nicht an einer inhaltlichen Entscheidung gehindert und brachte Grundrechtsdogmatik und gesunden Menschenverstand wieder in Einklang: Die Befreiung von der Gebühr sei ein Gebot der Gleichbehandlung, weil DIE BETROFFENEN trotz ihrer auf dem Papier höheren Bezüge am Ende schlechter dastünden als ein normaler Hartz-IV-Empfänger.\n",
      "Das Karlsruher Gericht stellte klar, dass die Unterhaltspflicht der Kinder für IHRE PFLEGEBEDÜRFTIGEN ELTERN zur innerfamiliären Solidarität gehört – und zwar auch dann, wenn die Kinder wegen einer „schicksalsbedingten“ Krankheit wenig von den Eltern hatten.\n",
      "Ein französisches Gericht hatte die Klage des Mannes abgelehnt mit der Begründung, dass solche Informationen die Sicherheit und die Privatsphäre DER BETRIEBSINHABER gefährdeten.\n",
      "Das Gericht hat ein solches Grundrecht zum ersten Mal formuliert: „Es sichert JEDEM HILFEBEDÜRFTIGEN diejenigen materiellen Voraussetzungen zu, die für seine physische Existenz und für ein Mindestmaß an Teilhabe am gesellschaftlichen, kulturellen und politischen Leben unerlässlich sind.”\n",
      "Stefan Ruppert, rechtspolitischer Sprecher der FDP-Bundestagsfraktion, erklärte, es greife zu weit in das Erziehungsrecht DER ELTERN ein; er fragt: „Und was ist mit dem Ohrloch, das einem Kind gestochen wird?“\n",
      "Diese Wettbewerbsveränderung wollte der Bundesrat bereits 1988 abschaffen, scheiterte aber an der Bundesregierung, die ihrerseits nun vom Verfassungsgericht korrigiert wurde. Die Privilegierung der Parteien verletze das Recht auf Chancengleichheit und sei mit dem Grundgesetz unvereinbar. Die Steuerbefreiung müsse bis zu einer Neuregelung durch den Gesetzgeber auch auf KOMMUNALE WÄHLERVEREINIGUNGEN ausgedehnt werden.\n",
      "Was den zuständigen Staatsschutzsenat des BGH zu deutlichen Worten veranlasste: Auch wenn es um die Aufklärung tödlicher Terroranschläge gehe, gelte der Grundsatz, dass die Wahrheit nicht um den Preis der Lebensgefährdung EINER SCHWERKRANKEN ZEUGIN erforscht werden dürfe.\n",
      "MÜLLER nahm das Urteil gefasst auf, einmal nur schüttelte er den Kopf. „Die Gerechtigkeit bleibt auf der Strecke“, kritisierte seine Mutter, die vor dem Gerichtssaal gewartet hatte.\n",
      "Das Gericht hält nun fest, dass die umstrittene „Section 377” im Strafgesetzbuch, um die es ging, verfassungswidrig sei. „Es sollte nicht vergessen werden”, heißt es in der Urteilsbegründung, „dass Diskriminierung die Antithese der Gleichheit ist, und dass die Anerkennung von Gleichheit die Würde JEDES EINZELNEN fördert”.\n",
      "Es wird höchste Zeit, dass ein Urheberrecht geschaffen wird, das weltweit gilt, von ALLEN verstanden wird - und DIE KÜNSTLER gerecht finanziert.\n",
      "Das Versagen der Gesellschaft beim Schutz DIESES JUNGEN lässt sich nur halbwegs wiedergutmachen, wenn es sich nicht aus den gleichen Gründen wiederholen kann.\n",
      "Die Entschädigungssummen müssten hoch sein, „um abschreckende Wirkung zu haben“. Lüders sagt: „Nur so werden BETROFFENE auch wirklich ermutigt, selbst rechtlich gegen Diskriminierung vorzugehen.“\n",
      "Das Bundesverfassungsgericht musste daher nun eingreifen, um die unteren Instanzen zu lehren, was Meinungsfreiheit bedeutet, nämlich dies: Die Ehre eines Generalstaatsanwalts ist keine bessere Ehre als die ANDERER MENSCHEN.\n",
      "Norwegen müsse „Respekt zeigen vor dem Rechtssystem EINES ANDEREN LANDES”.\n",
      "Darin sieht Karlsruhe eine Gefahr für die Unabhängigkeit DER BEAMTEN, die im Interesse einer rechtsstaatlichen Verwaltung gewährleistet sein müsse.\n",
      "Allerdings sieht das Gericht in den bisherigen Bestimmungen auch eine Verletzung der Menschenwürde und des Sozialstaatsprinzips. Vor allem wohl deshalb, weil versäumt wurde, den genauen Bedarf VON KINDERN zu ermitteln und auch zu definieren.\n",
      "DEM MEHRFACH VORBESTRAFTEN NEONAZI war nach der Haftentlassung die Weisung erteilt worden, fünf Jahre lang kein „rechtsextremistisches oder nationalsozialistisches Gedankengut publizistisch zu verbreiten“. Dem Gericht zufolge ist die Anordnung zu weit gefasst, weil sie auch legale Äußerungen umfasst; sie komme einer zeitweiligen „Aberkennung der Meinungsfreiheit“ nahe.\n",
      "Gerichtspräsident Michael Bertrams stellte in der Verhandlung bereits fest, dass das Sondervermögen für die WestLB „faktisch nicht gebraucht“ werde. Er erinnerte außerdem an das Wirtschaftlichkeitsgebot der Verfassung, es „gründe in der Generationengerechtigkeit, dass auch KÜNFTIGE GENERATIONEN über Haushaltsspielraum verfügen“.\n",
      "Straferschwerend sei zu werten, dass Sapina und Hoyzer das Vertrauen DER ÖFFENTLICHKEIT in die Fairness des Fußballsports und die Unparteilichkeit DER SCHIEDSRICHTER massiv erschüttert hätten.\n",
      "Auch der Vize-Fraktionsvorsitzende der Europäischen Volkspartei, Manfred Weber (CSU), zeigte sich erfreut. Es sei gut, wenn Humanität auch bei der Durchsetzung des Rechtsstaats einen Platz finde. Die EU sei auch „ein Schutzraum für FLÜCHTLINGE”.\n",
      "Der BGH agiere zu kleinteilig und habe nicht den großen Zusammenhang im Blick, die „groß angelegte Täuschung DER ANLEGER über die Werthaltigkeit und Sicherheit der Anleger“, sagte der Düsseldorfer Anwalt Julius Reiter, in dessen Kanzlei rund 300 solcher Fälle anhängig sind.\n",
      "DFL-Geschäftsführer Holger Hieronymus ergänzte: \"Die Sicherheit DES ZUSCHAUERS ist das höchste Gut.\"\n",
      "In dem Zusammenhang bemängelten die Richter auch, dass der Gesetzgeber bisher nichts unternahm, die Rechte DER VERSICHERTEN beim Wechsel zu einer anderen Versicherungsgesellschaft zu stärken. Je hilfloser DIE VERSICHERTEN, desto stärker sei die Verpflichtung, ihre Grundrechte auf Eigentumsgarantie und Privatautonomie, also die Möglichkeit, vertragliche Rechte wahrzunehmen, zu schützen.\n",
      "Die Richter betonten, eine Preisanpassungsklausel müsse „den Anforderungen an Treu und Glauben, Ausgewogenheit und Transparenz genügen“. Das bedeutet: Der Versorger muss SEINEN KUNDEN Anlass und Ablauf einer Preiserhöhung klar darstellen.\n",
      "Der Obstkonzern aus Cincinnati hatte die Zahlungen an die Milizen zugegeben, aber als notwendig verteidigt. Man habe das Leben BEDROHTER MITARBEITER schützen müssen.\n",
      "Schon 2011 warnte Pell als Ehrengast der britischen klimaskeptischen Organisation Global Warming Policy Foundation (GWPF) vor der Moral, den Haushalten und Familien Kosten aufzubürden, ganz besonders DEN ARMEN, im Namen der Rettung des Planeten und in der Hoffnung, den Anstieg globaler Temperaturen zu bremsen.\n",
      "Wer DIE PRODUZENTEN schützen will, sollte daher nicht beim Kapital, sondern beim Ideendiebstahl ansetzen: Wenn jemand plump auf der Welle des typischen Kraftwerk-Sounds reitet, dann hat er keinen Schutz verdient.\n",
      "Dieser dürfe EINZELNEN ZUSCHAUERN nicht willkürlich den Zutritt zum Stadion verbieten, weil sowohl das allgemeine Persönlichkeitsrecht als auch das Gebot der Gleichbehandlung zu berücksichtigen seien.\n",
      "Das angegriffene Gesetz droht Freiheitsstrafe oder Geldstrafe an, wenn jemand „öffentlich oder in einer Versammlung den öffentlichen Frieden in einer die Würde DER OPFER verletzenden Weise dadurch stört, dass er die nationalsozialistische Gewalt- und Willkürherrschaft billigt, verherrlicht oder rechtfertigt”.\n",
      "Es gehe darum, wichtige Grundrechte zu achten. Aber es gebe eben auch den Auftrag an den Staat laut Artikel 3 des Grundgesetzes: Demnach soll der Staat die Durchsetzung der Gleichberechtigung von FRAUEN und MÄNNERN fördern und auf die Beseitigung bestehender Nachteile hinwirken.\n",
      "Die Karlsruher Richter forderten den Bundestag damals auf, zur Wahrung der Chancengleichheit der Parteien durch ergänzende Regelungen dafür zu sorgen, dass der Verwendung von ABGEORDNETENMITARBEITERN im Wahlkampf verstärkt entgegengewirkt wird.\n",
      "Das Nachbarrecht sehe laut der Gerichtsentscheidung für Gebäude die Einhaltung eines Mindestabstands zur Nachbargrenze vor. Dieser Abstand sei hier nicht eingehalten, das Gebot der besonderen Rücksichtnahme zwischen NACHBARN sei verletzt.\n",
      "Durch die Informationsschrift, die in Praxen verteilt werden sollte, würden Hausärzte dazu verleitet, IHRE PATIENTEN in „unlauterer” Weise zum Wechsel ihrer Krankenkasse aufzufordern, begründete das Gericht seine Entscheidung. Es sei nicht hinnehmbar, dass Ärzte das Vertrauen IHRER PATIENTEN ausnutzten, um sie zum Kassenwechsel zu bewegen.\n",
      "Der EuGH ist hingegen der Ansicht, dass sich DIE ÖFFENTLICHKEIT über mögliche Gefahren für die Umwelt und die menschliche Gesundheit informieren können\n",
      "Das „spezifische Abhängigkeitsverhältnis“ zwischen SCHÜLERN und PÄDAGOGEN mache eine strikte Neutralität des Staates notwendig.\n",
      "JÜDISCHE GEMEINDEN, DIE AUßERHALB DES ZENTRALRATS STEHEN, haben ebenfalls das Recht, paritätisch berücksichtigt zu werden. Anderenfalls werde die religiös-weltanschauliche Neutralität verletzt.\n",
      "\"Wenn Stadionverbote auf Verdacht ausgesprochen werden, werden VIELE UNSCHULDIGE bestraft.\"\n",
      "DER EINZELNE ist darauf angewiesen, dass der Staat die mit Blick auf die ungehinderte Persönlichkeitsentfaltung berechtigten Erwartungen an die Integrität und Vertraulichkeit derartiger Systeme achtet.\n",
      "„Moralisch abstoßend” findet dagegen das US-Justizministerium die Hilfe für DIE PARAS.\n",
      "SCHULEN brauchen Planungssicherheit und keine politische Stümperei“, sagte der Vorsitzende der CDU-Landtagsfraktion, Karl-Josef Laumann.\n",
      "Auch der Grundsatz der Chancengleichheit von WAHLBEWERBERN sei durch die Sperrklausel ohne rechtfertigende Gründe beeinträchtigt. So sei es nicht zulässig, mit Hilfe der Fünf-Prozent-Klausel verfassungsfeindliche oder extremistische Parteien fernhalten zu wollen.\n",
      "Der Prozess habe „nicht einmal die Minimalstandards eines fairen Verfahrens erfüllt“, urteilt Chinaexperte Nicholas Bequelin von Human Rights Watch. Es sei ein „politischer Prozess“ gewesen mit gleich drei groben Mängeln: „Er verweigerte BO ein gerechtes Verfahren, er verwehrte BOS OPFERN Gerechtigkeit und er verschwieg CHINAS ÖFFENTLICHKEIT die Wahrheit über Bos Machtmissbrauch.“ Bos brutales Vorgehen gegen POLITISCHE GEGNER in Chongqing war mit keinem Wort in der Anklage aufgetaucht.\n",
      "\"Es ist das oberste Gebot eines jeden Staates, SEINE KINDER zu schützen\", kommentierte der Richter gestern sein Urteil.\n",
      "DER MEHRFACHE MINISTER UND HOHE BAATH-PARTEIFUNKTIONÄR MAJID wurde denn auch wegen Völkermordes, Kriegsverbrechen und Verbrechen gegen die Menschlichkeit verurteilt. Menschenrechtsgruppen äußerten aber Zweifel an der Fairness des Verfahrens gegen ihn.\n",
      "\n",
      "\n"
     ]
    }
   ],
   "source": [
    "tag_labels = filtering_corpus.label_category_instances(\n",
    "    corpus_collection,\n",
    "    \"Benefizient:in\",\n",
    "    \"protagonists\",\n",
    "    export=False\n",
    ")\n",
    "util.print_subcorp_dict(tag_labels)"
   ]
  },
  {
   "cell_type": "code",
   "execution_count": 12,
   "metadata": {},
   "outputs": [
    {
     "name": "stdout",
     "output_type": "stream",
     "text": [
      "GERICHTSURTEILE-POS-AW-NEU-OPTIMIERT-BB_VERGOLDET.XMI\n",
      "Der griechische Zentralrat betont, das fundamentale Recht der Meinungsfreiheit dürfe nicht dazu dienen, Hass und Antisemitismus zu verbreiten.\n",
      "Diese Wettbewerbsveränderung wollte der Bundesrat bereits 1988 abschaffen, scheiterte aber an der Bundesregierung, die ihrerseits nun vom Verfassungsgericht korrigiert wurde. Die Privilegierung der Parteien verletze das Recht auf Chancengleichheit und sei mit dem Grundgesetz unvereinbar. Die Steuerbefreiung müsse bis zu einer Neuregelung durch den Gesetzgeber auch auf kommunale Wählervereinigungen ausgedehnt werden.\n",
      "Es) bleibt eine Schutzlücke, die durch das allgemeine Persönlichkeitsrecht in seiner Ausprägung als Schutz der Vertraulichkeit und Integrität von informationstechnischen Systemen zu schließen ist.\n",
      "Dieser dürfe einzelnen Zuschauern nicht willkürlich den Zutritt zum Stadion verbieten, weil sowohl das allgemeine Persönlichkeitsrecht als auch das Gebot der Gleichbehandlung zu berücksichtigen seien.\n",
      "Stefan Ruppert, rechtspolitischer Sprecher der FDP-Bundestagsfraktion, erklärte, es greife zu weit in das Erziehungsrecht der Eltern ein; er fragt: „Und was ist mit dem Ohrloch, das einem Kind gestochen wird?“\n",
      "Durch die Informationsschrift, die in Praxen verteilt werden sollte, würden Hausärzte dazu verleitet, ihre Patienten in „unlauterer” Weise zum Wechsel ihrer Krankenkasse aufzufordern, begründete das Gericht seine Entscheidung. Es sei nicht hinnehmbar, dass Ärzte das Vertrauen ihrer Patienten ausnutzten, um sie zum Kassenwechsel zu bewegen.\n",
      "Der Mann fand dies unzumutbar, weil ihm weniger als das Existenzminimum verbleibe. Seine Rechte auf Menschenwürde und körperliche Unversehrtheit seien damit verletzt. Diese Sichtweise lehnten die Richter ab.\n",
      "„Jerofejew und Samodurow haben das Schlimmste aller Verbrechen begangen: Sie haben den Glauben beleidigt“, sagt er. Er will die beiden im Lager schmoren sehen, drei Jahre, wie der Staatsanwalt gefordert hat.\n",
      "Der Obstkonzern aus Cincinnati hatte die Zahlungen an die Milizen zugegeben, aber als notwendig verteidigt. Man habe das Leben bedrohter Mitarbeiter schützen müssen.\n",
      "Straferschwerend sei zu werten, dass Sapina und Hoyzer das Vertrauen der Öffentlichkeit in die Fairness des Fußballsports und die Unparteilichkeit der Schiedsrichter massiv erschüttert hätten.\n",
      "\n",
      "\n"
     ]
    }
   ],
   "source": [
    "type_instances = filtering_corpus.type_category_instances(\n",
    "    corpus_collection,\n",
    "    \"das\",\n",
    "    \"all_morals\",\n",
    "    export=False,\n",
    "    lower=True\n",
    ")\n",
    "util.print_subcorp_dict(type_instances)"
   ]
  }
 ],
 "metadata": {
  "kernelspec": {
   "display_name": "Python 3",
   "language": "python",
   "name": "python3"
  },
  "language_info": {
   "codemirror_mode": {
    "name": "ipython",
    "version": 3
   },
   "file_extension": ".py",
   "mimetype": "text/x-python",
   "name": "python",
   "nbconvert_exporter": "python",
   "pygments_lexer": "ipython3",
   "version": "3.12.2"
  },
  "orig_nbformat": 4
 },
 "nbformat": 4,
 "nbformat_minor": 2
}
