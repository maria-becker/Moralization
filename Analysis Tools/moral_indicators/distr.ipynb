{
 "cells": [
  {
   "cell_type": "code",
   "execution_count": 1,
   "metadata": {},
   "outputs": [],
   "source": [
    "import os\n",
    "import comparison_corpus_gen as ccg\n",
    "import comparison_list_gen as clg\n",
    "import moral_vs_nonmoral as mvn\n",
    "\n",
    "import sys\n",
    "sys.path.append('../_utils_')\n",
    "import corpus_extraction as ce"
   ]
  },
  {
   "cell_type": "code",
   "execution_count": 2,
   "metadata": {},
   "outputs": [],
   "source": [
    "import os\n",
    "directory_path = '/home/bruno/Desktop/Databases/Moralization/German/Zeitungstexte'\n",
    "file_paths = []\n",
    "\n",
    "for filename in os.listdir(directory_path):\n",
    "    file_path = os.path.join(directory_path, filename)\n",
    "    \n",
    "    if os.path.isfile(file_path):\n",
    "        file_paths.append(file_path)"
   ]
  },
  {
   "cell_type": "code",
   "execution_count": 3,
   "metadata": {},
   "outputs": [],
   "source": [
    "corpus_collection = ce.CorpusCollection(file_paths, language='de')"
   ]
  },
  {
   "cell_type": "code",
   "execution_count": null,
   "metadata": {},
   "outputs": [],
   "source": [
    "result_dict = {}\n",
    "\n",
    "for corpus in corpus_collection.collection.values():\n",
    "    tmp_results = clg.lemmata_with_annotations('protagonists_doubles',\n",
    "                                               'de',\n",
    "                                               corpus,\n",
    "                                               hanta=True)\n",
    "    for key, value in tmp_results.items():\n",
    "        original_int, original_dicts = value\n",
    "        if key in result_dict:\n",
    "            result_dict[key][0] += original_int\n",
    "            result_dict[key][1].extend(original_dicts)\n",
    "        else:\n",
    "            result_dict[key] = [original_int, original_dicts]\n",
    "\n",
    "print(result_dict)"
   ]
  },
  {
   "cell_type": "code",
   "execution_count": 6,
   "metadata": {},
   "outputs": [],
   "source": [
    "import json\n",
    "with open('children_dict.json', 'w') as file:\n",
    "    json.dump(result_dict, file)"
   ]
  },
  {
   "cell_type": "code",
   "execution_count": 29,
   "metadata": {},
   "outputs": [
    {
     "name": "stdout",
     "output_type": "stream",
     "text": [
      "Leute {'A': 0.32, 'B': 0.44, 'F': 0.04, 'count': 25}\n",
      "der {'A': 0.33972602739726027, 'B': 0.3269406392694064, 'F': 0.14246575342465753, 'count': 1095}\n",
      "Gesellschaft {'A': 0.36, 'B': 0.48, 'F': 0.04, 'count': 25}\n",
      "Opfer {'A': 0.0, 'B': 0.7857142857142857, 'F': 0.07142857142857142, 'count': 14}\n",
      "# {'A': 0.3, 'B': 0.45, 'F': 0.2, 'count': 40}\n",
      "ein {'A': 0.35714285714285715, 'B': 0.30952380952380953, 'F': 0.05952380952380952, 'count': 84}\n",
      "sein {'A': 0.26666666666666666, 'B': 0.4, 'F': 0.1, 'count': 30}\n",
      ". {'A': 0.3076923076923077, 'B': 0.15384615384615385, 'F': 0.3076923076923077, 'count': 13}\n",
      "von {'A': 0.2676056338028169, 'B': 0.39436619718309857, 'F': 0.056338028169014086, 'count': 71}\n",
      "Mann {'A': 0.35714285714285715, 'B': 0.2857142857142857, 'F': 0.07142857142857142, 'count': 14}\n",
      "Politiker {'A': 0.7083333333333334, 'B': 0.0, 'F': 0.16666666666666666, 'count': 24}\n",
      "man {'A': 0.6349206349206349, 'B': 0.06349206349206349, 'F': 0.2222222222222222, 'count': 63}\n",
      "er {'A': 0.7058823529411765, 'B': 0.058823529411764705, 'F': 0.17647058823529413, 'count': 17}\n",
      "europäisch {'A': 0.38461538461538464, 'B': 0.07692307692307693, 'F': 0.3076923076923077, 'count': 13}\n",
      "Politik {'A': 0.9411764705882353, 'B': 0.0, 'F': 0.058823529411764705, 'count': 17}\n",
      "wer {'A': 0.9714285714285714, 'B': 0.02857142857142857, 'F': 0.0, 'count': 35}\n",
      "sie {'A': 0.5185185185185185, 'B': 0.14814814814814814, 'F': 0.18518518518518517, 'count': 27}\n",
      "Regierung {'A': 0.7916666666666666, 'B': 0.0, 'F': 0.0, 'count': 24}\n",
      "Deutschland {'A': 0.625, 'B': 0.28125, 'F': 0.03125, 'count': 32}\n",
      "uns {'A': 0.07692307692307693, 'B': 0.07692307692307693, 'F': 0.6923076923076923, 'count': 13}\n",
      "Union {'A': 0.5, 'B': 0.08333333333333333, 'F': 0.3333333333333333, 'count': 12}\n",
      "mit {'A': 0.08823529411764706, 'B': 0.4117647058823529, 'F': 0.0, 'count': 34}\n",
      "Million {'A': 0.18181818181818182, 'B': 0.7272727272727273, 'F': 0.0, 'count': 11}\n",
      "Mensch {'A': 0.125, 'B': 0.6944444444444444, 'F': 0.013888888888888888, 'count': 72}\n",
      "ihr {'A': 0.2702702702702703, 'B': 0.4864864864864865, 'F': 0.05405405405405406, 'count': 37}\n",
      "Land {'A': 0.47619047619047616, 'B': 0.2857142857142857, 'F': 0.0, 'count': 21}\n",
      "und {'A': 0.4, 'B': 0.38, 'F': 0.04, 'count': 50}\n",
      "in {'A': 0.3, 'B': 0.3333333333333333, 'F': 0.12222222222222222, 'count': 90}\n",
      ", {'A': 0.21739130434782608, 'B': 0.40217391304347827, 'F': 0.1956521739130435, 'count': 92}\n",
      "deutsch {'A': 0.2857142857142857, 'B': 0.14285714285714285, 'F': 0.21428571428571427, 'count': 14}\n",
      "Partei {'A': 0.4666666666666667, 'B': 0.13333333333333333, 'F': 0.13333333333333333, 'count': 15}\n",
      "( {'A': 0.3125, 'B': 0.125, 'F': 0.4375, 'count': 16}\n",
      ") {'A': 0.26666666666666666, 'B': 0.13333333333333333, 'F': 0.4666666666666667, 'count': 15}\n",
      "Kind {'A': 0.04878048780487805, 'B': 0.8292682926829268, 'F': 0.0, 'count': 41}\n",
      "als {'A': 0.21428571428571427, 'B': 0.14285714285714285, 'F': 0.35714285714285715, 'count': 14}\n",
      "aus {'A': 0.3076923076923077, 'B': 0.3076923076923077, 'F': 0.15384615384615385, 'count': 13}\n",
      "Frau {'A': 0.28, 'B': 0.6, 'F': 0.0, 'count': 25}\n",
      "viel {'A': 0.17391304347826086, 'B': 0.6086956521739131, 'F': 0.043478260869565216, 'count': 23}\n",
      "für {'A': 0.11764705882352941, 'B': 0.5882352941176471, 'F': 0.029411764705882353, 'count': 34}\n",
      "Staat {'A': 0.6, 'B': 0.16666666666666666, 'F': 0.06666666666666667, 'count': 30}\n",
      "ander {'A': 0.19047619047619047, 'B': 0.42857142857142855, 'F': 0.0, 'count': 21}\n",
      "Bundesregierung {'A': 0.8, 'B': 0.0, 'F': 0.13333333333333333, 'count': 15}\n",
      "Eu {'A': 0.46153846153846156, 'B': 0.15384615384615385, 'F': 0.15384615384615385, 'count': 13}\n",
      "all {'A': 0.2608695652173913, 'B': 0.6956521739130435, 'F': 0.043478260869565216, 'count': 23}\n",
      "dieser {'A': 0.34615384615384615, 'B': 0.34615384615384615, 'F': 0.038461538461538464, 'count': 26}\n",
      "Behörde {'A': 0.9230769230769231, 'B': 0.0, 'F': 0.0, 'count': 13}\n",
      "Richter {'A': 0.3, 'B': 0.0, 'F': 0.7, 'count': 20}\n",
      "Bürger {'A': 0.14285714285714285, 'B': 0.6190476190476191, 'F': 0.047619047619047616, 'count': 21}\n",
      "sich {'A': 0.18181818181818182, 'B': 0.45454545454545453, 'F': 0.36363636363636365, 'count': 11}\n",
      "unser {'A': 0.2777777777777778, 'B': 0.4074074074074074, 'F': 0.24074074074074073, 'count': 54}\n",
      "Gericht {'A': 0.17647058823529413, 'B': 0.0, 'F': 0.7058823529411765, 'count': 17}\n",
      "jed {'A': 0.23076923076923078, 'B': 0.5384615384615384, 'F': 0.23076923076923078, 'count': 13}\n",
      "wir {'A': 0.29012345679012347, 'B': 0.11728395061728394, 'F': 0.5925925925925926, 'count': 162}\n",
      "Bevölkerung {'A': 0.0, 'B': 0.8461538461538461, 'F': 0.15384615384615385, 'count': 13}\n",
      "ich {'A': 0.04477611940298507, 'B': 0.029850746268656716, 'F': 0.9104477611940298, 'count': 67}\n",
      "Europa {'A': 0.4375, 'B': 0.4375, 'F': 0.0625, 'count': 16}\n",
      "mein {'A': 0.0, 'B': 0.08333333333333333, 'F': 0.75, 'count': 12}\n",
      "Kirche {'A': 0.5454545454545454, 'B': 0.18181818181818182, 'F': 0.09090909090909091, 'count': 11}\n"
     ]
    }
   ],
   "source": [
    "typical_roles_dict = {}\n",
    "for key, value in result_dict.items():\n",
    "    adre = len([x for x in value[1] if x['Rolle'] == 'Adresassat:in'])\n",
    "    bene = len([x for x in value[1] if x['Rolle'] == 'Benefizient:in'])\n",
    "    ford = len([x for x in value[1] if x['Rolle'] == 'Forderer:in'])\n",
    "    typical_roles_dict[key] = {\n",
    "        'A': adre/value[0],\n",
    "        'B': bene/value[0],\n",
    "        'F': ford/value[0],\n",
    "        'count': value[0]\n",
    "    }\n",
    "\n",
    "for key, value in typical_roles_dict.items():\n",
    "    if value['count'] > 10:\n",
    "        print(key, value)"
   ]
  }
 ],
 "metadata": {
  "kernelspec": {
   "display_name": "Python 3",
   "language": "python",
   "name": "python3"
  },
  "language_info": {
   "codemirror_mode": {
    "name": "ipython",
    "version": 3
   },
   "file_extension": ".py",
   "mimetype": "text/x-python",
   "name": "python",
   "nbconvert_exporter": "python",
   "pygments_lexer": "ipython3",
   "version": "3.12.0"
  }
 },
 "nbformat": 4,
 "nbformat_minor": 2
}
