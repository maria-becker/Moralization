{
 "cells": [
  {
   "cell_type": "markdown",
   "metadata": {},
   "source": [
    "# Comparison of Moralizations with other Texts\n",
    "\n",
    "This notebook demonstrates how the modules of this directory can be used to compare linguistic features of moralizations with non-moralizing texts, such as thematizations of morality.\n"
   ]
  },
  {
   "cell_type": "markdown",
   "metadata": {},
   "source": [
    "## Setup"
   ]
  },
  {
   "cell_type": "markdown",
   "metadata": {},
   "source": [
    "The following cell needs to be executed only if the notebook is run in Google Colab."
   ]
  },
  {
   "cell_type": "code",
   "execution_count": null,
   "metadata": {},
   "outputs": [],
   "source": [
    "from google.colab import drive\n",
    "drive.mount('/content/drive')\n",
    "!git clone https://github.com/maria-becker/Moralization/\n",
    "%cd \"/content/Moralization/Annotation Analysis Tools/data_analysis\""
   ]
  },
  {
   "cell_type": "markdown",
   "metadata": {},
   "source": [
    "These modules always need to be imported; always execute the cell below.\n",
    "Note that these imports (and the imports inside the imported modules) only work with Unix/Linux-style filepaths. Under Windows, *corpus_extraction* and *xmi_analysis_util* have to be imported with other means (such as copying them into the current directory or installing them with pip)."
   ]
  },
  {
   "cell_type": "code",
   "execution_count": 1,
   "metadata": {},
   "outputs": [
    {
     "name": "stderr",
     "output_type": "stream",
     "text": [
      "/usr/lib/python3/dist-packages/pytz/__init__.py:31: SyntaxWarning: invalid escape sequence '\\s'\n",
      "  match = re.match(\"^#\\s*version\\s*([0-9a-z]*)\\s*$\", line)\n"
     ]
    }
   ],
   "source": [
    "import comparison_corpus_gen as ccg\n",
    "import comparison_list_gen as clg\n",
    "import moral_vs_nonmoral as mvn\n",
    "import comparison_gen_collection as cgc\n",
    "\n",
    "import sys\n",
    "sys.path.append('../_utils_')\n",
    "import corpus_extraction as ce"
   ]
  },
  {
   "cell_type": "markdown",
   "metadata": {},
   "source": [
    "## Creating a List of Items to Compare"
   ]
  },
  {
   "cell_type": "markdown",
   "metadata": {},
   "source": [
    "There are two ways of creating lists of items whose frequencies we want to compare. The first is just to do it manually, like below."
   ]
  },
  {
   "cell_type": "code",
   "execution_count": 7,
   "metadata": {},
   "outputs": [],
   "source": [
    "comparison_list = [\n",
    "    \"würde\",\n",
    "    \"recht\",\n",
    "    \"gerechtigkeit\",\n",
    "    \"demokratie\"\n",
    "    ]"
   ]
  },
  {
   "cell_type": "markdown",
   "metadata": {},
   "source": [
    "The other way is to use data from the corpora.\n",
    "The module *comparison_list_gen* makes it possible to create dictionaries of lemmata or tokens that appear inside different types of annotations, where the keys are the tokens/lemmata and the values are the number of appearances.\n",
    "Subsequently, these dictionaries can be used for comparison."
   ]
  },
  {
   "cell_type": "code",
   "execution_count": 2,
   "metadata": {},
   "outputs": [
    {
     "name": "stdout",
     "output_type": "stream",
     "text": [
      "KeyError: {'Coordinates': (43846, 43875), 'Category': 'Subversion'} -- Is the label inside a moralization?\n"
     ]
    }
   ],
   "source": [
    "moral_filepath = \"/home/brunobrocai/Desktop/Code/moralization/Testfiles/test_gerichtsurteile_DE.xmi\"\n",
    "corpus = ce.Corpus(moral_filepath)\n",
    "\n",
    "# Other functions that could be used here:\n",
    "# tokens_in_annotations() for tokens\n",
    "# pos_lemmata_in_annotations() for lemmata with specific POSs\n",
    "\n",
    "comparison_lemmata = cgc.lemmata_in_annotation(\n",
    "    category=\"all_morals\",\n",
    "    language=\"de\",\n",
    "    corpus=corpus,\n",
    "    hanta=True\n",
    ")"
   ]
  },
  {
   "cell_type": "markdown",
   "metadata": {},
   "source": [
    "Print the dictionary to get an overview of common lemmata."
   ]
  },
  {
   "cell_type": "code",
   "execution_count": null,
   "metadata": {},
   "outputs": [],
   "source": [
    "for lemma, count in comparison_lemmata.items():\n",
    "    print(lemma, count)"
   ]
  },
  {
   "cell_type": "markdown",
   "metadata": {},
   "source": [
    "Use list comprehension to get a list of lemmata whose frequencies we can compare. In this example, we are taking all lemata with an absolute frequency of more than 10, them printing it to make sure it contains only interesting lemmata (and then remove those we do not care for)."
   ]
  },
  {
   "cell_type": "code",
   "execution_count": 5,
   "metadata": {},
   "outputs": [
    {
     "name": "stdout",
     "output_type": "stream",
     "text": [
      "['der']\n"
     ]
    }
   ],
   "source": [
    "comparison_list = [l for l in comparison_lemmata if comparison_lemmata[l] > 10]\n",
    "comparison_list.remove(\"#\")\n",
    "print(comparison_list)"
   ]
  },
  {
   "cell_type": "markdown",
   "metadata": {},
   "source": [
    "## Creating Corpora to Compare"
   ]
  },
  {
   "cell_type": "markdown",
   "metadata": {},
   "source": [
    "We now need to create two more lists of strings. These should contain lists of moralizations and a type of non-moralizing texts. They will be the basis on which the frequencies of phenomena such as tokens or lemmata will be compared.\n",
    "\n",
    "This can be achieved via the *comparison_corpus_gen* module."
   ]
  },
  {
   "cell_type": "markdown",
   "metadata": {},
   "source": [
    "We can create a list of non-moralizing strings by using excel files that contain categorizations, where a 3 in the second column is assigned to moralizations and 0-2 are assigned to non-moralizing speech.\n",
    "\n",
    "In the following code, we retrieve text tagged with a 0 -- in other words, thematizations of morality (see annotation guidelines)."
   ]
  },
  {
   "cell_type": "code",
   "execution_count": 4,
   "metadata": {},
   "outputs": [
    {
     "name": "stdout",
     "output_type": "stream",
     "text": [
      "Klägerin war eine 55-jährige Arbeitslose, die mit ihrem Mann in \"Bedarfsgemeinschaft\" zusammenlebt.\n",
      "Deswegen bekommen beide pro Kopf nur 311 Euro ALG II statt des vollen Satzes von 354 Euro.\n",
      "Es reiche aber für eine menschenwürdige \"bescheidene Lebensführung\" noch aus.\n",
      "(AZ: VII ZR 52/06)\n",
      "                                                                                                                                                                                                                                                                                                                                                                                                                                                                                                                                                                                                                                                                                                                                                                                                                                                                                                                                                                                                                                                                                                                                                                                                                                              HMP07/JAN.02145 Hamburger Morgenpost, 21.01.2007, S. 45; Wie kündige ich die Muckibude?\n",
      "Aber: Längere Verträge dürften vor Gericht keine Chance haben, weil hier \"eine unangemessene #Benachteiligung\"# vorliegt.\n",
      "/FEB.02638 Hamburger Morgenpost, 23.02.2007, S. 23; Stacheldraht muss entfernt werden ### Hat ein Ehepaar sein Grundstück mit einem Lamellenzaun eingegrenzt, auf dem Stacheldraht angebracht ist, und steht der Zaun vor einem weiteren Holzzaun, kann die Stadt verlangen, dass der Stacheldraht entfernt wird. ### Das Argument: Er stelle eine #Gefahr# dar. ### Kinder könnten sich verletzen, so das Verwaltungsgericht Koblenz. (7 K 2595/05)\n",
      "# Lebten die in einem Heim, hieß es generell: kein ALG II. ### Das Bundessozialgericht: Wer nur für sechs Monate in einem Heim untergebracht wird, aber prinzipiell erwerbsfähig ist, der hat Anspruch auf ALG II (Az.\n",
      "B 14/7b AS 16/07 R).\n",
      "HMP08/MAR.01402 Hamburger Morgenpost, 14.03.2008, S. 54; Inzest bleibt verboten ### Der Vorsitzende Richter Winfried Hassemer stimmte gegen seine sieben Kollegen.\n",
      "Es spreche viel dafür, dass die Bestimmung \"lediglich Moralvorstellungen, nicht aber ein konkretes Rechtsgut im Auge hat\".\n",
      "Patricks Verteidiger ist vor allem über die Begründung des Gerichts empört, wonach \"die Unversehrtheit des Nachwuchses\" geschützt werden müsse.\n",
      "Tochter Nancy (4) ist seit einer Herzoperation gesund.\n",
      "Tochter Sofia (2) ist putzmunter.\n",
      "Sie ist die Einzige, die bei ihnen bleiben durfte.\n",
      "Die anderen Kinder wurden vom Jugendamt in Pflegefamilien gebracht.\n",
      "Patrick ließ sich inzwischen sterilisieren.\n",
      "HMP08/MAR.01402 Hamburger Morgenpost, 14.03.2008, S. 54; Inzest bleibt verboten ### Der Vorsitzende Richter Winfried Hassemer stimmte gegen seine sieben Kollegen.\n",
      "Es spreche viel dafür, dass die Bestimmung \"lediglich Moralvorstellungen, nicht aber ein konkretes Rechtsgut im Auge hat\".\n",
      "/NOV.01412 Hamburger Morgenpost, 14.11.2008, S. 24; Hartz IV und Klassenfahrt ### KASSEL Für Kinder von Hartz-IV-Empfängern muss den Eltern der Kostenbeitrag zu mehrtägigen Klassenfahrten komplett vom zuständigen Job-Center erstattet werden, urteilte das Bundessozialgericht (BSG) in Kassel (Az. : B 14 AS 36/07 R).\n",
      "Mit dem Grundsatzurteil gaben die Richter einer Berliner Familie recht, der die Senatsverwaltung nur einen begrenzten Betrag hatte bewilligen wollen.\n",
      "Höchstgrenzen für die Kosten von Klassenfahrten festzulegen erlaube das maßgebliche Sozialgesetzbuch II nicht, befand das Gericht.\n",
      "U04/MAI.04355 Süddeutsche Zeitung, 27.05.2004, S. 1; Ausweisung in die Türkei weiter ungewiss ### Die Verteidigung widersprach der Ansicht, ihr Mandant könne mit einem fairen Prozess in der Türkei rechnen.\n",
      "Gesetzgebung und Praxis klafften meilenweit auseinander, sagte Naumann. ### Kaplan drohe bei einer Abschiebung #Folter# wie auch ein nicht rechtsstaatliches Gerichtsverfahren. ### Kaplan ist in der Türkei wegen Hochverrats angeklagt.\n",
      "In Deutschland wurde er im November 2000 vom Oberlandesgericht Düsseldorf zu einer vierjährigen Haftstrafe verurteilt, weil er zum Mord an einem Rivalen aufgerufen hatte.\n",
      "Das Interesse Kaplans an seinem weiteren Verbleib im Bundesgebiet habe „hinter dem öffentlichen Interesse an einer sofortigen Abschiebung zurückzustehen”.\n",
      "U07/OKT.03490 Süddeutsche Zeitung, 20.10.2007, S. 28; Risiko Elternzeit ### Von „etwa 100 betroffenen Frauen” weiß die Berliner Anwältin Petra Santro, die nach der Niederlage ihrer Mandantin jetzt vor das Bundessozialgericht ziehen will, notfalls auch bis zum Bundesverfassungsgericht.\n",
      "/DEZ.02004 Süddeutsche Zeitung, 12.12.2007, S. 15; Absurde Pflicht ### Die Pressekammer des Landgerichts Hamburg hat einen gewissen Bekanntheitsgrad, weil sie sich mal mit bösen Behauptungen über die Haarfarbe eines Ex-Bundeskanzlers beschäftigt hat.\n",
      "/JAN.02852 Süddeutsche Zeitung, 18.01.2008, S. 6; Verfassungsschutz darf Ramelow nicht beobachten ### Für das Gericht spielte das keine Rolle.\n",
      "Die Sammlung personenbezogener Daten sei rechtswidrig, „soweit es sich um die Zeit als thüringischer Landtagsabgeordneter und anschließend Bundestagsmitglied handelt”, sagte Stemshorn.\n",
      "/JAN.02852 Süddeutsche Zeitung, 18.01.2008, S. 6; Verfassungsschutz darf Ramelow nicht beobachten ### Für das Gericht spielte das keine Rolle.\n",
      "Die Sammlung personenbezogener Daten sei rechtswidrig, „soweit es sich um die Zeit als thüringischer Landtagsabgeordneter und anschließend Bundestagsmitglied handelt”, sagte Stemshorn.\n",
      "/MAR.02285 Süddeutsche Zeitung, 13.03.2008, S. 17; Eine gewisse Nähe ### Die Frage „Darf die Partei das?”\n",
      "beantwortete das Verfassungsgericht mit Ja.\n",
      "Diese seien „ihrem Wesen nach auf die Erlangung staatlicher Macht ausgerichtet” und übten „entscheidenden Einfluss auf die Besetzung der obersten Staatsämter” aus; dabei komme es auch zu „personellen Überschneidungen zwischen Partei und Staatsorgan.\n",
      "Diese „gewisse Staatsnähe” sei zwar vom Gesetzgeber zu beachten, er müsse aber auch die Grundrechte der Parteien berücksichtigen.\n",
      "Mit ihnen sei ein absolutes Beteiligungsverbot nicht vereinbar.\n",
      "U08/MAR.02285 Süddeutsche Zeitung, 13.03.2008, S. 17; Eine gewisse Nähe ### Die Frage „Darf die Partei das?”\n",
      "Bei der Arbeitsgemeinschaft für betriebliche Altersversorgung (aba) hält man es für möglich, dass nun in zahlreichen Versorgungswerken entweder die Beiträge steigen oder die Leistungen sinken werden.\n",
      "U08/APR.00327 Süddeutsche Zeitung, 02.04.2008, S. 25; Homosexuelle Partner können auf Witwerrente hoffen ### Nach dem Tod des Kostümbildners verweigerte die Versorgungsanstalt der deutschen Bühnen (VddB) Maruko eine Witwerrente, weil solche Zahlungen laut Satzung nur für Ehegatten vorgesehen seien. ### Maruko klagte, weil er darin eine #Diskriminierung# aufgrund seiner sexuellen Orientierung sah. ### Das Bayerische Verwaltungsgericht teilte seine Bedenken und legte den Fall dem EuGH vor.\n",
      "Das solle das Bayerische Verwaltungsgericht nun prüfen.\n",
      "Die Münchner Richter hatten allerdings bereits in ihrem Vorlagebeschluss an den EuGH die Auffassung vertreten, dass in Deutschland die Situation der Lebenspartner mit der von Ehegatten „vergleichbar” sei.\n",
      "U08/APR.02839 Süddeutsche Zeitung, 16.04.2008, S. 5; Neue Härten für Arbeitslose ### Berlin – Arbeitslose müssen vor dem Erhalt von Hartz-IV-Leistungen selbst dann ihre Lebensversicherung verkaufen, wenn sie fast keinen Anspruch auf eine gesetzliche Rente haben.\n",
      "Das entschied das Bundessozialgericht (BSG) am Dienstag in Kassel (Aktenzeichen: B 14/7b AS 68/06 R).\n",
      "Geklagt hatte ein 51-Jähriger aus Bad Salzuflen, dem die Arbeitsagentur wegen seiner Lebensversicherung im Wert von knapp 43 000 Euro kein Arbeitslosengeld II gewährt hatte.\n",
      "Der Mann war nur kurz angestellt gewesen, danach aber 20 Jahre lang selbständig tätig.\n",
      "Es stehe in „erheblichem Widerspruch” zur eingeführten Rechtsprechung über Bilder von Mutter und Kind gegen den erklärten oder vermuteten Willen der Betroffenen\n",
      "Das Kind der Schauspielerin sei teilweise ungepixelt gezeigt worden, die Fotos belegten zudem, dass Makatsch von den „Abschüssen” (Schertz) nichts mitbekommen habe. ### Der Anwalt spricht von einem „unmittelbaren #Eingriff# in die Mutter-Kind-Beziehung” und einem schweren Eingriff in das Recht von Prominentenkindern, unbeobachtet von Medien aufzuwachsen. ###\n",
      "                                                                                                                                                                                                                                                                                                                                                                                                                                                                                                                                                                                                                                                                                                                                              U08/MAI.01188 Süddeutsche Zeitung, 08.05.2008, S. 15; Bilder vom Baby ### Makatschs Anwalt Christian Schertz will in Berufung gehen.\n",
      "„Spürbare Summen” seien das einzige Mittel gegen die „kalkulierten Rechtsverstöße der Regenbogenpresse”.\n",
      "Das Kind der Schauspielerin sei teilweise ungepixelt gezeigt worden, die Fotos belegten zudem, dass Makatsch von den „Abschüssen” (Schertz) nichts mitbekommen habe. ### Der Anwalt spricht von einem „unmittelbaren Eingriff in die Mutter-Kind-Beziehung” und einem schweren #Eingriff# in das Recht von Prominentenkindern, unbeobachtet von Medien aufzuwachsen. ###\n",
      "/AUG.02699 Süddeutsche Zeitung, 16.08.2008, S. 27; Stromnetz darf billiger werden ### Bei Vattenfall Europe hatte die Bundesnetzagentur im Juni 2006 als Allererstes angeklopft.\n",
      "Das Oberlandesgericht Düsseldorf hatte diese Forderung der Netzagentur einst im Eilverfahren verworfen.\n",
      "U09/APR.04432 Süddeutsche Zeitung, 30.04.2009, S. 7; CIA-Dienstleister verklagt ### Wie schon die Bush-Administration warnt auch die Obama-Regierung davor, dass durch solche Prozesse wichtige Staatsgeheimnisse aufgedeckt werden könnten.\n",
      "Mit diesem Argument war der Klage der fünf Männer in erster Instanz noch die Zulassung verwehrt worden.\n",
      "Der ehemalige CIA-Direktor Michael Hayden hatte ausgesagt, dass die Offenlegung von Informationen über Gefangenenflüge und Verhöre „außergewöhnlich großen Schaden für die nationale Sicherheit der Vereinigten Staaten” bringen könnte.\n",
      "Der Bürgerrechtsverband American Civil Liberties Union, der die Kläger vor Gericht vertritt, sprach dagegen in einer Mitteilung von einem „historischen Tag”.\n",
      "Beobachter rechnen mit einer Berufung durch die Regierung und letztlich mit einer Verhandlung am Obersten Gerichtshof in Washington.\n",
      "Präsident Barack Obama ist in den vergangenen Wochen wiederholt für seine Scheu bei der Aufklärung von Folter-Vorwürfen kritisiert worden.\n",
      "U09/JUN.00634 Süddeutsche Zeitung, 05.06.2009, S.\n",
      "V2/12; Richtig oder falsch ### Die Rückgabeklausel. ### „Der Mieter ist verpflichtet, die Mietsache renoviert zurückzugeben.”\n",
      "Die Formulierung „Die Wohnung ist in bezugsfertigem Zustand zurückzugeben” ist zwar wirksam, sie bedeutet aber keine Renovierungspflicht.\n",
      "(BGH, 10.07.1991, Az. : XII ZR 105/90).\n",
      "U09/JUN.00634 Süddeutsche Zeitung, 05.06.2009, S.\n",
      "V2/12; Richtig oder falsch ### Die Fachhandwerkerklausel.\n",
      "Die Schönheitsreparaturen sind durch einen Fachhandwerker auszuführen.”\n",
      "Sie verpflichtet den Mieter zur Renovierung in mittlerer Art und Güte. inre\n",
      "                                                                                                                                                                                                                                                                                                                                                                                                                                                                                                                                                                                                  U10/JUN.00538 Süddeutsche Zeitung, 04.06.2010, S.\n",
      "V2/11; Wieder aufs Neue ### Weil sie im dritten Jahr aber lediglich auf frühere Schreiben verwiesen hätten, müssten sie den 270 Euro Grundsteueranteil zahlen.\n",
      "Nach dem BGH-Urteil war der neue Einspruch nicht entbehrlich.\n",
      "Ziel des Gesetzes sei es, innerhalb bestimmter Fristen Klarheit über die Betriebskosten zu schaffen.\n",
      "Deshalb dürfe der Vermieter nur zwölf Monate nach Ablauf des Abrechnungszeitraums Geld nachfordern.\n",
      "Umgekehrt müsse der Mieter spätestens zwölf Monate nach Zugang der Nebenkostenabrechnungen seine Beanstandungen mitteilen.\n",
      "VIII ZR 185/09) rem\n",
      "                                                                                                                                                                                                                                                                                                                                                                                                                                                                                           U10/DEZ.00114 Süddeutsche Zeitung, 01.12.2010, S. 20; Haftstrafe für Spitzeleien ### Drei Jahre und sechs Monate Gefängnis, so lautet das Urteil in der Spitzelaffäre bei der Deutschen Telekom.\n",
      "Hinter Gitter muss der ehemalige Abteilungsleiter der Konzernsicherheit, Klaus T., der nach den Feststellungen des Bonner Landgerichts Aufsichts- und Betriebsräte des Konzerns sowie Journalisten illegal hat ausspähen lassen.\n",
      "Deutliche Worte und ein deutliches Urteil, mit dem nun erwiesen ist, dass es in dem in Bonn ansässigen Konzern kriminell zugegangen war – und das bei einem Unternehmen, das aus einem Staatsbetrieb hervorgegangen ist und bei dem der Bund nach wie vor zu den Aktionären zählt.\n",
      "U10/DEZ.02662 Süddeutsche Zeitung, 17.12.2010, S. 7; Nur Niederländer dürfen kiffen ### Die Stadt Amsterdam hatte gegen die Pläne protestiert.\n",
      "Würde das Kriterium ernst genommen, müssten 187 der 223 Coffeeshops dicht machen.\n",
      "Justizminister Ivo Opstelten entgegnete, für Amsterdam könne keine Ausnahme gemacht werden.\n",
      "Wenn mehr Schwarzhandel entstehe, „dann muss der Schwarzhandel eben bekämpft werden“.\n",
      "In ihrer Apotheke in Freilassing konnten die Kunden es abholen, bezahlen und sich beraten lassen, die Rechnung kam jedoch von der ungarischen Apotheke und wies statt der deutschen Mehrwertsteuer von 19 Prozent die ungarische von fünf Prozent aus.\n",
      "So konnte die Apotheke Rabatte von bis zu 22 Prozent gewähren und verschaffte sich nach Ansicht der Kläger einen unfairen Wettbewerbsvorteil.\n",
      "Sie forderten Unterlassung und Schadenersatz.\n",
      "Auch das ähnliche Modell „Vorteil 24“, mit dem der Apothekenverbund Linda niederländische Medikamente in Deutschland vertreibt, ist umstritten.\n",
      "U12/JAN.02328 Süddeutsche Zeitung, 20.01.2012, S. 6; Keine Beugehaft im RAF-Prozess ### Deshalb reichte es dem BGH nicht aus, dass das OLG die sechsmonatige Beugehaft nur angeordnet, deren Vollzug aber bis zu einer Genesung ausgesetzt hatte.\n",
      "„Die gerichtliche Fürsorgepflicht gegenüber der Zeugin gebietet es, bereits von der Anordnung der Beugehaft abzusehen“, beschied der BGH die Stuttgarter Richter.\n",
      "Die 60 Jahre alte Eckes sollte im Prozess gegen Verena Becker um den Mord an Siegfried Buback und seinen beiden Begleitern im Jahr 1977 aussagen, und zwar über ein angebliches Schweigekartell ehemaliger RAF-Terroristen.\n",
      "Doch sie verweigerte die Aussage.\n",
      "/JUN.04172 Süddeutsche Zeitung, 28.06.2012, S. 13; &#8222;Äußerst befremdlich&#8220; ### Dieter Graumanns erste Reaktion war: ungläubiges Staunen.\n",
      "„Das muss ich mir erst einmal durchlesen“, sagte der Präsident des Zentralrats der Juden in Deutschland, und dann, dass da vielleicht ein Journalist etwas falsch verstanden haben könnte.\n",
      "Doch da war nichts falsch zu verstehen: Das Landgericht Köln wertet die rituelle Beschneidung – in diesem Fall eines muslimischen Jungen – als Körperverletzung.\n",
      "### Die katholische Bischofskonferenz (das Urteil sei „äußerst befremdlich“) springt den Juden und Muslimen genauso bei wie die Evangelische Kirche in Deutschland (EKD): Der Göttinger Staatsrechtler Hans Michael Heinig, der auch das kirchenrechtliche Institut der EKD leitet, nannte das Urteil „rechtlich, kriminalpolitisch und religionspolitisch verfehlt“; ihn wundere, wie unbekümmert die Kölner Richter angesichts der komplexen Lage geurteilt hätten.\n",
      "Das gilt für kapitalbildende Lebensversicherungen sowie für Rentenversicherungen, auch wenn sie fondsgebunden sind.\n",
      "U12/AUG.04256 Süddeutsche Zeitung, 30.08.2012, S. 5; Neue Regeln im Elterngeld-Gesetz ### Die Entscheidung geht auf Klagen abgelehnter, aber geduldeter Asylbewerber aus Kamerun, Kosovo und Kongo zurück; das Bundessozialgericht hatte die Fälle vorgelegt.\n",
      "Grundsätzlich bekräftigte Karlsruhe, dass Leistungen wie das Eltern- oder Erziehungsgeld denjenigen unter den Ausländern vorbehalten werden dürfe, die voraussichtlich auf Dauer in Deutschland bleiben. ### Eine solche #Beschränkung# verfolge einen „legitimen Zweck, soweit der Gesetzgeber mit diesen Leistungen eine nachhaltige Bevölkerungsentwicklung in Deutschland fördern will“. ###\n",
      "/OKT.02450 Süddeutsche Zeitung, 17.10.2012, S. 11; Franz Kafka wandert aus ### ### Hans-Gerd Koch, Herausgeber der Briefe Kafkas in der Kritischen Ausgabe bei S.\n",
      "Fischer, sagte der tageszeitung lapidar, wenn das Urteil Bestand habe, „käme es einer #Enteignung# der rechtmäßigen Erben gleich“. ###\n",
      "                                              U12/OKT.02862 Süddeutsche Zeitung, 19.10.2012, S. 29; Halali in Karlsruhe ### Damit dürfte das Ende eines langjährigen Streits zwischen Verbraucherschützern und Versicherern in Sicht sein.\n",
      "Es geht dabei um jene rund 80 Prozent der Lebens- und Rentenversicherungen, die vorzeitig gekündigt werden – häufig wegen Geldmangels nach einer Scheidung, nach Arbeitslosigkeit oder nach dem Kauf einer Immobilie.\n",
      "Millionen von Kunden haben sich nach einer solchen Kündigung über die oft mickrigen Summen gewundert, die ihnen trotz mehrjähriger Prämienzahlungen als „Rückkaufswert“ berechnet und ausbezahlt wurden.\n",
      "Für unwirksam erklärte der BGH auch Vertragsklauseln, die bei der Berechnung des Rückkaufwerts „nicht hinreichend deutlich“ zwischen dem „Stornoabzug“ und den im Versicherungsvertragsgesetz genannten „anerkannten Regeln der Versicherungsmathematik“ differenzieren (Aktenzeichen: IV ZR 202/10).\n",
      "U12/NOV.00979 Süddeutsche Zeitung, 08.11.2012, S. 14; Psychiatrie für Lenas Mörder ### Hamburg – Das Landgericht Aurich hat den Mörder der elfjährigen Lena aus Emden wegen Mordes, versuchten sexuellen Missbrauchs und gefährlicher Körperverletzung verurteilt.\n",
      "Er soll auf unbestimmte Zeit in der Psychiatrie untergebracht werden.\n",
      "Das Gericht beurteilte den 19-Jährigen wegen einer schweren Persönlichkeitsstörung als eingeschränkt schuldfähig.\n",
      "U12/NOV.02114 Süddeutsche Zeitung, 15.11.2012, S. 17; Ab zum Arzt ### Zwar heißt es dort zunächst: Wenn ein Arbeitnehmer länger als drei Tage arbeitsunfähig erkrankt, muss er spätestens am darauffolgenden Arbeitstag ein ärztliches Attest vorlegen.\n",
      "Doch im nächsten Satz steht: „Der Arbeitgeber ist berechtigt, die Vorlage der ärztlichen Bescheinigung früher zu verlangen.“ Punkt.\n",
      "Weitere Bedingungen oder Voraussetzungen werden dort nicht genannt.\n",
      "Im Gegenteil, die Richter stellen klar: Es sei nicht einmal „erforderlich, dass gegen den Arbeitnehmer ein begründeter Verdacht besteht, er habe in der Vergangenheit eine Erkrankung nur vorgetäuscht“.\n",
      "/MAR.03240 Süddeutsche Zeitung, 22.03.2013, S. 24; Umstrittener Preisanstieg ### Diese Klausel hat RWE auch für seine Sondervertragskunden übernommen.\n",
      "Nun liegt der Streit beim Bundesgerichtshof (BGH), der ihn schließlich dem EuGH vorlegte.\n",
      "Der Voting Rights Act sei einst eine „starke Medizin“ gewesen gegen rassische Diskriminierung.\n",
      "Doch müsse das Parlament sicherstellen, dass die Medizin auch an die heutige Lage angepasst werde.\n",
      "Die Entscheidung war allerdings unter den Richtern umstritten.\n",
      "Sie fiel mit der knappsten möglichen Mehrheit entlang der Parteilinien; die fünf Konservativen setzten sich damit erneut gegen die vier Stimmen ihrer liberaleren Kollegen durch.\n",
      "U13/JUL.02091 Süddeutsche Zeitung, 15.07.2013, S. 6; Ausgeliehen ### Die Arbeitgeber halten dagegen: Wenn die Zeitarbeit zu teuer werde, werde es sie künftig nicht mehr in dem Umfang wie bisher geben, sagt ihr Verhandlungsführer Thomas Bäumer.\n",
      "Und bevor die Gewerkschaften auf die Idee kommen, dies für eine gute Idee zu halten, fährt Bäumer fort: „Dann wird diese Tätigkeit womöglich ausgelagert – oder durch andere Beschäftigungs- und Vertragsformen erledigt“.\n",
      "Er spielt auf die Werkverträge an – eine noch ungeregeltere Form der Beschäftigung als die Leiharbeit, vor der Gewerkschafter seit Langem warnen.\n",
      "„Es ist ein tiefer Schnitt ins eigene Fleisch“, sagte er.\n",
      "U13/SEP.02579 Süddeutsche Zeitung, 19.09.2013, S. 29; NACHRICHTEN ### Hintergrund des Streits sind neue Gesetze, die zugunsten privater Medienunternehmer die Macht des ORF beschränken.\n",
      "Schon einmal hatte der BKS auf dieser Grundlage dem ORF untersagt, bei Facebook präsent zu sein.\n",
      "Den entsprechenden Gesetzesabschnitt kassierte aber der österreichische Verfassungsgerichtshof.\n",
      "Mit dem neuen Urteil beruft sich der BKS nun auf einen anderen Gesetzesabschnitt.\n",
      "Demnach ist es dem ORF verboten, „ständige Foren“ zu betreiben.\n",
      "Darunter fallen auch die 39 Facebookseiten, auf denen die User kontrovers die geposteten Themen kommentieren.\n",
      ".\n",
      "###\n"
     ]
    }
   ],
   "source": [
    "nonmoral_list = cgc.list_nonmoral_strings_from_corpus(\n",
    "    corpus\n",
    ")\n",
    "for element in nonmoral_list:\n",
    "    print(element)"
   ]
  },
  {
   "cell_type": "code",
   "execution_count": 5,
   "metadata": {},
   "outputs": [],
   "source": [
    "nonmoral_list2 = cgc.list_nonmoral_strings_from_xlsx(\n",
    "    \"/home/brunobrocai/Data/Moralization/Excels/Alle_bearbeiteten_Annotationen_positiv_final.xlsx\",\n",
    "    [\"Gerichtsurteile\"],\n",
    "    [0, 1, 2]\n",
    ")"
   ]
  },
  {
   "cell_type": "markdown",
   "metadata": {},
   "source": [
    "We retrieve moralizing strings via xmi files. (While it is possible to use the above function to retrieve items tagged with a 3, these annotations are of lower quality than those in the xmi files.) The function call below is rather self-explanatory."
   ]
  },
  {
   "cell_type": "code",
   "execution_count": 3,
   "metadata": {},
   "outputs": [
    {
     "name": "stdout",
     "output_type": "stream",
     "text": [
      "Die Klausel ist unwirksam. ### Sie #benachteiligt# den Mieter unangemessen\n",
      "Der stellvertretende Fraktionsvorsitzende der Linken sagte, nun müsse die Bundesregierung den Verfassungsschutz anweisen, grundsätzlich die Beobachtung der Linken einzustellen: „Wenn die Bundesregierung Mut und Kraft hat, wird sie den Kalten #Krieg# beenden und den unsäglichen Weg der Bespitzelung nicht weitergehen”, sagte Ramelow der Süddeutschen Zeitung.\n",
      "Diese \"eugenische\" Argumentation könne er nicht nachvollziehen\n",
      "Sucht eine Firma in einer internen Stellenausschreibung gezielt nur Berufsanfänger mit erst wenigen Berufsjahren, ist das wegen #Diskriminierung# von älteren Beschäftigten unzulässig\n",
      "ORF-Generaldirektor Alexander Wrabetz sagte der Presseagentur APA: „Wir werden diesen beispiellosen #Eingriff# in die Meinungsfreiheit selbstverständlich auch diesmal nicht hinnehmen\n",
      "Seine Anwältin argumentierte, er sei durch den vom Jobcenter geforderten Verkauf der Lebensversicherung „auf den Weg der #Altersarmut# verwiesen”: Wenn er seine private Altersvorsorge aufgäbe, müsste er im Alter von Sozialhilfe leben\n",
      "Nach Überzeugung der Verbraucherzentrale Nordrhein-Westfalen ist sie jedoch unzulässig. ### Die Kunden würden durch die Möglichkeit einseitiger Preiserhöhungen #benachteiligt\n",
      "Nach Angaben ihres Anwalts Heinz-Jürgen Schneider hatten die OLG-Richter sie Ende November bei laufender Chemo-Infusion im Krankenhaus befragt und ihr zwei Wochen später die „Ladung zum Beugehaftantritt“ geschickt. ### Der BGH sieht darin einen schweren #Eingriff# in ihre Grundrechte auf Freiheit, Leben und körperliche Unversehrtheit.\n",
      "Spürbare Summen” seien das einzige Mittel gegen die „kalkulierten Rechtsverstöße der Regenbogenpresse\n",
      "Die Luxemburger Richter entschieden nun, dass eine unmittelbare Diskriminierung gegeben sei, falls sich überlebende Ehegatten und überlebende Lebenspartner in Bezug auf die Versorgung in einer vergleichbaren Lage befinden\n",
      "Zudem weist Bäumer darauf hin: Sieben von zehn neu eingestellten Zeitarbeitern waren vorher arbeitslos. ### „Diese Brücke von der #Arbeitslosigkeit# in ein Berufsleben wäre dann bedroht.“\n",
      "Am Tag nach dem Beschneidungs-Urteil überwiegt die Kritik an der Entscheidung der Richter. ### Auch der Zentralrat der Muslime in Deutschland spricht von einem „eklatanten und unzulässigen #Eingriff# in das Selbstbestimmungsrecht der Religionsgemeinschaften und in das Elternrecht“.\n",
      "Die Behörden seien verpflichtet, einen Zuschuss und nicht nur ein Darlehen zum Arbeitslosengeld II zu gewähren. ### \"Kinder sollen gerade im schulischen Bereich nicht #benachteiligt# werden\", hieß es in der Urteilsbegründung. ###\n",
      "Das Gericht folgte mit seinem Urteil der Staatsanwaltschaft, die einen „extremen #Angriff# auf die Presse und Informationsfreiheit“ beklagt hatte. ### Was bei der Telekom geschehen sei, das sei ein „Super-Gau“ gewesen\n",
      "Den Antrag der Vattenfall-Netztochter kürzte die Bonner Behörde um 18 Prozent – und stieß auf Empörung. ### „Das ist rechtswidrig, sachwidrig, wirtschaftlich nicht akzeptabel und eine #Diskriminierung# Ostdeutschlands”, hatte der damalige Vattenfall-Chef Klaus Rauscher gepoltert, wenn auch letztlich erfolglos\n",
      "Der Mieterbund kritisierte die Entscheidung als „wenig praxisnah“. ### Sie öffne dem #Missbrauch# Tür und Tor. ### (Az.\n",
      "Das Ziel der Rechtssicherheit würde verfehlt, wenn Mieter frühere Beanstandungen auf spätere Abrechnungszeiträume übertragen könnten, erklärte der Mietsenat des BGH.\n",
      "Der Vorsitzende des Auswärtigen Ausschusses des Bundestages, Ruprecht Polenz (CDU), beklagte „einen #Missbrauch# der Justiz zu politischen Zwecken“\n",
      "„Mit diesem Urteil entfernt sich Russland einen weiteren Schritt von Demokratie und Rechtsstaatlichkeit“, kritisierte der Menschenrechtsbeauftragte der Bundesregierung, Markus Löning (FDP).\n",
      "Andererseits dürfe die Anweisung natürlich nicht „zur gezielten Maßregelung oder #Diskriminierung“# eingesetzt werden\n",
      "Es werde sich um ein sehr langes Wegschließen handeln, sagte der Vorsitzende Richter Werner Brederlow. ### Der Mann sei eine #Gefahr# für die Allgemeinheit, er habe seine Opfer wahllos ausgesucht\n",
      "Insbesondere in dieser Verrechnung sah der BGH eine „unangemessene #Benachteiligung“# der Verbraucher und erklärte entsprechende Klauseln für unwirksam\n",
      "Die Richter der 12. ### Kammer erklärten, Kaplan sei „als Identifikationsfigur für den islamischen #Extremismus”# anzusehen. ### Es sei deshalb notwendig, seinen Aufenthalt in Deutschland zu beenden\n",
      "Diese Klausel ist unwirksam, da sie den Mieter unangemessen #benachteiligt# (BGH, 12.09.2007, Az. ### : VIII ZR 316/06).\n",
      "Schluss auch mit der Praxis, behinderte ALG-II-Empfänger zu #benachteiligen!\n",
      "Sie sahen sich durch das Geschäftsmodell einer Konkurrentin im gleichen Ort #benachteiligt\n",
      "Wir machen das seit 4000 Jahren“, sagte Graumann fassungslos. ### Und dass dieses Urteil einen „beispiellosen und dramatischen #Eingriff# in das Selbstbestimmungsrecht der Religionsgemeinschaften“ darstelle\n",
      "Erstere müsse im Interesse der Meinungsvielfalt gewährleistet sein; die Staatsfreiheit des Rundfunks verbiete eine mittelbare oder unmittelbare Beherrschung von Unternehmen sowie jede #„Gängelung# der Medien durch den Staat” oder eine „politische Instrumentalisierung”\n",
      "Der Bundesgerichtshof (BGH) entschied vergangene Woche in Karlsruhe, dass solche Abgeltungsklauseln den Mieter \"unangemessen\" #benachteiligen,# hieß es\n",
      "Das Arbeitslosengeld II ist nicht so niedrig, dass dadurch die grundgesetzlich garantierte Menschenwürde verletzt wird, urteilte das Sozialgericht Berlin\n",
      "Das könnte sich nun ändern, weil der FDP-Politiker Hans-Joachim Otto ein Urteil gegen den Medienjournalisten und Blogger Stefan Niggemeier als „ungerechtfertigte #Einschränkung”# der Meinungs- und Pressefreiheit wertet. ###\n",
      "Nach der Entscheidung des BGH sind die Kunden bei der Rückzahlung ihrer Beiträge unangemessen #benachteiligt# worden. ### Der Versicherer muss den Kunden einen Nachschlag zahlen\n",
      "Das Gericht in San Francisco stellte nun fest, dass dem Schutz der nationalen Sicherheit mit genauen Einzelgutachten aller in einem Verfahren angeführten Dokumente genüge getan werden könne. ### Der Regierung das Recht zu geben, unbequeme Klagen grundsätzlich mit Verweis auf Staatsgeheimnisse zu unterbinden, wäre dagegen eine „Konzentration unkontrollierter Macht”, die unweigerlich zu #Missbrauch# führe\n",
      "Ihrer Ansicht nach verstößt die Berechnung gegen den Schutz von Müttern und Familie, wie ihn Artikel 6 des Grundgesetzes garantiert. ### „Ich halte die Entscheidung des Gerichts im Ergebnis für haarsträubend”, sagt Santro, „das ist eine indirekte #Diskriminierung# von Müttern und Frauen.” ###\n",
      "Die Verweigerung einer Witwerrente für einen hinterbliebenen schwulen oder lesbischen Partner könne eine #Benachteiligung# wegen seiner sexuellen Ausrichtung sein, entschieden die obersten Richter der Europäischen Union am Dienstag in Luxemburg.\n",
      "Auch gewerbliche Mieter (zum Beispiel eines Ladenlokals) können nicht zur Renovierung ihrer Räume innerhalb starrer Fristen verpflichtet werden. ### Denn starre Fristen #benachteiligen# den Mieter unangemessen, weil er auch dann renovieren müsste, wenn die Räume in einwandfreiem Zustand wären. ###\n",
      "Der Vorsitzende Richter John Roberts, ein Konservativer, erklärte jetzt, diese Art der #Bevormundung# Bundesstaaten durch die Zentralregierung sei nicht zeitgemäß\n",
      "Arztkosten seien dadurch ebenso wenig finanzierbar wie die Teilnahme am gesellschaftlichen Leben, argumentierte die Klägerin. ### Dies führe zur #Ausgrenzung,# die Menschenwürde und das Sozialstaatsprinzip seien verletzt\n",
      "Anders als in den Grenzgebieten würden die Drogentouristen in Amsterdam kaum Ärger machen, außerdem kämen sie nicht nur, um Gras zu kaufen, erklärte Bürgermeister Eberhard van der Laan. ### Das elektronische Passsystem führe nur zu verstärktem Schwarzhandel und entsprechender #Kriminalität\n"
     ]
    }
   ],
   "source": [
    "moral_list = cgc.list_moralization_strings_from_corpus(\n",
    "    corpus,\n",
    ")\n",
    "for element in moral_list:\n",
    "    print(element)"
   ]
  },
  {
   "cell_type": "markdown",
   "metadata": {},
   "source": [
    "## Comparison"
   ]
  },
  {
   "cell_type": "markdown",
   "metadata": {},
   "source": [
    "Let's use the three lists of strings we generated - the lemmata whose frequencies will be compared, and the lists of moralizing and non-moralizing speech on which we are basing our analysis, to see whether the lemmata are significantly more frequent in moralizations and hence indicative of that speech act."
   ]
  },
  {
   "cell_type": "code",
   "execution_count": 10,
   "metadata": {},
   "outputs": [
    {
     "name": "stdout",
     "output_type": "stream",
     "text": [
      "Error: Division by zero.\n",
      "Error: Division by zero.\n",
      "würde {'likelihood_moral': 0.0008756567425569177, 'likelihood_nonmoral': 0.00033534540576794097, 'ratio': 2.6112084063047285, 'diff_coeficient': 0.446168768186227, 'pvalue_fisher': 0.47719753844735113, 'contingency_table': [[1, 1141], [1, 2981]]}\n",
      "recht {'likelihood_moral': 0.0008756567425569177, 'likelihood_nonmoral': 0.001006036217303823, 'ratio': 0.8704028021015762, 'diff_coeficient': -0.06928838951310866, 'pvalue_fisher': 1.0, 'contingency_table': [[1, 1141], [3, 2979]]}\n",
      "gerechtigkeit None\n",
      "demokratie None\n"
     ]
    }
   ],
   "source": [
    "comparison_dict = mvn.compare_token_likelihood_dict(\n",
    "    moral_list=moral_list,\n",
    "    nonmoral_list=nonmoral_list,\n",
    "    token_list=comparison_list,\n",
    "    language='german'\n",
    ")\n",
    "for lemma, stats in comparison_dict.items():\n",
    "    print(lemma, stats)"
   ]
  },
  {
   "cell_type": "markdown",
   "metadata": {},
   "source": [
    "We can also write the results into an excel file, like so:"
   ]
  },
  {
   "cell_type": "code",
   "execution_count": null,
   "metadata": {},
   "outputs": [],
   "source": [
    "mvn.dict_to_xlsx(comparison_dict, \"output.xlsx\")"
   ]
  }
 ],
 "metadata": {
  "kernelspec": {
   "display_name": "Python 3",
   "language": "python",
   "name": "python3"
  },
  "language_info": {
   "codemirror_mode": {
    "name": "ipython",
    "version": 3
   },
   "file_extension": ".py",
   "mimetype": "text/x-python",
   "name": "python",
   "nbconvert_exporter": "python",
   "pygments_lexer": "ipython3",
   "version": "3.12.0"
  }
 },
 "nbformat": 4,
 "nbformat_minor": 2
}
