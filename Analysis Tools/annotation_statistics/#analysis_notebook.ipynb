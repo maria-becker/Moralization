{
  "cells": [
    {
      "cell_type": "markdown",
      "metadata": {
        "id": "MKYTYetQ3jKf"
      },
      "source": [
        "# Daten-Visualisierung\n",
        "\n",
        "Das vorliegende Jupyter-Notebook dient dazu, Statistiken zu den Korpus-Annotationen zu visualisieren.\n",
        "Dieses Notebook ermöglicht es, ein oder mehrere Subkorpora (in der Form mehrerer XMI-Dateien) zu einem großen Korpus zusammenzufassen."
      ]
    },
    {
      "cell_type": "markdown",
      "metadata": {
        "id": "7c31rG4iq1Ii"
      },
      "source": [
        "## Setup"
      ]
    },
    {
      "cell_type": "markdown",
      "metadata": {
        "id": "16bhVxm6wx62"
      },
      "source": [
        "Setup. Muss ausgeführt werden, wenn das Notebook in Colab ausgeführt wird."
      ]
    },
    {
      "cell_type": "code",
      "execution_count": null,
      "metadata": {
        "colab": {
          "base_uri": "https://localhost:8080/"
        },
        "id": "1EP1ncFKwvDC",
        "outputId": "93f81241-4e56-4873-8019-56b17ade6f22"
      },
      "outputs": [],
      "source": [
        "from google.colab import drive\n",
        "drive.mount('/content/drive')\n",
        "!git clone https://github.com/maria-becker/Moralization/\n",
        "%cd \"/content/Moralization/Annotation Analysis Tools/data_analysis\""
      ]
    },
    {
      "cell_type": "markdown",
      "metadata": {},
      "source": [
        "Die import-Statements müssen immer ausgeführt werden."
      ]
    },
    {
      "cell_type": "code",
      "execution_count": 2,
      "metadata": {},
      "outputs": [],
      "source": [
        "import sys\n",
        "import annotation_stats_single as astats\n",
        "import label_analysis as la\n",
        "\n",
        "sys.path.append(\"../_utils_\")\n",
        "import corpus_extraction as ce\n",
        "import xmi_analysis_util as xau"
      ]
    },
    {
      "cell_type": "markdown",
      "metadata": {
        "id": "fdSH1AfA0Yk4"
      },
      "source": [
        "Hier bitte eine Liste *file_list* erstellen, die die Dateipfade zu allen Korpusdateien enthält, die ihr analysieren wollt.\n",
        "+ *Am einfachsten erhält man einen Dateipfad, indem man die Datei im Ordersystem rechtsklickt und dann -> 'Pfad kopieren' auswählt. Und unbedingt den Pfad in Anführungszeichen setzen und davor ein kleines \"r\"!*\n",
        "+ *Wer sich ein bisschen auskennt, kann zum Erstellen der Liste auch das os-Modul benutzen, das aus diesem Grund oben importiert wurde.*\n",
        "\n",
        "Bei der Erstellung des corpus-Objekts ist zu beachten, welche Sprache(n) in eurem Korpus vertreten sind. Ist es sowohl Deutsch als auch die Fremdsprachen, muss *\"all\"* angegeben werde, für nur Deutsch *\"de\"* und für andere Sprachkombinationen kann ein beliebiger anderer String übergeben werden (z.B. *\"fremd\"*)."
      ]
    },
    {
      "cell_type": "code",
      "execution_count": null,
      "metadata": {},
      "outputs": [],
      "source": []
    },
    {
      "cell_type": "code",
      "execution_count": 3,
      "metadata": {},
      "outputs": [],
      "source": [
        "# Create a list via the list_xmis_in_directory() function\n",
        "directory_path = '/home/brunobrocai/Data/Moralization/Zeitungs_XMIs'\n",
        "\n",
        "file_list = xau.list_xmis_in_directory(directory_path)\n",
        "corpus = ce.Corpus(file_list, 'de')"
      ]
    },
    {
      "cell_type": "code",
      "execution_count": null,
      "metadata": {},
      "outputs": [],
      "source": [
        "# Filter unwanted labels\n",
        "corpus.filter_out(\"protagonists\", [\"Kein Bezug\"])\n",
        "corpus.filter_out(\"protagonists_doubles\", [\"Kein Bezug\"])"
      ]
    },
    {
      "cell_type": "markdown",
      "metadata": {
        "id": "wVUmwlIH1voq"
      },
      "source": [
        "## Analyse 1: Frequenzen"
      ]
    },
    {
      "cell_type": "markdown",
      "metadata": {
        "id": "Oof8BHQb4n1l"
      },
      "source": [
        "Die folgende Funktion gibt an, **wie häufig es ist, dass ein Label n Mal in einer Moralisierung vergeben wird** (*Beispiel: Oft gibt es zwei Protagonisten in einer Moralisierung, aber nur selten sechs oder sieben.*).\n",
        "\n",
        "+ Der erste Parameter ist das Korpus. Hier einfach *corpus* stehen lassen.\n",
        "+ Der zweite Parameter - *label_type* - ist die Kategorie des Phänomens, von denen wir wissen wollen, wie oft sie in den Moralisierungen auftauchen. Verwendet werden können:\n",
        "  + *obj_morals*: Alle Moralwerte, die keine subjektiven Ausdrücke sind\n",
        "  + *subj_morals*: Moralwerte, die subjektive Ausdrücke sind\n",
        "  + *all_morals*: Alle Moralwerte\n",
        "  + *protagonists*: Alle Protagonisten-Token\n",
        "  + *protagonists_doubles*: Alle Protagonisten-Rollen (Achtung: manche Protagonisten-Token werden dabei doppelt gezählt - nämlich, wenn sie mehrere Rollen haben)\n",
        "  + *com_functions*: Kommunikative Funktionen\n",
        "  + *expl_demands*: Explizite Forderungen\n",
        "  + *impl_demands*: Implizite Forderungen\n",
        "  + *all_demands*: Alle Forderungen\n",
        "+ Der Parameter *plot* gibt an, ob die Daten als Tabelle (*False*) oder als Säulendiagramm (*True*) visualisiert werden sollen.\n",
        "+ Der Parameter *export* (*True* oder *False*) gibt an, ob die Daten als csv-Datei im derzeitigen Verzeichnis abgelegt werden sollen.\n"
      ]
    },
    {
      "cell_type": "code",
      "execution_count": null,
      "metadata": {
        "colab": {
          "base_uri": "https://localhost:8080/"
        },
        "id": "Ojzq3Ny76mgT",
        "outputId": "66876f83-58c0-4761-ed89-509837f49853"
      },
      "outputs": [],
      "source": [
        "astats.freq_inside_spans(\n",
        "    corpus,\n",
        "    label_type=\"obj_morals\",\n",
        "    plot=True\n",
        ")"
      ]
    },
    {
      "cell_type": "markdown",
      "metadata": {
        "id": "iquC12oujQEH"
      },
      "source": [
        "---\n",
        "\n",
        "Die folgende Funktionen wertet die **Häufigkeiten verschiedener Label einer Kategorie** aus. Es gibt folgende Funktionen:\n",
        "1. *moral_values_freq()* - Moralwerte\n",
        "   + Hier ist zu beachten, welche Moralwerte *(\"all\", \"obj\" oder \"subj.\" ausgewertet werden sollen). Es wird mit dem Parameter *moral_type* weitergegeben.\n",
        "   + *sum_dimensions* gibt an, ob MFT-Dimensionspaare (z.B. Care-Harm) zusammen (*True*) oder getrennt (*False*) ausgegeben werden sollen.\n",
        "2. *protagonist_role_freq()* - Protagonisten-Rollen\n",
        "3. *protagonist_group_freq()* - Protagonisten-Typen/Gruppen (Individuum, Institution usw.)\n",
        "4. *protagonist_ownother_freq()* - Protagonisten-Gruppenzuschreibungen\n",
        "5. *comfunction_freq()* - Kommunikative Funktionen\n",
        "6. *demand_freq()* - Forderungstypen\n",
        "\n",
        "Alle Funktionen haben folgende Parameter:\n",
        "+ Der erste Parameter ist das Korpus. Hier einfach *corpus* stehen lassen.\n",
        "+ Der vorletzte Parameter *plot* gibt an, ob die Daten als Tabelle (*False*) oder als Säulendiagramm (*True*) visualisiert werden sollen.\n",
        "+ Der letzte Parameter *export* (*True* oder *False*) gibt an, ob die Daten als csv-Datei im derzeitigen Verzeichnis abgelegt werden sollen.\n"
      ]
    },
    {
      "cell_type": "code",
      "execution_count": null,
      "metadata": {},
      "outputs": [],
      "source": [
        "astats.label_frequency(\n",
        "    corpus,\n",
        "    label=\"all_morals\",\n",
        "    plot=True\n",
        ")"
      ]
    },
    {
      "cell_type": "markdown",
      "metadata": {},
      "source": [
        "## Analyse 1.5: Protagonisten-Zusammenhänge\n",
        "Die Protagonisten-Kategorie ist interessant, weil für Protagonisten gleich mehrere Label vergeben werden. Mit folgenden Funktionen kann berechnet werden, wie diese zusammenhängen."
      ]
    },
    {
      "cell_type": "markdown",
      "metadata": {},
      "source": [
        "Drei Funktionen sind verfügbar:\n",
        "1. *roles_and_groups()* - Zusammenhang zw. Rollen- und Gruppenlabel\n",
        "2. *roles_and_ownother()* - Zusammenhang zw. Rollen- und Gruppenzugehörigkeitslabel\n",
        "3. *groups_and_ownother()* - Zusammenhang zw. Gruppen- und Gruppenzugehörigkeitslabel\n",
        "\n",
        "Alle Funktionen haben folgende Parameter:\n",
        "+ Der erste Parameter ist das Korpus. Hier einfach *corpus* stehen lassen.\n",
        "+ Der vorletzte Parameter *percent* gibt an, ob die Daten als Prozent der Spaltensumme (*True*) oder nicht (*False*) ausgegeben werden sollen.\n",
        "+ Der letzte Parameter *export* (*True* oder *False*) gibt an, ob die Daten als csv-Datei im derzeitigen Verzeichnis abgelegt werden sollen."
      ]
    },
    {
      "cell_type": "code",
      "execution_count": 5,
      "metadata": {
        "colab": {
          "base_uri": "https://localhost:8080/",
          "height": 310
        },
        "id": "C1k5M3fR3Dpj",
        "outputId": "ff0d5d83-f4c0-4709-8b82-5aa2d34d6936"
      },
      "outputs": [
        {
          "data": {
            "text/html": [
              "<div>\n",
              "<style scoped>\n",
              "    .dataframe tbody tr th:only-of-type {\n",
              "        vertical-align: middle;\n",
              "    }\n",
              "\n",
              "    .dataframe tbody tr th {\n",
              "        vertical-align: top;\n",
              "    }\n",
              "\n",
              "    .dataframe thead th {\n",
              "        text-align: right;\n",
              "    }\n",
              "</style>\n",
              "<table border=\"1\" class=\"dataframe\">\n",
              "  <thead>\n",
              "    <tr style=\"text-align: right;\">\n",
              "      <th></th>\n",
              "      <th>Kategorie</th>\n",
              "      <th>Adressat:in</th>\n",
              "      <th>Benefizient:in</th>\n",
              "      <th>Forderer:in</th>\n",
              "      <th>Kein Bezug</th>\n",
              "      <th>Malefizient:in</th>\n",
              "      <th>Bezug unklar</th>\n",
              "    </tr>\n",
              "  </thead>\n",
              "  <tbody>\n",
              "    <tr>\n",
              "      <th>0</th>\n",
              "      <td>Individuum</td>\n",
              "      <td>101</td>\n",
              "      <td>34</td>\n",
              "      <td>246</td>\n",
              "      <td>73</td>\n",
              "      <td>0</td>\n",
              "      <td>0</td>\n",
              "    </tr>\n",
              "    <tr>\n",
              "      <th>1</th>\n",
              "      <td>Institution</td>\n",
              "      <td>421</td>\n",
              "      <td>182</td>\n",
              "      <td>130</td>\n",
              "      <td>153</td>\n",
              "      <td>0</td>\n",
              "      <td>0</td>\n",
              "    </tr>\n",
              "    <tr>\n",
              "      <th>2</th>\n",
              "      <td>Menschen</td>\n",
              "      <td>114</td>\n",
              "      <td>125</td>\n",
              "      <td>35</td>\n",
              "      <td>39</td>\n",
              "      <td>0</td>\n",
              "      <td>0</td>\n",
              "    </tr>\n",
              "    <tr>\n",
              "      <th>3</th>\n",
              "      <td>soziale Gruppe</td>\n",
              "      <td>180</td>\n",
              "      <td>334</td>\n",
              "      <td>57</td>\n",
              "      <td>164</td>\n",
              "      <td>0</td>\n",
              "      <td>0</td>\n",
              "    </tr>\n",
              "    <tr>\n",
              "      <th>4</th>\n",
              "      <td>Sonstige</td>\n",
              "      <td>10</td>\n",
              "      <td>23</td>\n",
              "      <td>3</td>\n",
              "      <td>7</td>\n",
              "      <td>0</td>\n",
              "      <td>0</td>\n",
              "    </tr>\n",
              "  </tbody>\n",
              "</table>\n",
              "</div>"
            ],
            "text/plain": [
              "        Kategorie  Adressat:in  Benefizient:in  Forderer:in  Kein Bezug  \\\n",
              "0      Individuum          101              34          246          73   \n",
              "1     Institution          421             182          130         153   \n",
              "2        Menschen          114             125           35          39   \n",
              "3  soziale Gruppe          180             334           57         164   \n",
              "4        Sonstige           10              23            3           7   \n",
              "\n",
              "   Malefizient:in  Bezug unklar  \n",
              "0               0             0  \n",
              "1               0             0  \n",
              "2               0             0  \n",
              "3               0             0  \n",
              "4               0             0  "
            ]
          },
          "execution_count": 5,
          "metadata": {},
          "output_type": "execute_result"
        }
      ],
      "source": [
        "astats.roles_and_groups(\n",
        "    corpus,\n",
        "    export=False,\n",
        ")"
      ]
    },
    {
      "cell_type": "markdown",
      "metadata": {
        "id": "hlmIImk53tgE"
      },
      "source": [
        "## Analyse 2: Label-Kookkurenzen\n",
        "Mit folgender Funktion kann ermittelt werden, ob manche Label überzufällig häufig mit anderen Label auftauchen."
      ]
    },
    {
      "cell_type": "markdown",
      "metadata": {},
      "source": [
        "Die Funktion *association_measure* berechnet PMI (pointwise mutual information) für die Label-Okkurenzen innerhalb von moralisierenden Spans.\n",
        "\n",
        "Die Funktion *association_measure* hat folgende Parameter:\n",
        "+ Der erste Parameter ist das Korpus. Hier einfach *corpus* stehen lassen.\n",
        "+ Der zweite und der dritte Parameter sind die Label, deren Kookurrenzen innerhalb von Moralisierungen untersucht werden sollen. Folgende Label stehen zur Verfügung:\n",
        "    + obj_morals\n",
        "    + subj_morals\n",
        "    + all_morals\n",
        "    + prot_roles\n",
        "    + prot_groups\n",
        "    + com_functions\n",
        "    + demands\n",
        "+ Der Parameter *significance* gibt an, ob zusätzlich zum PMI das statistische Signifikanzniveau der Verteilung (mittels Fischers Exaktem Text) berechnet werden soll.\n",
        "+ Der letzte Parameter *export* (*True* oder *False*) gibt an, ob die Daten als csv-Datei im derzeitigen Verzeichnis abgelegt werden sollen."
      ]
    },
    {
      "cell_type": "code",
      "execution_count": null,
      "metadata": {},
      "outputs": [],
      "source": [
        "astats.association_measure(\n",
        "    corpus,\n",
        "    \"prot_roles\",\n",
        "    \"prot_groups\",\n",
        "    significance=True,\n",
        "    export=False\n",
        ")"
      ]
    }
  ],
  "metadata": {
    "colab": {
      "provenance": []
    },
    "kernelspec": {
      "display_name": "Python 3",
      "name": "python3"
    },
    "language_info": {
      "codemirror_mode": {
        "name": "ipython",
        "version": 3
      },
      "file_extension": ".py",
      "mimetype": "text/x-python",
      "name": "python",
      "nbconvert_exporter": "python",
      "pygments_lexer": "ipython3",
      "version": "3.12.2"
    }
  },
  "nbformat": 4,
  "nbformat_minor": 0
}
