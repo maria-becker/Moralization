{
  "cells": [
    {
      "cell_type": "markdown",
      "metadata": {
        "id": "MKYTYetQ3jKf"
      },
      "source": [
        "# Daten-Visualisierung (Korpussammlung)\n",
        "\n",
        "Das vorliegende Jupyter-Notebook dient dazu, Statistiken zu den Korpus-Annotationen zu visualisieren.\n",
        "Dieses Notebook ermöglicht es, mehrere Subkorpora (in der Form mehrerer XMI-Dateien) zu einem großen Korpus zusammenzufassen. Einzelne Subkorpora können ebenfalls hiermit analysiert werden, ein bisschen einfacher ist es aber mit dem Notebook analysis_notebook_single."
      ]
    },
    {
      "cell_type": "markdown",
      "metadata": {
        "id": "7c31rG4iq1Ii"
      },
      "source": [
        "## Setup"
      ]
    },
    {
      "cell_type": "markdown",
      "metadata": {
        "id": "16bhVxm6wx62"
      },
      "source": [
        "Setup. Muss ausgeführt werden, wenn das Notebook in Colab ausgeführt wird."
      ]
    },
    {
      "cell_type": "code",
      "execution_count": null,
      "metadata": {
        "colab": {
          "base_uri": "https://localhost:8080/"
        },
        "id": "1EP1ncFKwvDC",
        "outputId": "93f81241-4e56-4873-8019-56b17ade6f22"
      },
      "outputs": [],
      "source": [
        "from google.colab import drive\n",
        "drive.mount('/content/drive')\n",
        "!git clone https://github.com/maria-becker/Moralization/\n",
        "%cd \"/content/Moralization/Annotation Analysis Tools/data_analysis\""
      ]
    },
    {
      "cell_type": "markdown",
      "metadata": {},
      "source": [
        "Die import-Statements müssen immer ausgeführt werden."
      ]
    },
    {
      "cell_type": "code",
      "execution_count": 1,
      "metadata": {},
      "outputs": [],
      "source": [
        "import sys\n",
        "import annotation_stats_collection as astats\n",
        "import label_analysis as la\n",
        "\n",
        "sys.path.append(\"../_utils_\")\n",
        "import corpus_extraction as ce\n",
        "import xmi_analysis_util as xau"
      ]
    },
    {
      "cell_type": "markdown",
      "metadata": {
        "id": "fdSH1AfA0Yk4"
      },
      "source": [
        "Hier bitte eine Liste *file_list* erstellen, die die Dateipfade zu allen Korpusdateien enthält, die ihr analysieren wollt.\n",
        "+ *Am einfachsten erhält man einen Dateipfad, indem man die Datei im Ordersystem rechtsklickt und dann -> 'Pfad kopieren' auswählt. Und unbedingt den Pfad in Anführungszeichen setzen und davor ein kleines \"r\"!*\n",
        "+ *Wer sich ein bisschen auskennt, kann zum Erstellen der Liste auch das os-Modul benutzen, das aus diesem Grund oben importiert wurde.*\n",
        "\n",
        "Bei der Erstellung des corpus-Objekts ist zu beachten, welche Sprache(n) in eurem Korpus vertreten sind. Ist es sowohl Deutsch als auch die Fremdsprachen, muss *\"all\"* angegeben werde, für nur Deutsch *\"de\"* und für andere Sprachkombinationen kann ein beliebiger anderer String übergeben werden (z.B. *\"fremd\"*)."
      ]
    },
    {
      "cell_type": "code",
      "execution_count": null,
      "metadata": {
        "id": "NXxmU4ANx-Gk"
      },
      "outputs": [],
      "source": [
        "# Create a list by manually listing explicit files\n",
        "file_list = [\n",
        "    r\"filepath1\",\n",
        "    r\"filepath2\",\n",
        "    r\"filepath3\"\n",
        "]\n",
        "corpus = ce.CorpusCollection(file_list, language=\"fremd\")"
      ]
    },
    {
      "cell_type": "code",
      "execution_count": 2,
      "metadata": {},
      "outputs": [
        {
          "name": "stdout",
          "output_type": "stream",
          "text": [
            "Duplicate:  Moralisierung Kontext\n",
            "Duplicate:  Moralisierung Kontext\n",
            "Duplicate:  Moralisierung Weltwissen\n",
            "Duplicate:  Moralisierung Kontext\n",
            "Duplicate:  Moralisierung interpretativ\n",
            "Duplicate:  Moralisierung explizit\n",
            "Duplicate:  Moralisierung Weltwissen\n",
            "Duplicate:  Moralisierung Kontext\n",
            "Duplicate:  Moralisierung explizit\n",
            "Duplicate:  Moralisierung explizit\n",
            "Duplicate:  Moralisierung Weltwissen\n",
            "Duplicate:  Moralisierung Weltwissen\n",
            "Duplicate:  Moralisierung explizit\n",
            "Duplicate:  Moralisierung Kontext\n",
            "Duplicate:  Moralisierung Kontext\n",
            "Duplicate:  Moralisierung Weltwissen\n",
            "Duplicate:  Moralisierung Kontext\n",
            "Duplicate:  Moralisierung Weltwissen\n",
            "Duplicate:  Moralisierung Kontext\n",
            "Duplicate:  Moralisierung explizit\n",
            "Duplicate:  Moralisierung explizit\n",
            "Duplicate:  Moralisierung Weltwissen\n",
            "Duplicate:  Moralisierung Weltwissen\n",
            "Duplicate:  Moralisierung explizit\n",
            "Duplicate:  Moralisierung explizit\n",
            "Duplicate:  Moralisierung explizit\n",
            "Duplicate:  Moralisierung explizit\n",
            "Duplicate:  Moralisierung explizit\n",
            "Duplicate:  Moralisierung interpretativ\n",
            "Duplicate:  Moralisierung explizit\n",
            "Duplicate:  Moralisierung explizit\n"
          ]
        }
      ],
      "source": [
        "# Create a list via the list_xmis_in_directory() function\n",
        "directory_path = '/home/bruno/Desktop/Databases/Moralization/Zeitungstexte'\n",
        "\n",
        "file_list = xau.list_xmis_in_directory(directory_path)\n",
        "corpus = ce.CorpusCollection(file_list, 'de')"
      ]
    },
    {
      "cell_type": "markdown",
      "metadata": {
        "id": "wVUmwlIH1voq"
      },
      "source": [
        "## Analyse 1: Frequenzen"
      ]
    },
    {
      "cell_type": "markdown",
      "metadata": {
        "id": "Oof8BHQb4n1l"
      },
      "source": [
        "Die folgende Funktion gibt an, **wie häufig es ist, dass ein Label n Mal in einer Moralisierung vergeben wird** (*Beispiel: Oft gibt es zwei Protagonisten in einer Moralisierung, aber nur selten sechs oder sieben.*).\n",
        "\n",
        "+ Der erste Parameter ist das Korpus. Hier einfach *corpus* stehen lassen.\n",
        "+ Der zweite Parameter - *label_type* - ist die Kategorie des Phänomens, von denen wir wissen wollen, wie oft sie in den Moralisierungen auftauchen. Verwendet werden können:\n",
        "  + *obj_morals*: Alle Moralwerte, die keine subjektiven Ausdrücke sind\n",
        "  + *subj_morals*: Moralwerte, die subjektive Ausdrücke sind\n",
        "  + *all_morals*: Alle Moralwerte\n",
        "  + *protagonists*: Alle Protagonisten-Token\n",
        "  + *protagonists_doubles*: Alle Protagonisten-Rollen (Achtung: manche Protagonisten-Token werden dabei doppelt gezählt - nämlich, wenn sie mehrere Rollen haben)\n",
        "  + *com_functions*: Kommunikative Funktionen\n",
        "  + *expl_demands*: Explizite Forderungen\n",
        "  + *impl_demands*: Implizite Forderungen\n",
        "  + *all_demands*: Alle Forderungen\n",
        "+ Der Parameter *plot* gibt an, ob die Daten als Tabelle (*False*) oder als Säulendiagramm (*True*) visualisiert werden sollen.\n",
        "+ Der Parameter *export* (*True* oder *False*) gibt an, ob die Daten als csv-Datei im derzeitigen Verzeichnis abgelegt werden sollen.\n"
      ]
    },
    {
      "cell_type": "code",
      "execution_count": null,
      "metadata": {
        "colab": {
          "base_uri": "https://localhost:8080/"
        },
        "id": "Ojzq3Ny76mgT",
        "outputId": "66876f83-58c0-4761-ed89-509837f49853"
      },
      "outputs": [],
      "source": [
        "astats.freq_inside_spans_collection(corpus,\n",
        "                                    label_type=\"all_morals\",\n",
        "                                    plot=True)"
      ]
    },
    {
      "cell_type": "markdown",
      "metadata": {
        "id": "iquC12oujQEH"
      },
      "source": [
        "---\n",
        "\n",
        "Die folgende Funktionen wertet die **Häufigkeiten verschiedener Label einer Kategorie** aus. Es gibt folgende Funktionen:\n",
        "1. *moral_values_freq()* - Moralwerte\n",
        "   + Hier ist zu beachten, welche Moralwerte *(\"all\", \"obj\" oder \"subj.\" ausgewertet werden sollen). Es wird mit dem Parameter *moral_type* weitergegeben.\n",
        "   + *sum_dimensions* gibt an, ob MFT-Dimensionspaare (z.B. Care-Harm) zusammen (*True*) oder getrennt (*False*) ausgegeben werden sollen.\n",
        "2. *protagonist_role_freq()* - Protagonisten-Rollen\n",
        "3. *protagonist_group_freq()* - Protagonisten-Typen/Gruppen (Individuum, Institution usw.)\n",
        "4. *protagonist_ownother_freq()* - Protagonisten-Gruppenzuschreibungen\n",
        "5. *comfunction_freq()* - Kommunikative Funktionen\n",
        "6. *demand_freq()* - Forderungstypen\n",
        "\n",
        "Alle Funktionen haben folgende Parameter:\n",
        "+ Der erste Parameter ist das Korpus. Hier einfach *corpus* stehen lassen.\n",
        "+ Der vorletzte Parameter *plot* gibt an, ob die Daten als Tabelle (*False*) oder als Säulendiagramm (*True*) visualisiert werden sollen.\n",
        "+ Der letzte Parameter *export* (*True* oder *False*) gibt an, ob die Daten als csv-Datei im derzeitigen Verzeichnis abgelegt werden sollen.\n"
      ]
    },
    {
      "cell_type": "code",
      "execution_count": null,
      "metadata": {
        "colab": {
          "base_uri": "https://localhost:8080/",
          "height": 958
        },
        "id": "t2egLxVu2l0v",
        "outputId": "e9d2d32c-8e2f-4af1-ba32-44ac0207f3d8"
      },
      "outputs": [],
      "source": [
        "astats.moral_values_freq_collection(corpus,\n",
        "                                    moral_type=\"all\",\n",
        "                                    sum_dimensions=True,\n",
        "                                    plot=True,\n",
        "                                    export=False)"
      ]
    },
    {
      "cell_type": "code",
      "execution_count": null,
      "metadata": {
        "colab": {
          "base_uri": "https://localhost:8080/",
          "height": 676
        },
        "id": "K1lN7FxpogL7",
        "outputId": "3c6d3668-034e-4bd2-a7d6-5ed68b560cd8"
      },
      "outputs": [],
      "source": [
        "astats.protagonist_role_freq_collection(corpus,\n",
        "                                        plot=True,\n",
        "                                        export=False)"
      ]
    },
    {
      "cell_type": "code",
      "execution_count": null,
      "metadata": {
        "colab": {
          "base_uri": "https://localhost:8080/",
          "height": 708
        },
        "id": "zHuMIj68pukz",
        "outputId": "449a4c8c-6ac2-4ed5-dbfb-9bb29cde0be2"
      },
      "outputs": [],
      "source": [
        "astats.protagonist_group_freq_collection(corpus,\n",
        "                                         plot=True,\n",
        "                                         export=False)"
      ]
    },
    {
      "cell_type": "code",
      "execution_count": null,
      "metadata": {
        "colab": {
          "base_uri": "https://localhost:8080/",
          "height": 630
        },
        "id": "GDYZBZuBqTYJ",
        "outputId": "ecf78977-81ff-4f5d-f52b-e2e47d13d060"
      },
      "outputs": [],
      "source": [
        "astats.protagonist_ownother_freq_collection(corpus,\n",
        "                                            plot=True,\n",
        "                                            export=False)"
      ]
    },
    {
      "cell_type": "code",
      "execution_count": 3,
      "metadata": {},
      "outputs": [
        {
          "data": {
            "image/png": "[encoded data removed]",
            "text/plain": [
              "<Figure size 640x480 with 1 Axes>"
            ]
          },
          "metadata": {},
          "output_type": "display_data"
        },
        {
          "data": {
            "text/html": [
              "<div>\n",
              "<style scoped>\n",
              "    .dataframe tbody tr th:only-of-type {\n",
              "        vertical-align: middle;\n",
              "    }\n",
              "\n",
              "    .dataframe tbody tr th {\n",
              "        vertical-align: top;\n",
              "    }\n",
              "\n",
              "    .dataframe thead th {\n",
              "        text-align: right;\n",
              "    }\n",
              "</style>\n",
              "<table border=\"1\" class=\"dataframe\">\n",
              "  <thead>\n",
              "    <tr style=\"text-align: right;\">\n",
              "      <th></th>\n",
              "      <th>Kommunikative Funktion</th>\n",
              "      <th>Vorkommen</th>\n",
              "      <th>(7, Summe)</th>\n",
              "      <th>Anteil</th>\n",
              "    </tr>\n",
              "  </thead>\n",
              "  <tbody>\n",
              "    <tr>\n",
              "      <th>0</th>\n",
              "      <td>Appell</td>\n",
              "      <td>305</td>\n",
              "      <td>1529</td>\n",
              "      <td>0.199477</td>\n",
              "    </tr>\n",
              "    <tr>\n",
              "      <th>4</th>\n",
              "      <td>Appell+Beziehung</td>\n",
              "      <td>24</td>\n",
              "      <td>1529</td>\n",
              "      <td>0.015697</td>\n",
              "    </tr>\n",
              "    <tr>\n",
              "      <th>5</th>\n",
              "      <td>Appell+Darstellung</td>\n",
              "      <td>920</td>\n",
              "      <td>1529</td>\n",
              "      <td>0.601700</td>\n",
              "    </tr>\n",
              "    <tr>\n",
              "      <th>6</th>\n",
              "      <td>Appell+Expression</td>\n",
              "      <td>280</td>\n",
              "      <td>1529</td>\n",
              "      <td>0.183126</td>\n",
              "    </tr>\n",
              "    <tr>\n",
              "      <th>7</th>\n",
              "      <td>Summe</td>\n",
              "      <td>0</td>\n",
              "      <td>1529</td>\n",
              "      <td>0.000000</td>\n",
              "    </tr>\n",
              "  </tbody>\n",
              "</table>\n",
              "</div>"
            ],
            "text/plain": [
              "  Kommunikative Funktion  Vorkommen  (7, Summe)    Anteil\n",
              "0                 Appell        305        1529  0.199477\n",
              "4       Appell+Beziehung         24        1529  0.015697\n",
              "5     Appell+Darstellung        920        1529  0.601700\n",
              "6      Appell+Expression        280        1529  0.183126\n",
              "7                  Summe          0        1529  0.000000"
            ]
          },
          "execution_count": 3,
          "metadata": {},
          "output_type": "execute_result"
        }
      ],
      "source": [
        "astats.comfunction_freq_collection(corpus,\n",
        "                                   plot=True,\n",
        "                                   export=False)"
      ]
    },
    {
      "cell_type": "code",
      "execution_count": 4,
      "metadata": {},
      "outputs": [
        {
          "data": {
            "image/png": "[encoded data removed]",
            "text/plain": [
              "<Figure size 640x480 with 1 Axes>"
            ]
          },
          "metadata": {},
          "output_type": "display_data"
        },
        {
          "data": {
            "text/html": [
              "<div>\n",
              "<style scoped>\n",
              "    .dataframe tbody tr th:only-of-type {\n",
              "        vertical-align: middle;\n",
              "    }\n",
              "\n",
              "    .dataframe tbody tr th {\n",
              "        vertical-align: top;\n",
              "    }\n",
              "\n",
              "    .dataframe thead th {\n",
              "        text-align: right;\n",
              "    }\n",
              "</style>\n",
              "<table border=\"1\" class=\"dataframe\">\n",
              "  <thead>\n",
              "    <tr style=\"text-align: right;\">\n",
              "      <th></th>\n",
              "      <th>Forderungstyp</th>\n",
              "      <th>Vorkommen</th>\n",
              "    </tr>\n",
              "  </thead>\n",
              "  <tbody>\n",
              "    <tr>\n",
              "      <th>0</th>\n",
              "      <td>Explizite Forderung</td>\n",
              "      <td>679</td>\n",
              "    </tr>\n",
              "    <tr>\n",
              "      <th>1</th>\n",
              "      <td>Implizite Forderung</td>\n",
              "      <td>673</td>\n",
              "    </tr>\n",
              "    <tr>\n",
              "      <th>2</th>\n",
              "      <td>Summe</td>\n",
              "      <td>1352</td>\n",
              "    </tr>\n",
              "  </tbody>\n",
              "</table>\n",
              "</div>"
            ],
            "text/plain": [
              "         Forderungstyp  Vorkommen\n",
              "0  Explizite Forderung        679\n",
              "1  Implizite Forderung        673\n",
              "2                Summe       1352"
            ]
          },
          "execution_count": 4,
          "metadata": {},
          "output_type": "execute_result"
        }
      ],
      "source": [
        "astats.demand_freq_collection(corpus,\n",
        "                              plot=True,\n",
        "                              export=False)"
      ]
    },
    {
      "cell_type": "markdown",
      "metadata": {},
      "source": [
        "## Analyse 1.5: Protagonisten-Zusammenhänge\n",
        "Die Protagonisten-Kategorie ist interessant, weil für Protagonisten gleich mehrere Label vergeben werden. Mit folgenden Funktionen kann berechnet werden, wie diese zusammenhängen."
      ]
    },
    {
      "cell_type": "markdown",
      "metadata": {},
      "source": [
        "Drei Funktionen sind verfügbar:\n",
        "1. *roles_and_groups()* - Zusammenhang zw. Rollen- und Gruppenlabel\n",
        "2. *roles_and_ownother()* - Zusammenhang zw. Rollen- und Gruppenzugehörigkeitslabel\n",
        "3. *groups_and_ownother()* - Zusammenhang zw. Gruppen- und Gruppenzugehörigkeitslabel\n",
        "\n",
        "Alle Funktionen haben folgende Parameter:\n",
        "+ Der erste Parameter ist das Korpus. Hier einfach *corpus* stehen lassen.\n",
        "+ Der vorletzte Parameter *percent* gibt an, ob die Daten als Prozent der Spaltensumme (*True*) oder nicht (*False*) ausgegeben werden sollen.\n",
        "+ Der letzte Parameter *export* (*True* oder *False*) gibt an, ob die Daten als csv-Datei im derzeitigen Verzeichnis abgelegt werden sollen."
      ]
    },
    {
      "cell_type": "code",
      "execution_count": 7,
      "metadata": {
        "colab": {
          "base_uri": "https://localhost:8080/",
          "height": 310
        },
        "id": "C1k5M3fR3Dpj",
        "outputId": "ff0d5d83-f4c0-4709-8b82-5aa2d34d6936"
      },
      "outputs": [
        {
          "data": {
            "text/html": [
              "<div>\n",
              "<style scoped>\n",
              "    .dataframe tbody tr th:only-of-type {\n",
              "        vertical-align: middle;\n",
              "    }\n",
              "\n",
              "    .dataframe tbody tr th {\n",
              "        vertical-align: top;\n",
              "    }\n",
              "\n",
              "    .dataframe thead th {\n",
              "        text-align: right;\n",
              "    }\n",
              "</style>\n",
              "<table border=\"1\" class=\"dataframe\">\n",
              "  <thead>\n",
              "    <tr style=\"text-align: right;\">\n",
              "      <th></th>\n",
              "      <th>Kategorie</th>\n",
              "      <th>Adresassat:in</th>\n",
              "      <th>Benefizient:in</th>\n",
              "      <th>Forderer:in</th>\n",
              "      <th>Kein Bezug</th>\n",
              "    </tr>\n",
              "  </thead>\n",
              "  <tbody>\n",
              "    <tr>\n",
              "      <th>0</th>\n",
              "      <td>Individuum</td>\n",
              "      <td>0.122128</td>\n",
              "      <td>0.048641</td>\n",
              "      <td>0.521186</td>\n",
              "      <td>0.167431</td>\n",
              "    </tr>\n",
              "    <tr>\n",
              "      <th>1</th>\n",
              "      <td>Institution</td>\n",
              "      <td>0.509069</td>\n",
              "      <td>0.261803</td>\n",
              "      <td>0.277542</td>\n",
              "      <td>0.350917</td>\n",
              "    </tr>\n",
              "    <tr>\n",
              "      <th>2</th>\n",
              "      <td>Menschen</td>\n",
              "      <td>0.139057</td>\n",
              "      <td>0.178827</td>\n",
              "      <td>0.074153</td>\n",
              "      <td>0.089450</td>\n",
              "    </tr>\n",
              "    <tr>\n",
              "      <th>3</th>\n",
              "      <td>soziale Gruppe</td>\n",
              "      <td>0.217654</td>\n",
              "      <td>0.477825</td>\n",
              "      <td>0.120763</td>\n",
              "      <td>0.376147</td>\n",
              "    </tr>\n",
              "    <tr>\n",
              "      <th>4</th>\n",
              "      <td>Sonstige</td>\n",
              "      <td>0.012092</td>\n",
              "      <td>0.032904</td>\n",
              "      <td>0.006356</td>\n",
              "      <td>0.016055</td>\n",
              "    </tr>\n",
              "  </tbody>\n",
              "</table>\n",
              "</div>"
            ],
            "text/plain": [
              "        Kategorie  Adresassat:in  Benefizient:in  Forderer:in  Kein Bezug\n",
              "0      Individuum       0.122128        0.048641     0.521186    0.167431\n",
              "1     Institution       0.509069        0.261803     0.277542    0.350917\n",
              "2        Menschen       0.139057        0.178827     0.074153    0.089450\n",
              "3  soziale Gruppe       0.217654        0.477825     0.120763    0.376147\n",
              "4        Sonstige       0.012092        0.032904     0.006356    0.016055"
            ]
          },
          "execution_count": 7,
          "metadata": {},
          "output_type": "execute_result"
        }
      ],
      "source": [
        "astats.roles_and_groups_collection(corpus,\n",
        "                                   relative=True,\n",
        "                                   export=False)"
      ]
    },
    {
      "cell_type": "code",
      "execution_count": 9,
      "metadata": {},
      "outputs": [
        {
          "data": {
            "text/html": [
              "<div>\n",
              "<style scoped>\n",
              "    .dataframe tbody tr th:only-of-type {\n",
              "        vertical-align: middle;\n",
              "    }\n",
              "\n",
              "    .dataframe tbody tr th {\n",
              "        vertical-align: top;\n",
              "    }\n",
              "\n",
              "    .dataframe thead th {\n",
              "        text-align: right;\n",
              "    }\n",
              "</style>\n",
              "<table border=\"1\" class=\"dataframe\">\n",
              "  <thead>\n",
              "    <tr style=\"text-align: right;\">\n",
              "      <th></th>\n",
              "      <th>Kategorie</th>\n",
              "      <th>Own Group</th>\n",
              "      <th>Other Group</th>\n",
              "      <th>Neutral</th>\n",
              "    </tr>\n",
              "  </thead>\n",
              "  <tbody>\n",
              "    <tr>\n",
              "      <th>0</th>\n",
              "      <td>Adresassat:in</td>\n",
              "      <td>0.207547</td>\n",
              "      <td>0.560284</td>\n",
              "      <td>0.350441</td>\n",
              "    </tr>\n",
              "    <tr>\n",
              "      <th>1</th>\n",
              "      <td>Benefizient:in</td>\n",
              "      <td>0.202156</td>\n",
              "      <td>0.141844</td>\n",
              "      <td>0.314152</td>\n",
              "    </tr>\n",
              "    <tr>\n",
              "      <th>2</th>\n",
              "      <td>Forderer:in</td>\n",
              "      <td>0.566038</td>\n",
              "      <td>0.021277</td>\n",
              "      <td>0.134266</td>\n",
              "    </tr>\n",
              "    <tr>\n",
              "      <th>3</th>\n",
              "      <td>Kein Bezug</td>\n",
              "      <td>0.024259</td>\n",
              "      <td>0.276596</td>\n",
              "      <td>0.201140</td>\n",
              "    </tr>\n",
              "  </tbody>\n",
              "</table>\n",
              "</div>"
            ],
            "text/plain": [
              "        Kategorie  Own Group  Other Group   Neutral\n",
              "0   Adresassat:in   0.207547     0.560284  0.350441\n",
              "1  Benefizient:in   0.202156     0.141844  0.314152\n",
              "2     Forderer:in   0.566038     0.021277  0.134266\n",
              "3      Kein Bezug   0.024259     0.276596  0.201140"
            ]
          },
          "execution_count": 9,
          "metadata": {},
          "output_type": "execute_result"
        }
      ],
      "source": [
        "astats.roles_and_ownother_collection(corpus,\n",
        "                                     relative=True,\n",
        "                                     export=False)"
      ]
    },
    {
      "cell_type": "code",
      "execution_count": 10,
      "metadata": {},
      "outputs": [
        {
          "data": {
            "text/html": [
              "<div>\n",
              "<style scoped>\n",
              "    .dataframe tbody tr th:only-of-type {\n",
              "        vertical-align: middle;\n",
              "    }\n",
              "\n",
              "    .dataframe tbody tr th {\n",
              "        vertical-align: top;\n",
              "    }\n",
              "\n",
              "    .dataframe thead th {\n",
              "        text-align: right;\n",
              "    }\n",
              "</style>\n",
              "<table border=\"1\" class=\"dataframe\">\n",
              "  <thead>\n",
              "    <tr style=\"text-align: right;\">\n",
              "      <th></th>\n",
              "      <th>Kategorie</th>\n",
              "      <th>Own Group</th>\n",
              "      <th>Other Group</th>\n",
              "      <th>Neutral</th>\n",
              "    </tr>\n",
              "  </thead>\n",
              "  <tbody>\n",
              "    <tr>\n",
              "      <th>0</th>\n",
              "      <td>Individuum</td>\n",
              "      <td>0.332432</td>\n",
              "      <td>0.122302</td>\n",
              "      <td>0.163202</td>\n",
              "    </tr>\n",
              "    <tr>\n",
              "      <th>1</th>\n",
              "      <td>Institution</td>\n",
              "      <td>0.256757</td>\n",
              "      <td>0.395683</td>\n",
              "      <td>0.383576</td>\n",
              "    </tr>\n",
              "    <tr>\n",
              "      <th>2</th>\n",
              "      <td>Menschen</td>\n",
              "      <td>0.272973</td>\n",
              "      <td>0.057554</td>\n",
              "      <td>0.106549</td>\n",
              "    </tr>\n",
              "    <tr>\n",
              "      <th>3</th>\n",
              "      <td>soziale Gruppe</td>\n",
              "      <td>0.127027</td>\n",
              "      <td>0.388489</td>\n",
              "      <td>0.329002</td>\n",
              "    </tr>\n",
              "    <tr>\n",
              "      <th>4</th>\n",
              "      <td>Sonstige</td>\n",
              "      <td>0.010811</td>\n",
              "      <td>0.035971</td>\n",
              "      <td>0.017672</td>\n",
              "    </tr>\n",
              "  </tbody>\n",
              "</table>\n",
              "</div>"
            ],
            "text/plain": [
              "        Kategorie  Own Group  Other Group   Neutral\n",
              "0      Individuum   0.332432     0.122302  0.163202\n",
              "1     Institution   0.256757     0.395683  0.383576\n",
              "2        Menschen   0.272973     0.057554  0.106549\n",
              "3  soziale Gruppe   0.127027     0.388489  0.329002\n",
              "4        Sonstige   0.010811     0.035971  0.017672"
            ]
          },
          "execution_count": 10,
          "metadata": {},
          "output_type": "execute_result"
        }
      ],
      "source": [
        "astats.groups_and_ownother_collection(corpus,\n",
        "                                      relative=True,\n",
        "                                      export=False)"
      ]
    },
    {
      "cell_type": "markdown",
      "metadata": {
        "id": "hlmIImk53tgE"
      },
      "source": [
        "## Analyse 2: Label-Kookkurenzen\n",
        "Mit folgender Funktion kann ermittelt werden, ob manche Label überzufällig häufig mit anderen Label auftauchen."
      ]
    },
    {
      "cell_type": "markdown",
      "metadata": {},
      "source": [
        "Die Funktion *association_measure* berechnet PMI (pointwise mutual information) für die Label-Okkurenzen innerhalb von moralisierenden Spans.\n",
        "\n",
        "Die Funktion *association_measure* hat folgende Parameter:\n",
        "+ Der erste Parameter ist das Korpus. Hier einfach *corpus* stehen lassen.\n",
        "+ Der zweite und der dritte Parameter sind die Label, deren Kookurrenzen innerhalb von Moralisierungen untersucht werden sollen. Folgende Label stehen zur Verfügung:\n",
        "    + obj_morals\n",
        "    + subj_morals\n",
        "    + all_morals\n",
        "    + prot_roles\n",
        "    + prot_groups\n",
        "    + prot_ownother\n",
        "    + com_functions\n",
        "    + demands\n",
        "+ Der Parameter *significance* gibt an, ob zusätzlich zum PMI das statistische Signifikanzniveau der Verteilung (mittels Fischers Exaktem Text) berechnet werden soll.\n",
        "+ Der letzte Parameter *export* (*True* oder *False*) gibt an, ob die Daten als csv-Datei im derzeitigen Verzeichnis abgelegt werden sollen."
      ]
    },
    {
      "cell_type": "code",
      "execution_count": 17,
      "metadata": {},
      "outputs": [
        {
          "name": "stdout",
          "output_type": "stream",
          "text": [
            "KeyError: {'Coordinates': (62148, 62469), 'Category': 'Expression'} -- Is the label inside a moralization?\n",
            "KeyError: {'Coordinates': (122882, 123164), 'Category': 'Darstellung'} -- Is the label inside a moralization?\n",
            "KeyError: {'Coordinates': (308449, 308518), 'Category': 'Darstellung'} -- Is the label inside a moralization?\n",
            "KeyError: {'Coordinates': (558548, 558700), 'Category': 'Appell'} -- Is the label inside a moralization?\n",
            "KeyError: {'Coordinates': (558548, 558700), 'Category': 'Expression'} -- Is the label inside a moralization?\n",
            "KeyError: {'Coordinates': (638495, 638631), 'Category': 'Appell'} -- Is the label inside a moralization?\n",
            "KeyError: {'Coordinates': (729829, 730060), 'Category': 'Expression'} -- Is the label inside a moralization?\n",
            "KeyError: {'Coordinates': (62285, 62320), 'Category': 'explizit'} -- Is the label inside a moralization?\n",
            "KeyError: {'Coordinates': (122882, 123164), 'Text': 'Die Politiker müssen auf die Belange der Bevölkerung eingehen.', 'Category': 'implizit'} -- Is the label inside a moralization?\n",
            "KeyError: {'Coordinates': (308449, 308518), 'Text': 'Die nationalen Egos sollen die Gemeinschaft nicht in Gefahr bringen.', 'Category': 'implizit'} -- Is the label inside a moralization?\n",
            "KeyError: {'Coordinates': (354732, 354963), 'Text': 'Man soll sich an die Fakten halten und keine Meinungsmache betreiben.', 'Category': 'implizit'} -- Is the label inside a moralization?\n",
            "KeyError: {'Coordinates': (729829, 730060), 'Text': 'Das Parlament muss das Problem des Asylrechts lösen.', 'Category': 'implizit'} -- Is the label inside a moralization?\n",
            "KeyError: {'Coordinates': (222331, 222503), 'Category': 'Darstellung'} -- Is the label inside a moralization?\n",
            "KeyError: {'Coordinates': (233482, 233835), 'Category': 'Expression'} -- Is the label inside a moralization?\n",
            "KeyError: {'Coordinates': (240132, 240333), 'Category': 'Appell'} -- Is the label inside a moralization?\n",
            "KeyError: {'Coordinates': (370960, 371226), 'Category': 'Appell'} -- Is the label inside a moralization?\n",
            "KeyError: {'Coordinates': (240132, 240333), 'Category': 'explizit'} -- Is the label inside a moralization?\n",
            "KeyError: {'Coordinates': (222331, 222503), 'Text': 'Die katholische Kirche soll nicht angefeindet werden.', 'Category': 'implizit'} -- Is the label inside a moralization?\n",
            "KeyError: {'Coordinates': (3055, 3252), 'Category': 'Darstellung'} -- Is the label inside a moralization?\n",
            "KeyError: {'Coordinates': (48694, 48827), 'Category': 'Darstellung'} -- Is the label inside a moralization?\n",
            "KeyError: {'Coordinates': (51330, 51531), 'Category': 'Darstellung'} -- Is the label inside a moralization?\n",
            "KeyError: {'Coordinates': (51924, 52123), 'Category': 'Appell'} -- Is the label inside a moralization?\n",
            "KeyError: {'Coordinates': (68253, 68413), 'Category': 'Appell'} -- Is the label inside a moralization?\n",
            "KeyError: {'Coordinates': (69734, 69883), 'Category': 'Darstellung'} -- Is the label inside a moralization?\n",
            "KeyError: {'Coordinates': (73049, 73230), 'Category': 'Darstellung'} -- Is the label inside a moralization?\n",
            "KeyError: {'Coordinates': (74780, 74929), 'Category': 'Expression'} -- Is the label inside a moralization?\n",
            "KeyError: {'Coordinates': (82570, 82669), 'Category': 'Expression'} -- Is the label inside a moralization?\n",
            "KeyError: {'Coordinates': (83744, 83923), 'Category': 'Darstellung'} -- Is the label inside a moralization?\n",
            "KeyError: {'Coordinates': (83928, 84085), 'Category': 'Darstellung'} -- Is the label inside a moralization?\n",
            "KeyError: {'Coordinates': (90571, 90715), 'Category': 'Darstellung'} -- Is the label inside a moralization?\n",
            "KeyError: {'Coordinates': (92614, 92730), 'Category': 'Expression'} -- Is the label inside a moralization?\n",
            "KeyError: {'Coordinates': (98905, 98989), 'Category': 'Darstellung'} -- Is the label inside a moralization?\n",
            "KeyError: {'Coordinates': (110722, 110771), 'Category': 'Beziehung'} -- Is the label inside a moralization?\n",
            "KeyError: {'Coordinates': (116844, 117091), 'Category': 'Darstellung'} -- Is the label inside a moralization?\n",
            "KeyError: {'Coordinates': (133390, 133572), 'Category': 'Darstellung'} -- Is the label inside a moralization?\n",
            "KeyError: {'Coordinates': (172270, 172376), 'Category': 'Darstellung'} -- Is the label inside a moralization?\n",
            "KeyError: {'Coordinates': (3123, 3252), 'Category': 'explizit'} -- Is the label inside a moralization?\n",
            "KeyError: {'Coordinates': (36987, 37104), 'Category': 'explizit'} -- Is the label inside a moralization?\n",
            "KeyError: {'Coordinates': (48704, 48827), 'Category': 'explizit'} -- Is the label inside a moralization?\n",
            "KeyError: {'Coordinates': (51936, 52123), 'Category': 'explizit'} -- Is the label inside a moralization?\n",
            "KeyError: {'Coordinates': (82570, 82669), 'Category': 'explizit'} -- Is the label inside a moralization?\n",
            "KeyError: {'Coordinates': (83963, 84085), 'Category': 'explizit'} -- Is the label inside a moralization?\n",
            "KeyError: {'Coordinates': (90606, 90715), 'Category': 'explizit'} -- Is the label inside a moralization?\n",
            "KeyError: {'Coordinates': (92621, 92730), 'Category': 'explizit'} -- Is the label inside a moralization?\n",
            "KeyError: {'Coordinates': (105676, 105880), 'Category': 'explizit'} -- Is the label inside a moralization?\n",
            "KeyError: {'Coordinates': (122053, 122144), 'Category': 'explizit'} -- Is the label inside a moralization?\n",
            "KeyError: {'Coordinates': (51366, 51531), 'Text': 'Computer dürfen nur bei größter Gefahr überwacht werden.', 'Category': 'implizit'} -- Is the label inside a moralization?\n",
            "KeyError: {'Coordinates': (74780, 74929), 'Text': 'Eine solche Verhandlungsführung darf es nicht geben.', 'Category': 'implizit'} -- Is the label inside a moralization?\n",
            "KeyError: {'Coordinates': (83744, 83923), 'Text': 'Standorte von Gentech-Pflanzen müssen nicht preisgegeben werden.', 'Category': 'implizit'} -- Is the label inside a moralization?\n",
            "KeyError: {'Coordinates': (98905, 98989), 'Text': 'Alle Menschen sollen vor Gericht gleich behandelt werden. Es darf keine Sonderbehandlung geben.', 'Category': 'implizit'} -- Is the label inside a moralization?\n",
            "KeyError: {'Coordinates': (110722, 110771), 'Text': 'Die EU soll Flüchtlingen ein Schutzraum sein.', 'Category': 'implizit'} -- Is the label inside a moralization?\n",
            "KeyError: {'Coordinates': (172270, 172376), 'Text': 'Die Anklage hätte die Brutalität Bos klarer darstellen müssen.', 'Category': 'implizit'} -- Is the label inside a moralization?\n",
            "KeyError: {'Coordinates': (12495, 12756), 'Category': 'Appell'} -- Is the label inside a moralization?\n",
            "KeyError: {'Coordinates': (21501, 21711), 'Category': 'Darstellung'} -- Is the label inside a moralization?\n",
            "KeyError: {'Coordinates': (181778, 182045), 'Category': 'Darstellung'} -- Is the label inside a moralization?\n",
            "KeyError: {'Coordinates': (280355, 280515), 'Category': 'Expression'} -- Is the label inside a moralization?\n",
            "KeyError: {'Coordinates': (345778, 346014), 'Category': 'Expression'} -- Is the label inside a moralization?\n",
            "KeyError: {'Coordinates': (21501, 21711), 'Text': 'Die Menschen müssen der Regierung vertrauen können.', 'Category': 'implizit'} -- Is the label inside a moralization?\n",
            "KeyError: {'Coordinates': (181778, 182045), 'Text': 'Die Pius-Bruderschaft sollte weiterhin nicht zur katholischen Kirche gehören.', 'Category': 'implizit'} -- Is the label inside a moralization?\n",
            "KeyError: {'Coordinates': (280355, 280515), 'Text': 'Die Berliner Politik muss Rücksicht nehmen.', 'Category': 'implizit'} -- Is the label inside a moralization?\n",
            "KeyError: {'Coordinates': (345778, 346014), 'Text': 'Flüchtlinge sollten unterstützt werden.', 'Category': 'implizit'} -- Is the label inside a moralization?\n",
            "KeyError: {'Coordinates': (60451, 60494), 'Category': 'explizit'} -- Is the label inside a moralization?\n",
            "KeyError: {'Coordinates': (416722, 416987), 'Text': 'Die Polizei kann keine sozialen Probleme lösen. Dies sollte die Politik bedenken.', 'Category': 'implizit'} -- Is the label inside a moralization?\n",
            "KeyError: {'Coordinates': (82293, 82316), 'Category': 'explizit'} -- Is the label inside a moralization?\n",
            "KeyError: {'Coordinates': (89350, 89470), 'Text': 'Sie sollten etwas dafür tun, Ihre Anhänger wieder für sich zu gewinnen und nicht so feige sein.', 'Category': 'implizit'} -- Is the label inside a moralization?\n",
            "KeyError: {'Coordinates': (271957, 271999), 'Text': 'Um vor brutaler Gewalt zu schützen, bräuchte es noch mehr Maßnahmen.', 'Category': 'implizit'} -- Is the label inside a moralization?\n",
            "KeyError: {'Coordinates': (1242, 1333), 'Category': 'Darstellung'} -- Is the label inside a moralization?\n",
            "KeyError: {'Coordinates': (35038, 35241), 'Category': 'Expression'} -- Is the label inside a moralization?\n",
            "KeyError: {'Coordinates': (36265, 36477), 'Category': 'Darstellung'} -- Is the label inside a moralization?\n",
            "KeyError: {'Coordinates': (43774, 43875), 'Category': 'Darstellung'} -- Is the label inside a moralization?\n",
            "KeyError: {'Coordinates': (48661, 48802), 'Category': 'Darstellung'} -- Is the label inside a moralization?\n",
            "KeyError: {'Coordinates': (55593, 55745), 'Category': 'Darstellung'} -- Is the label inside a moralization?\n",
            "KeyError: {'Coordinates': (57502, 57591), 'Category': 'Expression'} -- Is the label inside a moralization?\n",
            "KeyError: {'Coordinates': (59037, 59157), 'Category': 'Appell'} -- Is the label inside a moralization?\n",
            "KeyError: {'Coordinates': (60251, 60334), 'Category': 'Darstellung'} -- Is the label inside a moralization?\n",
            "KeyError: {'Coordinates': (60251, 60334), 'Category': 'Darstellung'} -- Is the label inside a moralization?\n",
            "KeyError: {'Coordinates': (61445, 61608), 'Category': 'Expression'} -- Is the label inside a moralization?\n",
            "KeyError: {'Coordinates': (64521, 64669), 'Category': 'Darstellung'} -- Is the label inside a moralization?\n",
            "KeyError: {'Coordinates': (66348, 66465), 'Category': 'Expression'} -- Is the label inside a moralization?\n",
            "KeyError: {'Coordinates': (59037, 59157), 'Category': 'explizit'} -- Is the label inside a moralization?\n",
            "KeyError: {'Coordinates': (66348, 66465), 'Category': 'explizit'} -- Is the label inside a moralization?\n",
            "KeyError: {'Coordinates': (1242, 1333), 'Text': 'Das Arbeitslosengeld muss erhöht werden.', 'Category': 'implizit'} -- Is the label inside a moralization?\n",
            "KeyError: {'Coordinates': (43774, 43875), 'Text': 'Das elektronische Passsystem soll in Amsterdam nicht eingeführt werden.', 'Category': 'implizit'} -- Is the label inside a moralization?\n",
            "KeyError: {'Coordinates': (48661, 48802), 'Text': 'Das Urteil hätte es so nicht geben dürfen, da es in das Selbstbestimmungsrecht der Religionsgemeinschaften eingreift.', 'Category': 'implizit'} -- Is the label inside a moralization?\n",
            "KeyError: {'Coordinates': (57502, 57591), 'Text': 'Der Mann soll sehr lange \"weggeschlossen\" werden, da er eine \"Gefahr für die Allgemeinheit\" darstellt.', 'Category': 'implizit'} -- Is the label inside a moralization?\n",
            "KeyError: {'Coordinates': (60251, 60334), 'Text': 'Die Klausel der RWE, die für einen Preisanstieg verantwortlich ist, ist rechtlich unzulässig. 25 Verbraucher sollen wegen unwirksamer Preiserhöhungen von 2003 bis 2005 insgesamt 16 129 Euro zurück bekommen.', 'Category': 'implizit'} -- Is the label inside a moralization?\n",
            "KeyError: {'Coordinates': (64521, 64669), 'Text': 'Die Justiz soll nicht zu politischen Zwecken missbraucht werden.', 'Category': 'implizit'} -- Is the label inside a moralization?\n"
          ]
        },
        {
          "data": {
            "text/html": [
              "<div>\n",
              "<style scoped>\n",
              "    .dataframe tbody tr th:only-of-type {\n",
              "        vertical-align: middle;\n",
              "    }\n",
              "\n",
              "    .dataframe tbody tr th {\n",
              "        vertical-align: top;\n",
              "    }\n",
              "\n",
              "    .dataframe thead tr th {\n",
              "        text-align: left;\n",
              "    }\n",
              "</style>\n",
              "<table border=\"1\" class=\"dataframe\">\n",
              "  <thead>\n",
              "    <tr>\n",
              "      <th></th>\n",
              "      <th colspan=\"2\" halign=\"left\">implizit</th>\n",
              "      <th colspan=\"2\" halign=\"left\">explizit</th>\n",
              "    </tr>\n",
              "    <tr>\n",
              "      <th></th>\n",
              "      <th>Significance</th>\n",
              "      <th>PMI</th>\n",
              "      <th>Significance</th>\n",
              "      <th>PMI</th>\n",
              "    </tr>\n",
              "  </thead>\n",
              "  <tbody>\n",
              "    <tr>\n",
              "      <th>Appell</th>\n",
              "      <td>0.0</td>\n",
              "      <td>-0.532663</td>\n",
              "      <td>0.0</td>\n",
              "      <td>0.471853</td>\n",
              "    </tr>\n",
              "    <tr>\n",
              "      <th>Beziehung</th>\n",
              "      <td>0.834543</td>\n",
              "      <td>0.014254</td>\n",
              "      <td>1.0</td>\n",
              "      <td>0.00146</td>\n",
              "    </tr>\n",
              "    <tr>\n",
              "      <th>Darstellung</th>\n",
              "      <td>0.0</td>\n",
              "      <td>0.299576</td>\n",
              "      <td>0.0</td>\n",
              "      <td>-0.214701</td>\n",
              "    </tr>\n",
              "    <tr>\n",
              "      <th>Expression</th>\n",
              "      <td>1.0</td>\n",
              "      <td>0.000122</td>\n",
              "      <td>0.207309</td>\n",
              "      <td>0.032502</td>\n",
              "    </tr>\n",
              "    <tr>\n",
              "      <th>Appell+Beziehung</th>\n",
              "      <td>1.0</td>\n",
              "      <td>-inf</td>\n",
              "      <td>1.0</td>\n",
              "      <td>-inf</td>\n",
              "    </tr>\n",
              "    <tr>\n",
              "      <th>Appell+Darstellung</th>\n",
              "      <td>1.0</td>\n",
              "      <td>-inf</td>\n",
              "      <td>1.0</td>\n",
              "      <td>-inf</td>\n",
              "    </tr>\n",
              "    <tr>\n",
              "      <th>Appell+Expression</th>\n",
              "      <td>1.0</td>\n",
              "      <td>-inf</td>\n",
              "      <td>1.0</td>\n",
              "      <td>-inf</td>\n",
              "    </tr>\n",
              "  </tbody>\n",
              "</table>\n",
              "</div>"
            ],
            "text/plain": [
              "                       implizit               explizit          \n",
              "                   Significance       PMI Significance       PMI\n",
              "Appell                      0.0 -0.532663          0.0  0.471853\n",
              "Beziehung              0.834543  0.014254          1.0   0.00146\n",
              "Darstellung                 0.0  0.299576          0.0 -0.214701\n",
              "Expression                  1.0  0.000122     0.207309  0.032502\n",
              "Appell+Beziehung            1.0      -inf          1.0      -inf\n",
              "Appell+Darstellung          1.0      -inf          1.0      -inf\n",
              "Appell+Expression           1.0      -inf          1.0      -inf"
            ]
          },
          "execution_count": 17,
          "metadata": {},
          "output_type": "execute_result"
        }
      ],
      "source": [
        "astats.association_measure_collection(corpus,\n",
        "                                      \"com_functions\",\n",
        "                                      \"demands\",\n",
        "                                      significance=True,\n",
        "                                      export=False)"
      ]
    }
  ],
  "metadata": {
    "colab": {
      "provenance": []
    },
    "kernelspec": {
      "display_name": "Python 3",
      "name": "python3"
    },
    "language_info": {
      "codemirror_mode": {
        "name": "ipython",
        "version": 3
      },
      "file_extension": ".py",
      "mimetype": "text/x-python",
      "name": "python",
      "nbconvert_exporter": "python",
      "pygments_lexer": "ipython3",
      "version": "3.10.12"
    }
  },
  "nbformat": 4,
  "nbformat_minor": 0
}
