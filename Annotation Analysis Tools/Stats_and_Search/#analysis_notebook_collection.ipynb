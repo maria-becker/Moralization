{
  "cells": [
    {
      "cell_type": "markdown",
      "metadata": {
        "id": "MKYTYetQ3jKf"
      },
      "source": [
        "# Daten-Visualisierung (Korpussammlung)\n",
        "\n",
        "Das vorliegende Jupyter-Notebook dient dazu, Statistiken zu den Korpus-Annotationen zu visualisieren.\n",
        "Dieses Notebook ermöglicht es, mehrere Subkorpora (in der Form mehrerer XMI-Dateien) zu einem großen Korpus zusammenzufassen. Einzelne Subkorpora können ebenfalls hiermit analysiert werden, ein bisschen einfacher ist es aber mit dem Notebook analysis_notebook_single."
      ]
    },
    {
      "cell_type": "markdown",
      "metadata": {
        "id": "7c31rG4iq1Ii"
      },
      "source": [
        "## Setup"
      ]
    },
    {
      "cell_type": "markdown",
      "metadata": {
        "id": "16bhVxm6wx62"
      },
      "source": [
        "Setup. Muss ausgeführt werden, wenn das Notebook in Colab ausgeführt wird."
      ]
    },
    {
      "cell_type": "code",
      "execution_count": null,
      "metadata": {
        "colab": {
          "base_uri": "https://localhost:8080/"
        },
        "id": "1EP1ncFKwvDC",
        "outputId": "93f81241-4e56-4873-8019-56b17ade6f22"
      },
      "outputs": [],
      "source": [
        "from google.colab import drive\n",
        "drive.mount('/content/drive')\n",
        "!git clone https://github.com/maria-becker/Moralization/\n",
        "%cd \"/content/Moralization/Annotation Analysis Tools/data_analysis\""
      ]
    },
    {
      "cell_type": "markdown",
      "metadata": {},
      "source": [
        "Die import-Statements müssen immer ausgeführt werden."
      ]
    },
    {
      "cell_type": "code",
      "execution_count": 1,
      "metadata": {},
      "outputs": [],
      "source": [
        "import annotation_stats_collection as astats\n",
        "import corpus_extraction as ce\n",
        "import label_analysis as la\n",
        "import os"
      ]
    },
    {
      "cell_type": "markdown",
      "metadata": {
        "id": "fdSH1AfA0Yk4"
      },
      "source": [
        "Hier bitte eine Liste *file_list* erstellen, die die Dateipfade zu allen Korpusdateien enthält, die ihr analysieren wollt.\n",
        "+ *Am einfachsten erhält man einen Dateipfad, indem man die Datei im Ordersystem rechtsklickt und dann -> 'Pfad kopieren' auswählt. Und unbedingt den Pfad in Anführungszeichen setzen und davor ein kleines \"r\"!*\n",
        "+ *Wer sich ein bisschen auskennt, kann zum Erstellen der Liste auch das os-Modul benutzen, das aus diesem Grund oben importiert wurde.*\n",
        "\n",
        "Bei der Erstellung des corpus-Objekts ist zu beachten, welche Sprache(n) in eurem Korpus vertreten sind. Ist es sowohl Deutsch als auch die Fremdsprachen, muss *\"all\"* angegeben werde, für nur Deutsch *\"de\"* und für andere Sprachkombinationen kann ein beliebiger anderer String übergeben werden (z.B. *\"fremd\"*)."
      ]
    },
    {
      "cell_type": "code",
      "execution_count": 2,
      "metadata": {
        "id": "NXxmU4ANx-Gk"
      },
      "outputs": [],
      "source": [
        "file_list = [\n",
        "    r\"filepath1\",\n",
        "\tr\"filepath2\"\n",
        "]\n",
        "corpus = ce.CorpusCollection(file_list, language=\"fremd\")"
      ]
    },
    {
      "cell_type": "markdown",
      "metadata": {
        "id": "wVUmwlIH1voq"
      },
      "source": [
        "## Analyse 1: Frequenzen"
      ]
    },
    {
      "cell_type": "markdown",
      "metadata": {
        "id": "Oof8BHQb4n1l"
      },
      "source": [
        "Die folgende Funktion gibt an, **wie häufig es ist, dass ein Label n Mal in einer Moralisierung vergeben wird** (*Beispiel: Oft gibt es zwei Protagonisten in einer Moralisierung, aber nur selten sechs oder sieben.*).\n",
        "\n",
        "+ Der erste Parameter ist das Korpus. Hier einfach *corpus* stehen lassen.\n",
        "+ Der zweite Parameter - *label_type* - ist die Kategorie des Phänomens, von denen wir wissen wollen, wie oft sie in den Moralisierungen auftauchen. Verwendet werden können:\n",
        "  + *obj_morals*: Alle Moralwerte, die keine subjektiven Ausdrücke sind\n",
        "  + *subj_morals*: Moralwerte, die subjektive Ausdrücke sind\n",
        "  + *all_morals*: Alle Moralwerte\n",
        "  + *protagonists*: Alle Protagonisten-Token\n",
        "  + *protagonists_doubles*: Alle Protagonisten-Rollen (Achtung: manche Protagonisten-Token werden dabei doppelt gezählt - nämlich, wenn sie mehrere Rollen haben)\n",
        "  + *com_functions*: Kommunikative Funktionen\n",
        "  + *expl_demands*: Explizite Forderungen\n",
        "  + *impl_demands*: Implizite Forderungen\n",
        "  + *all_demands*: Alle Forderungen\n",
        "+ Der Parameter *plot* gibt an, ob die Daten als Tabelle (*False*) oder als Säulendiagramm (*True*) visualisiert werden sollen.\n",
        "+ Der Parameter *export* (*True* oder *False*) gibt an, ob die Daten als csv-Datei im derzeitigen Verzeichnis abgelegt werden sollen.\n"
      ]
    },
    {
      "cell_type": "code",
      "execution_count": null,
      "metadata": {
        "colab": {
          "base_uri": "https://localhost:8080/"
        },
        "id": "Ojzq3Ny76mgT",
        "outputId": "66876f83-58c0-4761-ed89-509837f49853"
      },
      "outputs": [],
      "source": [
        "astats.freq_inside_spans_collection(corpus,\n",
        "\t\t\t\t\t\t\t\t\tlabel_type=\"all_morals\",\n",
        "\t\t\t\t\t\t\t\t\tplot=True)"
      ]
    },
    {
      "cell_type": "markdown",
      "metadata": {
        "id": "iquC12oujQEH"
      },
      "source": [
        "---\n",
        "\n",
        "Die folgende Funktionen wertet die **Häufigkeiten verschiedener Label einer Kategorie** aus. Es gibt folgende Funktionen:\n",
        "1. *moral_values_freq()* - Moralwerte\n",
        "   + Hier ist zu beachten, welche Moralwerte *(\"all\", \"obj\" oder \"subj.\" ausgewertet werden sollen). Es wird mit dem Parameter *moral_type* weitergegeben.\n",
        "   + *sum_dimensions* gibt an, ob MFT-Dimensionspaare (z.B. Care-Harm) zusammen (*True*) oder getrennt (*False*) ausgegeben werden sollen.\n",
        "2. *protagonist_role_freq()* - Protagonisten-Rollen\n",
        "3. *protagonist_group_freq()* - Protagonisten-Typen/Gruppen (Individuum, Institution usw.)\n",
        "4. *protagonist_ownother_freq()* - Protagonisten-Gruppenzuschreibungen\n",
        "5. *comfunction_freq()* - Kommunikative Funktionen\n",
        "6. *demand_freq()* - Forderungstypen\n",
        "\n",
        "Alle Funktionen haben folgende Parameter:\n",
        "+ Der erste Parameter ist das Korpus. Hier einfach *corpus* stehen lassen.\n",
        "+ Der vorletzte Parameter *plot* gibt an, ob die Daten als Tabelle (*False*) oder als Säulendiagramm (*True*) visualisiert werden sollen.\n",
        "+ Der letzte Parameter *export* (*True* oder *False*) gibt an, ob die Daten als csv-Datei im derzeitigen Verzeichnis abgelegt werden sollen.\n"
      ]
    },
    {
      "cell_type": "code",
      "execution_count": null,
      "metadata": {
        "colab": {
          "base_uri": "https://localhost:8080/",
          "height": 958
        },
        "id": "t2egLxVu2l0v",
        "outputId": "e9d2d32c-8e2f-4af1-ba32-44ac0207f3d8"
      },
      "outputs": [],
      "source": [
        "astats.moral_values_freq_collection(corpus,\n",
        "                                    moral_type=\"all\",\n",
        "                                    sum_dimensions=False,\n",
        "                                    plot=True,\n",
        "                                    export=False)"
      ]
    },
    {
      "cell_type": "code",
      "execution_count": null,
      "metadata": {
        "colab": {
          "base_uri": "https://localhost:8080/",
          "height": 676
        },
        "id": "K1lN7FxpogL7",
        "outputId": "3c6d3668-034e-4bd2-a7d6-5ed68b560cd8"
      },
      "outputs": [],
      "source": [
        "astats.protagonist_role_freq_collection(corpus,\n",
        "                                        plot=True,\n",
        "                                        export=False)"
      ]
    },
    {
      "cell_type": "code",
      "execution_count": null,
      "metadata": {
        "colab": {
          "base_uri": "https://localhost:8080/",
          "height": 708
        },
        "id": "zHuMIj68pukz",
        "outputId": "449a4c8c-6ac2-4ed5-dbfb-9bb29cde0be2"
      },
      "outputs": [],
      "source": [
        "astats.protagonist_group_freq_collection(corpus,\n",
        "                                         plot=True,\n",
        "                                         export=False)"
      ]
    },
    {
      "cell_type": "code",
      "execution_count": null,
      "metadata": {
        "colab": {
          "base_uri": "https://localhost:8080/",
          "height": 630
        },
        "id": "GDYZBZuBqTYJ",
        "outputId": "ecf78977-81ff-4f5d-f52b-e2e47d13d060"
      },
      "outputs": [],
      "source": [
        "astats.protagonist_ownother_freq_collection(corpus,\n",
        "                                            plot=True,\n",
        "                                            export=False)"
      ]
    },
    {
      "cell_type": "code",
      "execution_count": null,
      "metadata": {},
      "outputs": [],
      "source": [
        "astats.comfunction_freq_collection(corpus,\n",
        "                                   plot=True,\n",
        "                                   export=False)"
      ]
    },
    {
      "cell_type": "code",
      "execution_count": null,
      "metadata": {},
      "outputs": [],
      "source": [
        "astats.demand_freq_collection(corpus,\n",
        "                              plot=True,\n",
        "                              export=False)"
      ]
    },
    {
      "cell_type": "markdown",
      "metadata": {},
      "source": [
        "## Analyse 1.5: Protagonisten-Zusammenhänge\n",
        "Die Protagonisten-Kategorie ist interessant, weil für Protagonisten gleich mehrere Label vergeben werden. Mit folgenden Funktionen kann berechnet werden, wie diese zusammenhängen."
      ]
    },
    {
      "cell_type": "markdown",
      "metadata": {},
      "source": [
        "Drei Funktionen sind verfügbar:\n",
        "1. *roles_and_groups()* - Zusammenhang zw. Rollen- und Gruppenlabel\n",
        "2. *roles_and_ownother()* - Zusammenhang zw. Rollen- und Gruppenzugehörigkeitslabel\n",
        "3. *groups_and_ownother()* - Zusammenhang zw. Gruppen- und Gruppenzugehörigkeitslabel\n",
        "\n",
        "Alle Funktionen haben folgende Parameter:\n",
        "+ Der erste Parameter ist das Korpus. Hier einfach *corpus* stehen lassen.\n",
        "+ Der vorletzte Parameter *percent* gibt an, ob die Daten als Prozent der Spaltensumme (*True*) oder nicht (*False*) ausgegeben werden sollen.\n",
        "+ Der letzte Parameter *export* (*True* oder *False*) gibt an, ob die Daten als csv-Datei im derzeitigen Verzeichnis abgelegt werden sollen."
      ]
    },
    {
      "cell_type": "code",
      "execution_count": null,
      "metadata": {
        "colab": {
          "base_uri": "https://localhost:8080/",
          "height": 310
        },
        "id": "C1k5M3fR3Dpj",
        "outputId": "ff0d5d83-f4c0-4709-8b82-5aa2d34d6936"
      },
      "outputs": [],
      "source": [
        "astats.roles_and_groups_collection(corpus,\n",
        "                                   percent=False,\n",
        "                                   export=False)"
      ]
    },
    {
      "cell_type": "code",
      "execution_count": null,
      "metadata": {},
      "outputs": [],
      "source": [
        "astats.roles_and_ownother_collection(corpus,\n",
        "                                     percent=False,\n",
        "                                     export=False)"
      ]
    },
    {
      "cell_type": "code",
      "execution_count": null,
      "metadata": {},
      "outputs": [],
      "source": [
        "astats.groups_and_ownother_collection(corpus,\n",
        "                                      percent=False,\n",
        "                                      export=False)"
      ]
    },
    {
      "cell_type": "markdown",
      "metadata": {
        "id": "hlmIImk53tgE"
      },
      "source": [
        "## Analyse 2: Label-Kookkurenzen\n",
        "Mit folgender Funktion kann ermittelt werden, ob manche Label überzufällig häufig mit anderen Label auftauchen."
      ]
    },
    {
      "cell_type": "markdown",
      "metadata": {},
      "source": [
        "Die Funktion *association_measure* berechnet PMI (pointwise mutual information) für die Label-Okkurenzen innerhalb von moralisierenden Spans.\n",
        "\n",
        "Die Funktion *association_measure* hat folgende Parameter:\n",
        "+ Der erste Parameter ist das Korpus. Hier einfach *corpus* stehen lassen.\n",
        "+ Der zweite und der dritte Parameter sind die Label, deren Kookurrenzen innerhalb von Moralisierungen untersucht werden sollen. Folgende Label stehen zur Verfügung:\n",
        "    + obj_morals\n",
        "    + subj_morals\n",
        "    + all_morals\n",
        "    + prot_roles\n",
        "    + prot_groups\n",
        "    + prot_ownother\n",
        "    + com_functions\n",
        "    + demands\n",
        "+ Der Parameter *significance* gibt an, ob zusätzlich zum PMI das statistische Signifikanzniveau der Verteilung (mittels Fischers Exaktem Text) berechnet werden soll.\n",
        "+ Der letzte Parameter *export* (*True* oder *False*) gibt an, ob die Daten als csv-Datei im derzeitigen Verzeichnis abgelegt werden sollen."
      ]
    },
    {
      "cell_type": "code",
      "execution_count": null,
      "metadata": {},
      "outputs": [],
      "source": [
        "astats.association_measure_collection(corpus,\n",
        "                                      \"com_functions\",\n",
        "                                      \"demands\",\n",
        "                                      significance=True,\n",
        "                                      export=False)"
      ]
    }
  ],
  "metadata": {
    "colab": {
      "provenance": []
    },
    "kernelspec": {
      "display_name": "Python 3",
      "name": "python3"
    },
    "language_info": {
      "codemirror_mode": {
        "name": "ipython",
        "version": 3
      },
      "file_extension": ".py",
      "mimetype": "text/x-python",
      "name": "python",
      "nbconvert_exporter": "python",
      "pygments_lexer": "ipython3",
      "version": "3.10.6"
    }
  },
  "nbformat": 4,
  "nbformat_minor": 0
}
