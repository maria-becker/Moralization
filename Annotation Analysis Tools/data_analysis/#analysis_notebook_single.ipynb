{
  "cells": [
    {
      "cell_type": "markdown",
      "metadata": {
        "id": "MKYTYetQ3jKf"
      },
      "source": [
        "# Daten-Visualisierung (Subkorpus)\n",
        "\n",
        "Das vorliegende Jupyter-Notebook dient dazu, Statistiken zu den Korpus-Annotationen zu visualisieren.\n",
        "Die Funktionalität beschränkt sich auf einzelne Subkorpora (in der Form von XMI-Dateien). Für Methoden, mehrere Subkorpora auf einmal zu analysieren, siehe ???."
      ]
    },
    {
      "cell_type": "markdown",
      "metadata": {
        "id": "7c31rG4iq1Ii"
      },
      "source": [
        "## Setup"
      ]
    },
    {
      "cell_type": "markdown",
      "metadata": {
        "id": "16bhVxm6wx62"
      },
      "source": [
        "Setup. Muss ausgeführt werden, wenn das Notebook in Colab ausgeführt wird."
      ]
    },
    {
      "cell_type": "code",
      "execution_count": null,
      "metadata": {
        "colab": {
          "base_uri": "https://localhost:8080/"
        },
        "id": "1EP1ncFKwvDC",
        "outputId": "93f81241-4e56-4873-8019-56b17ade6f22"
      },
      "outputs": [],
      "source": [
        "from google.colab import drive\n",
        "drive.mount('/content/drive')\n",
        "!git clone https://github.com/maria-becker/Moralization/\n",
        "%cd \"/content/Moralization/Annotation Analysis Tools/data_analysis\""
      ]
    },
    {
      "cell_type": "markdown",
      "metadata": {},
      "source": [
        "Die import-Statements müssen immer ausgeführt werden."
      ]
    },
    {
      "cell_type": "code",
      "execution_count": 1,
      "metadata": {},
      "outputs": [],
      "source": [
        "import annotation_stats_single as astats\n",
        "import corpus_extraction as ce\n",
        "import label_analysis as la"
      ]
    },
    {
      "cell_type": "markdown",
      "metadata": {
        "id": "fdSH1AfA0Yk4"
      },
      "source": [
        "Hier bitte den Dateipfad zur hochgeladenen XMI-Datei spezifizieren.\n",
        "*Am einfachsten die Datei im Ordersystem rechtsklicken und dann -> 'Pfad kopieren'. Und unbedingt den Pfad in Anführungszeichen setzen und davor ein kleines \"r\"!*"
      ]
    },
    {
      "cell_type": "code",
      "execution_count": 2,
      "metadata": {
        "id": "NXxmU4ANx-Gk"
      },
      "outputs": [],
      "source": [
        "filepath = r\"C:\\Users\\Arbeit\\Desktop\\Coding Projects\\Moralization_Git\\documents-export-2023-01-25\\Leserbriefe-neg-BB-neu-optimiert-RR.xmi\"\n",
        "corpus = ce.CorpusData(filepath)"
      ]
    },
    {
      "cell_type": "markdown",
      "metadata": {
        "id": "wVUmwlIH1voq"
      },
      "source": [
        "## Analyse 1: Frequenzen"
      ]
    },
    {
      "cell_type": "markdown",
      "metadata": {
        "id": "Oof8BHQb4n1l"
      },
      "source": [
        "Die folgende Funktion gibt an, **wie häufig es ist, dass ein Label n Mal in einer Moralisierung vergeben wird** (*Beispiel: Oft gibt es zwei Protagonisten in einer Moralisierung, aber nur selten sechs oder sieben.*).\n",
        "\n",
        "+ Der erste Parameter ist das Korpus. Hier einfach *corpus* stehen lassen.\n",
        "+ Der zweite Parameter - *label_type* - ist die Kategorie des Phänomens, von denen wir wissen wollen, wie oft sie in den Moralisierungen auftauchen. Verwendet werden können:\n",
        "  + *obj_morals*: Alle Moralwerte, die keine subjektiven Ausdrücke sind\n",
        "  + *subj_morals*: Moralwerte, die subjektive Ausdrücke sind\n",
        "  + *all_morals*: Alle Moralwerte\n",
        "  + *protagonists*: Alle Protagonisten-Token\n",
        "  + *protagonists_doubles*: Alle Protagonisten-Rollen (Achtung: manche Protagonisten-Token werden dabei doppelt gezählt - nämlich, wenn sie mehrere Rollen haben)\n",
        "  + *com_functions*: Kommunikative Funktionen\n",
        "  + *expl_demands*: Explizite Forderungen\n",
        "  + *impl_demands*: Implizite Forderungen\n",
        "  + *all_demands*: Alle Forderungen\n",
        "+ Der Parameter *plot* gibt an, ob die Daten als Tabelle (*False*) oder als Säulendiagramm (*True*) visualisiert werden sollen.\n",
        "+ Der Parameter *export* (*True* oder *False*) gibt an, ob die Daten als csv-Datei im derzeitigen Verzeichnis abgelegt werden sollen.\n"
      ]
    },
    {
      "cell_type": "code",
      "execution_count": null,
      "metadata": {
        "colab": {
          "base_uri": "https://localhost:8080/"
        },
        "id": "Ojzq3Ny76mgT",
        "outputId": "66876f83-58c0-4761-ed89-509837f49853"
      },
      "outputs": [],
      "source": [
        "astats.freq_inside_spans(corpus, label_type=\"impl_demands\", plot=False)"
      ]
    },
    {
      "cell_type": "markdown",
      "metadata": {
        "id": "iquC12oujQEH"
      },
      "source": [
        "---\n",
        "\n",
        "Die folgende Funktionen wertet die **Häufigkeiten verschiedener Label einer Kategorie** aus. Es gibt folgende Funktionen:\n",
        "1. *moral_values_freq()* - Moralwerte\n",
        "   + Hier ist zu beachten, welche Moralwerte *(\"all\", \"obj\" oder \"subj.\" ausgewertet werden sollen). Es wird mit dem Parameter *moral_type* weitergegeben.\n",
        "   + *sum_dimensions* gibt an, ob MFT-Dimensionspaare (z.B. Care-Harm) zusammen (*True*) oder getrennt (*False*) ausgegeben werden sollen.\n",
        "2. *protagonist_role_freq()* - Protagonisten-Rollen\n",
        "   + Weil das Tagset für das Deutsche (\"de\") anders ist als für andere Sprachen, muss hier die Sprache angegeben werden\n",
        "3. *protagonist_group_freq()* - Protagonisten-Typen/Gruppen (Individuum, Institution usw.)\n",
        "4. *protagonist_ownother_freq()* - Protagonisten-Gruppenzuschreibungen\n",
        "5. *comfunction_freq()* - Kommunikative Funktionen\n",
        "   + Weil das Tagset für das Deutsche (\"de\") anders ist als für andere Sprachen, muss hier die Sprache angegeben werden\n",
        "6. *demand_freq()* - Forderungstypen\n",
        "\n",
        "Alle Funktionen haben folgende Parameter:\n",
        "+ Der erste Parameter ist das Korpus. Hier einfach *corpus* stehen lassen.\n",
        "+ Der vorletzte Parameter *plot* gibt an, ob die Daten als Tabelle (*False*) oder als Säulendiagramm (*True*) visualisiert werden sollen.\n",
        "+ Der letzte Parameter *export* (*True* oder *False*) gibt an, ob die Daten als csv-Datei im derzeitigen Verzeichnis abgelegt werden sollen.\n"
      ]
    },
    {
      "cell_type": "code",
      "execution_count": null,
      "metadata": {
        "colab": {
          "base_uri": "https://localhost:8080/",
          "height": 958
        },
        "id": "t2egLxVu2l0v",
        "outputId": "e9d2d32c-8e2f-4af1-ba32-44ac0207f3d8"
      },
      "outputs": [],
      "source": [
        "astats.moral_values_freq(corpus,\n",
        "                         moral_type=\"all\",\n",
        "                         sum_dimensions=False,\n",
        "                         plot=True,\n",
        "                         export=False)"
      ]
    },
    {
      "cell_type": "code",
      "execution_count": null,
      "metadata": {
        "colab": {
          "base_uri": "https://localhost:8080/",
          "height": 676
        },
        "id": "K1lN7FxpogL7",
        "outputId": "3c6d3668-034e-4bd2-a7d6-5ed68b560cd8"
      },
      "outputs": [],
      "source": [
        "astats.protagonist_role_freq(corpus,\n",
        "                             language=\"de\",\n",
        "                             plot=True,\n",
        "                             export=False)"
      ]
    },
    {
      "cell_type": "code",
      "execution_count": null,
      "metadata": {
        "colab": {
          "base_uri": "https://localhost:8080/",
          "height": 708
        },
        "id": "zHuMIj68pukz",
        "outputId": "449a4c8c-6ac2-4ed5-dbfb-9bb29cde0be2"
      },
      "outputs": [],
      "source": [
        "astats.protagonist_group_freq(corpus,\n",
        "                              plot=True,\n",
        "                              export=False)"
      ]
    },
    {
      "cell_type": "code",
      "execution_count": null,
      "metadata": {
        "colab": {
          "base_uri": "https://localhost:8080/",
          "height": 630
        },
        "id": "GDYZBZuBqTYJ",
        "outputId": "ecf78977-81ff-4f5d-f52b-e2e47d13d060"
      },
      "outputs": [],
      "source": [
        "astats.protagonist_ownother_freq(corpus,\n",
        "                                 plot=True,\n",
        "                                 export=False)"
      ]
    },
    {
      "cell_type": "code",
      "execution_count": null,
      "metadata": {},
      "outputs": [],
      "source": [
        "astats.comfunction_freq(corpus,\n",
        "                        language=\"de\",\n",
        "                        plot=True,\n",
        "                        export=False)"
      ]
    },
    {
      "cell_type": "code",
      "execution_count": null,
      "metadata": {},
      "outputs": [],
      "source": [
        "astats.demand_freq(corpus,\n",
        "                   plot=True,\n",
        "                   export=False)"
      ]
    },
    {
      "cell_type": "markdown",
      "metadata": {},
      "source": [
        "## Analyse 1.5: Protagonisten-Zusammenhänge\n",
        "Die Protagonisten-Kategorie ist interessant, weil für Protagonisten gleich mehrere Label vergeben werden. Mit folgenden Funktionen kann berechnet werden, wie diese zusammenhängen."
      ]
    },
    {
      "cell_type": "markdown",
      "metadata": {},
      "source": [
        "Drei Funktionen sind verfügbar:\n",
        "1. *roles_and_groups()* - Zusammenhang zw. Rollen- und Gruppenlabel\n",
        "   + Weil das Tagset für das Deutsche (\"de\") anders ist als für andere Sprachen, muss hier die Sprache angegeben werden\n",
        "2. *roles_and_ownother()* - Zusammenhang zw. Rollen- und Gruppenzugehörigkeitslabel\n",
        "    + Weil das Tagset für das Deutsche (\"de\") anders ist als für andere Sprachen, muss hier die Sprache angegeben werden\n",
        "3. *groups_and_ownother()* - Zusammenhang zw. Gruppen- und Gruppenzugehörigkeitslabel\n",
        "\n",
        "Alle Funktionen haben folgende Parameter:\n",
        "+ Der erste Parameter ist das Korpus. Hier einfach *corpus* stehen lassen.\n",
        "+ Der vorletzte Parameter *percent* gibt an, ob die Daten als Prozent der Spaltensumme (*True*) oder nicht (*False*) ausgegeben werden sollen.\n",
        "+ Der letzte Parameter *export* (*True* oder *False*) gibt an, ob die Daten als csv-Datei im derzeitigen Verzeichnis abgelegt werden sollen."
      ]
    },
    {
      "cell_type": "code",
      "execution_count": null,
      "metadata": {
        "colab": {
          "base_uri": "https://localhost:8080/",
          "height": 310
        },
        "id": "C1k5M3fR3Dpj",
        "outputId": "ff0d5d83-f4c0-4709-8b82-5aa2d34d6936"
      },
      "outputs": [],
      "source": [
        "astats.roles_and_groups(corpus,\n",
        "                        language=\"de\",\n",
        "                        percent=False,\n",
        "                        export=False)"
      ]
    },
    {
      "cell_type": "code",
      "execution_count": null,
      "metadata": {},
      "outputs": [],
      "source": [
        "astats.roles_and_ownother(corpus,\n",
        "                          language=\"de\",\n",
        "                          percent=False,\n",
        "                          export=False)"
      ]
    },
    {
      "cell_type": "code",
      "execution_count": null,
      "metadata": {},
      "outputs": [],
      "source": [
        "astats.groups_and_ownother(corpus,\n",
        "                          percent=False,\n",
        "                          export=False)"
      ]
    },
    {
      "cell_type": "markdown",
      "metadata": {
        "id": "hlmIImk53tgE"
      },
      "source": [
        "## Analyse 2: Label-Kookkurenzen\n",
        "Mit folgender Funktion kann ermittelt werden, ob manche Label überzufällig häufig mit anderen Label auftauchen."
      ]
    },
    {
      "cell_type": "markdown",
      "metadata": {},
      "source": [
        "Die Funktion *association_measure* berechnet PMI (pointwise mutual information) der Label-Okkurenzen innerhalb von moralisierenden Spans.\n",
        "\n",
        "Die Funktion *association_measure* hat folgende Parameter:\n",
        "+ Der erste Parameter ist das Korpus. Hier einfach *corpus* stehen lassen.\n",
        "+ Der zweite und der dritte Parameter sind die Label, deren Kookurrenzen innerhalb von Moralisierungen untersucht werden sollen. Folgende Label stehen zur Verfügung:\n",
        "    + obj_morals\n",
        "    + subj_morals\n",
        "    + all_morals\n",
        "    + prot_roles\n",
        "    + prot_groups\n",
        "    + prot_ownother\n",
        "    + com_functions\n",
        "    + demands\n",
        "+ Der Parameter *significance* gibt an, ob zusätzlich zum PMI das statistische Signifikanzniveau der Verteilung (mittels Fischers Exaktem Text) berechnet werden soll.\n",
        "+ Der letzte Parameter *export* (*True* oder *False*) gibt an, ob die Daten als csv-Datei im derzeitigen Verzeichnis abgelegt werden sollen."
      ]
    },
    {
      "cell_type": "code",
      "execution_count": 8,
      "metadata": {},
      "outputs": [
        {
          "name": "stdout",
          "output_type": "stream",
          "text": [
            "KeyError: {'Coordinates': (222331, 222503), 'Category': 'Darstellung'} -- Is the label inside a moralization?\n",
            "KeyError: {'Coordinates': (233482, 233835), 'Category': 'Expression'} -- Is the label inside a moralization?\n",
            "KeyError: {'Coordinates': (240132, 240333), 'Category': 'Appell'} -- Is the label inside a moralization?\n",
            "KeyError: {'Coordinates': (370960, 371226), 'Category': 'Appell'} -- Is the label inside a moralization?\n",
            "KeyError: {'Coordinates': (240132, 240333), 'Category': 'explizit'} -- Is the label inside a moralization?\n",
            "KeyError: {'Coordinates': (222331, 222503), 'Text': 'Die katholische Kirche soll nicht angefeindet werden.', 'Category': 'implizit'} -- Is the label inside a moralization?\n"
          ]
        },
        {
          "data": {
            "text/html": [
              "<div>\n",
              "<style scoped>\n",
              "    .dataframe tbody tr th:only-of-type {\n",
              "        vertical-align: middle;\n",
              "    }\n",
              "\n",
              "    .dataframe tbody tr th {\n",
              "        vertical-align: top;\n",
              "    }\n",
              "\n",
              "    .dataframe thead tr th {\n",
              "        text-align: left;\n",
              "    }\n",
              "</style>\n",
              "<table border=\"1\" class=\"dataframe\">\n",
              "  <thead>\n",
              "    <tr>\n",
              "      <th></th>\n",
              "      <th colspan=\"2\" halign=\"left\">implizit</th>\n",
              "      <th colspan=\"2\" halign=\"left\">explizit</th>\n",
              "    </tr>\n",
              "    <tr>\n",
              "      <th></th>\n",
              "      <th>Sig</th>\n",
              "      <th>PMI</th>\n",
              "      <th>Sig</th>\n",
              "      <th>PMI</th>\n",
              "    </tr>\n",
              "  </thead>\n",
              "  <tbody>\n",
              "    <tr>\n",
              "      <th>Appell</th>\n",
              "      <td>0.0</td>\n",
              "      <td>-0.594523</td>\n",
              "      <td>0.0</td>\n",
              "      <td>0.813319</td>\n",
              "    </tr>\n",
              "    <tr>\n",
              "      <th>Beziehung</th>\n",
              "      <td>1.0</td>\n",
              "      <td>-inf</td>\n",
              "      <td>1.0</td>\n",
              "      <td>-inf</td>\n",
              "    </tr>\n",
              "    <tr>\n",
              "      <th>Darstellung</th>\n",
              "      <td>0.000002</td>\n",
              "      <td>0.238979</td>\n",
              "      <td>0.000645</td>\n",
              "      <td>-0.162906</td>\n",
              "    </tr>\n",
              "    <tr>\n",
              "      <th>Expression</th>\n",
              "      <td>1.0</td>\n",
              "      <td>-0.004916</td>\n",
              "      <td>0.246188</td>\n",
              "      <td>0.081114</td>\n",
              "    </tr>\n",
              "    <tr>\n",
              "      <th>Appell+Beziehung</th>\n",
              "      <td>1.0</td>\n",
              "      <td>-inf</td>\n",
              "      <td>1.0</td>\n",
              "      <td>-inf</td>\n",
              "    </tr>\n",
              "    <tr>\n",
              "      <th>Appell+Darstellung</th>\n",
              "      <td>1.0</td>\n",
              "      <td>-inf</td>\n",
              "      <td>1.0</td>\n",
              "      <td>-inf</td>\n",
              "    </tr>\n",
              "    <tr>\n",
              "      <th>Appell+Expression</th>\n",
              "      <td>1.0</td>\n",
              "      <td>-inf</td>\n",
              "      <td>1.0</td>\n",
              "      <td>-inf</td>\n",
              "    </tr>\n",
              "  </tbody>\n",
              "</table>\n",
              "</div>"
            ],
            "text/plain": [
              "                    implizit            explizit          \n",
              "                         Sig       PMI       Sig       PMI\n",
              "Appell                   0.0 -0.594523       0.0  0.813319\n",
              "Beziehung                1.0      -inf       1.0      -inf\n",
              "Darstellung         0.000002  0.238979  0.000645 -0.162906\n",
              "Expression               1.0 -0.004916  0.246188  0.081114\n",
              "Appell+Beziehung         1.0      -inf       1.0      -inf\n",
              "Appell+Darstellung       1.0      -inf       1.0      -inf\n",
              "Appell+Expression        1.0      -inf       1.0      -inf"
            ]
          },
          "execution_count": 8,
          "metadata": {},
          "output_type": "execute_result"
        }
      ],
      "source": [
        "astats.association_measure(corpus,\n",
        "                           \"com_functions\",\n",
        "                           \"demands\",\n",
        "                           significance=True,\n",
        "                           export=False)"
      ]
    }
  ],
  "metadata": {
    "colab": {
      "provenance": []
    },
    "kernelspec": {
      "display_name": "Python 3",
      "name": "python3"
    },
    "language_info": {
      "codemirror_mode": {
        "name": "ipython",
        "version": 3
      },
      "file_extension": ".py",
      "mimetype": "text/x-python",
      "name": "python",
      "nbconvert_exporter": "python",
      "pygments_lexer": "ipython3",
      "version": "3.10.0"
    }
  },
  "nbformat": 4,
  "nbformat_minor": 0
}
